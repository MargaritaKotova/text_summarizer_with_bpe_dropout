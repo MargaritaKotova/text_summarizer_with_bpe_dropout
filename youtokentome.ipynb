{
 "cells": [
  {
   "cell_type": "code",
   "execution_count": 2,
   "metadata": {
    "id": "Qjy497R2bhIQ"
   },
   "outputs": [],
   "source": [
    "import youtokentome as yttm"
   ]
  },
  {
   "cell_type": "code",
   "execution_count": 3,
   "metadata": {
    "id": "p6j3OIIgbl_p"
   },
   "outputs": [],
   "source": [
    "train_data_path='/content/drive/My Drive/Colab Notebooks/for_bpe/test_amazon_2_add.txt'\n",
    "model_path = '/content/drive/My Drive/Colab Notebooks/bpe_trained.model'"
   ]
  },
  {
   "cell_type": "markdown",
   "metadata": {},
   "source": [
    "Trains BPE model and saves to file.\n",
    "\n",
    "#### Args\n",
    "\n",
    "model: string, path to where the trained model will be saved\n",
    "\n",
    "vocab_size: int, number of tokens in the final vocabulary"
   ]
  },
  {
   "cell_type": "code",
   "execution_count": 6,
   "metadata": {
    "colab": {
     "base_uri": "https://localhost:8080/"
    },
    "id": "oE3KpItIbqzQ",
    "outputId": "f044a376-49c4-4722-b3ae-b0c8340c1baf"
   },
   "outputs": [
    {
     "data": {
      "text/plain": [
       "<youtokentome.youtokentome.BPE at 0x7f6b786c9358>"
      ]
     },
     "execution_count": 6,
     "metadata": {
      "tags": []
     },
     "output_type": "execute_result"
    }
   ],
   "source": [
    "# Training model\n",
    "yttm.BPE.train(data=train_data_path, vocab_size=52000, model=model_path)"
   ]
  },
  {
   "cell_type": "markdown",
   "metadata": {
    "colab": {
     "base_uri": "https://localhost:8080/"
    },
    "id": "y3Ahk00dcOfN",
    "outputId": "043b088a-0dad-4ef6-b908-c901e0cfa3da"
   },
   "source": [
    "### Model loading"
   ]
  },
  {
   "cell_type": "code",
   "execution_count": 7,
   "metadata": {
    "id": "k4GE67wIceUy"
   },
   "outputs": [],
   "source": [
    "bpe = yttm.BPE(model=model_path)"
   ]
  },
  {
   "cell_type": "code",
   "execution_count": 8,
   "metadata": {
    "colab": {
     "base_uri": "https://localhost:8080/"
    },
    "id": "HuWZkVjMrUNX",
    "outputId": "bb817328-4f5c-40c2-8fb1-93c612f916b2"
   },
   "outputs": [
    {
     "name": "stdout",
     "output_type": "stream",
     "text": [
      "[['▁i', '▁love', '▁this', '▁flavor', '▁of', '▁ramen', '▁i', '▁dont', '▁eat', '▁other', '▁flavors', '▁anymore', '▁because', '▁they', '▁taste', '▁too', '▁bland', '▁by', '▁comparison', '▁for', '▁the', '▁convenience', '▁of', '▁having', '▁it', '▁delivered', '▁to', '▁my', '▁home', '▁the', '▁price', '▁on', '▁amazon']]\n"
     ]
    }
   ],
   "source": [
    "print(bpe.encode(['i love this flavor of ramen i dont eat other flavors anymore because they taste too bland by comparison for the convenience of having it delivered to my home the price on amazon '], output_type=yttm.OutputType.SUBWORD))"
   ]
  },
  {
   "cell_type": "code",
   "execution_count": 9,
   "metadata": {
    "colab": {
     "base_uri": "https://localhost:8080/"
    },
    "id": "R5vnVbParbE5",
    "outputId": "d43cb683-0d36-4189-ff96-22b215965c03"
   },
   "outputs": [
    {
     "name": "stdout",
     "output_type": "stream",
     "text": [
      "[['▁i', '▁love', '▁this', '▁flavor', '▁of', '▁ramen', '▁i', '▁do', 'nt', '▁eat', '▁other', '▁flavors', '▁any', 'mor', 'e', '▁because', '▁they', '▁taste', '▁t', 'oo', '▁blan', 'd', '▁by', '▁comparison', '▁for', '▁the', '▁convenience', '▁of', '▁having', '▁it', '▁delivered', '▁to', '▁my', '▁home', '▁the', '▁price', '▁on', '▁amazon']]\n"
     ]
    }
   ],
   "source": [
    "print(bpe.encode(['i love this flavor of ramen i dont eat other flavors anymore because they taste too bland by comparison for the convenience of having it delivered to my home the price on amazon '], output_type=yttm.OutputType.SUBWORD, dropout_prob=0.1))"
   ]
  },
  {
   "cell_type": "code",
   "execution_count": null,
   "metadata": {
    "id": "I159n3eNsQfy"
   },
   "outputs": [],
   "source": []
  }
 ],
 "metadata": {
  "colab": {
   "name": "youtokentome.ipynb",
   "provenance": []
  },
  "kernelspec": {
   "display_name": "Python 3",
   "language": "python",
   "name": "python3"
  },
  "language_info": {
   "codemirror_mode": {
    "name": "ipython",
    "version": 3
   },
   "file_extension": ".py",
   "mimetype": "text/x-python",
   "name": "python",
   "nbconvert_exporter": "python",
   "pygments_lexer": "ipython3",
   "version": "3.7.7"
  }
 },
 "nbformat": 4,
 "nbformat_minor": 1
}
