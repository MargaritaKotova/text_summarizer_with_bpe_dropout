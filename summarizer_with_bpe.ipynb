{
 "cells": [
  {
   "cell_type": "code",
   "execution_count": 1,
   "metadata": {
    "colab": {
     "base_uri": "https://localhost:8080/"
    },
    "id": "k200sBXmWaUB",
    "outputId": "a5556bb3-2985-4912-be0e-4586a4c08b65"
   },
   "outputs": [],
   "source": [
    "# from google.colab import drive\n",
    "# drive.mount('/content/drive/')"
   ]
  },
  {
   "cell_type": "code",
   "execution_count": 2,
   "metadata": {
    "colab": {
     "base_uri": "https://localhost:8080/"
    },
    "id": "4fgjYheOWcXv",
    "outputId": "3df8ba80-51cb-4fc9-e304-505a531499ed"
   },
   "outputs": [
    {
     "name": "stdout",
     "output_type": "stream",
     "text": [
      "/bin/bash: google-drive-ocamlfuse: command not found\n"
     ]
    }
   ],
   "source": [
    "# !mkdir -p drive\n",
    "# !google-drive-ocamlfuse drive"
   ]
  },
  {
   "cell_type": "code",
   "execution_count": 2,
   "metadata": {
    "id": "mFEhO9clWg7N"
   },
   "outputs": [],
   "source": [
    "#!cp \"/content/drive/My Drive/Colab Notebooks/attention_keras/src/layers/attention.py\" ."
   ]
  },
  {
   "cell_type": "code",
   "execution_count": 4,
   "metadata": {
    "id": "JNiDGgv1Vds1"
   },
   "outputs": [],
   "source": [
    "import attention"
   ]
  },
  {
   "cell_type": "markdown",
   "metadata": {
    "id": "oAUmg9QpUUZ9"
   },
   "source": [
    "AttentionLayer was taken from here https://github.com/thushv89/attention_keras"
   ]
  },
  {
   "cell_type": "code",
   "execution_count": 5,
   "metadata": {
    "id": "kRbQbqsU59R7"
   },
   "outputs": [],
   "source": [
    "from attention import AttentionLayer"
   ]
  },
  {
   "cell_type": "code",
   "execution_count": 6,
   "metadata": {
    "_cell_guid": "b1076dfc-b9ad-4769-8c92-a6c4dae69d19",
    "_uuid": "8f2839f25d086af736a60e9eeb907d3b93b6e0e5",
    "id": "_Jpu8qLEFxcY"
   },
   "outputs": [],
   "source": [
    "import numpy as np\n",
    "import pandas as pd \n",
    "import re\n",
    "from bs4 import BeautifulSoup\n",
    "from keras.preprocessing.text import Tokenizer \n",
    "from keras.preprocessing.sequence import pad_sequences\n",
    "from nltk.corpus import stopwords\n",
    "from tensorflow.keras.layers import Input, LSTM, Embedding, Dense, Concatenate, TimeDistributed, Bidirectional\n",
    "from tensorflow.keras.models import Model\n",
    "from tensorflow.keras.callbacks import EarlyStopping\n",
    "import warnings\n",
    "pd.set_option(\"display.max_colwidth\", 200)\n",
    "warnings.filterwarnings(\"ignore\")\n",
    "from os import listdir"
   ]
  },
  {
   "cell_type": "code",
   "execution_count": 7,
   "metadata": {
    "colab": {
     "base_uri": "https://localhost:8080/",
     "height": 35
    },
    "id": "E2zwYkd48mwk",
    "outputId": "5febe136-16c8-4660-fefd-395b257e031d"
   },
   "outputs": [
    {
     "data": {
      "application/vnd.google.colaboratory.intrinsic+json": {
       "type": "string"
      },
      "text/plain": [
       "'2.3.0'"
      ]
     },
     "execution_count": 7,
     "metadata": {
      "tags": []
     },
     "output_type": "execute_result"
    }
   ],
   "source": [
    "import tensorflow as tf\n",
    "tf.__version__"
   ]
  },
  {
   "cell_type": "markdown",
   "metadata": {
    "id": "UVakjZ3oICgx"
   },
   "source": [
    "#Read the dataset\n",
    "\n",
    "CNN daily mail dataset consists of long news articles(an average of ~800 words). It consists of both articles and summaries of those articles."
   ]
  },
  {
   "cell_type": "code",
   "execution_count": 8,
   "metadata": {
    "id": "VevOwSP3_alh"
   },
   "outputs": [],
   "source": [
    "import zipfile\n",
    "import os"
   ]
  },
  {
   "cell_type": "code",
   "execution_count": 9,
   "metadata": {
    "id": "AfXrIG65JMW_"
   },
   "outputs": [],
   "source": [
    "zpfile = '/content/drive/My Drive/Colab Notebooks/cnn_stories.zip'\n",
    "z = zipfile.ZipFile(zpfile, 'r')\n",
    "z.extractall()"
   ]
  },
  {
   "cell_type": "code",
   "execution_count": null,
   "metadata": {
    "colab": {
     "base_uri": "https://localhost:8080/",
     "height": 33
    },
    "id": "iFsMuSP9UUae",
    "outputId": "5a4cd9f8-cdd6-4671-8f17-d505287a7d17"
   },
   "outputs": [
    {
     "name": "stdout",
     "output_type": "stream",
     "text": [
      "Loaded Stories 92579\n"
     ]
    }
   ],
   "source": [
    "# load doc into memory\n",
    "def load_doc(filename):\n",
    "\t# open the file as read only\n",
    "\n",
    "\tfile = open(filename, encoding='utf-8')\n",
    "\t# read all text\n",
    "\ttext = file.read()\n",
    "\t# close the file\n",
    "\tfile.close()\n",
    "\treturn text\n",
    " \n",
    "# split a document into news story and highlights\n",
    "def split_story(doc):\n",
    "\t# find first highlight\n",
    "\tindex = doc.find('@highlight')\n",
    "\t# split into story and highlights\n",
    "\tstory, highlights = doc[:index], doc[index:].split('@highlight')\n",
    "\t# strip extra white space around each highlight\n",
    "\thighlights = [h.strip() for h in highlights if len(h) > 0]\n",
    "\treturn story, highlights\n",
    " \n",
    "# load all stories in a directory\n",
    "def load_stories(directory):\n",
    "\tstories = list()\n",
    "\tfor name in listdir(directory):\n",
    "\t\tfilename = directory + '/' + name\n",
    "\t\t# load document\n",
    "\t\tdoc = load_doc(filename)\n",
    "\t\t# split into story and highlights\n",
    "\t\tstory, highlights = split_story(doc)\n",
    "\t\t# store\n",
    "\t\tstories.append({'story':story, 'highlights':highlights})\n",
    "\treturn stories\n",
    " \n",
    "# load stories\n",
    "directory = 'cnn_stories/cnn/stories/'\n",
    "stories = load_stories(directory)\n",
    "print('Loaded Stories %d' % len(stories))"
   ]
  },
  {
   "cell_type": "code",
   "execution_count": null,
   "metadata": {
    "id": "h4n4H9tj7o-o"
   },
   "outputs": [],
   "source": [
    "zpfile_1 = '/content/drive/My Drive/Colab Notebooks/dailymail_stories.zip'\n",
    "z = zipfile.ZipFile(zpfile_1, 'r')\n",
    "z.extractall()"
   ]
  },
  {
   "cell_type": "code",
   "execution_count": null,
   "metadata": {
    "colab": {
     "base_uri": "https://localhost:8080/",
     "height": 33
    },
    "id": "H1lkur7w7kXj",
    "outputId": "f997efb0-f065-487b-d5e5-974671219068"
   },
   "outputs": [
    {
     "name": "stdout",
     "output_type": "stream",
     "text": [
      "Loaded Stories 219506\n"
     ]
    }
   ],
   "source": [
    "directory = 'dailymail_stories/dailymail/stories/'\n",
    "stories_dailymail = load_stories(directory)\n",
    "print('Loaded Stories %d' % len(stories_dailymail))"
   ]
  },
  {
   "cell_type": "code",
   "execution_count": null,
   "metadata": {
    "id": "p4J_ZQc6UUal"
   },
   "outputs": [],
   "source": [
    "import string\n",
    "\n",
    "\n",
    "# clean a list of lines\n",
    "def clean_lines(lines):\n",
    "\tcleaned = list()\n",
    "\t# prepare a translation table to remove punctuation\n",
    "\ttable = str.maketrans('', '', string.punctuation)\n",
    "\tfor line in lines:\n",
    "\t\t# strip source cnn office if it exists\n",
    "\t\tindex = line.find('(CNN) -- ')\n",
    "\t\tif index > -1:\n",
    "\t\t\tline = line[index+len('(CNN)'):]\n",
    "\t\t# tokenize on white space\n",
    "\t\tline = line.split()\n",
    "\t\t# convert to lower case\n",
    "\t\tline = [word.lower() for word in line]\n",
    "\t\t# remove punctuation from each token\n",
    "\t\tline = [w.translate(table) for w in line]\n",
    "\t\t# remove tokens with numbers in them\n",
    "\t\tline = [word for word in line if word.isalpha()]\n",
    "\t\t# store as string\n",
    "\t\tcleaned.append(' '.join(line))\n",
    "\t# remove empty strings\n",
    "\tcleaned = [c for c in cleaned if len(c) > 0]\n",
    "\treturn cleaned\n",
    "\n",
    "# clean stories\n",
    "for example in stories:\n",
    "\texample['story'] = clean_lines(example['story'].split('\\n'))\n",
    "\texample['highlights'] = clean_lines(example['highlights'])"
   ]
  },
  {
   "cell_type": "code",
   "execution_count": null,
   "metadata": {
    "id": "Gfi7Th6J02v8"
   },
   "outputs": [],
   "source": [
    "data_cnn= pd.DataFrame(stories)"
   ]
  },
  {
   "cell_type": "code",
   "execution_count": null,
   "metadata": {
    "id": "poQvLW6ZDVs3"
   },
   "outputs": [],
   "source": [
    "# clean stories\n",
    "for example in stories_dailymail:\n",
    "\texample['story'] = clean_lines(example['story'].split('\\n'))\n",
    "\texample['highlights'] = clean_lines(example['highlights'])"
   ]
  },
  {
   "cell_type": "code",
   "execution_count": null,
   "metadata": {
    "id": "__z3oDlZDm9s"
   },
   "outputs": [],
   "source": [
    "data_dailymail= pd.DataFrame(stories_dailymail)"
   ]
  },
  {
   "cell_type": "code",
   "execution_count": null,
   "metadata": {
    "colab": {
     "base_uri": "https://localhost:8080/",
     "height": 274
    },
    "id": "ZKFUdb4oEJ46",
    "outputId": "5b58a941-9f88-47df-cd2c-49062699768e"
   },
   "outputs": [
    {
     "data": {
      "text/html": [
       "<div>\n",
       "<style scoped>\n",
       "    .dataframe tbody tr th:only-of-type {\n",
       "        vertical-align: middle;\n",
       "    }\n",
       "\n",
       "    .dataframe tbody tr th {\n",
       "        vertical-align: top;\n",
       "    }\n",
       "\n",
       "    .dataframe thead th {\n",
       "        text-align: right;\n",
       "    }\n",
       "</style>\n",
       "<table border=\"1\" class=\"dataframe\">\n",
       "  <thead>\n",
       "    <tr style=\"text-align: right;\">\n",
       "      <th></th>\n",
       "      <th>story</th>\n",
       "      <th>highlights</th>\n",
       "    </tr>\n",
       "  </thead>\n",
       "  <tbody>\n",
       "    <tr>\n",
       "      <th>0</th>\n",
       "      <td>[a former gymnast who represented her country numerous times and won medals for her skills has now been exposed as a highclass prostitute who earns a night, florica leonida from the romanian capit...</td>\n",
       "      <td>[florica leonida from bucharest is a former silver world medallist, but she said becoming a prostitute was the only way to make ends meet, she works under a different name currently residing in a ...</td>\n",
       "    </tr>\n",
       "    <tr>\n",
       "      <th>1</th>\n",
       "      <td>[by, daily mail reporter, published, est april, updated, est september, a champion swimmer spied on a woman using a pair of mirrored goggles to peek under a changing room cubicle a court heard fre...</td>\n",
       "      <td>[married james mackay used goggles to watch same woman in cubicle three times, he set the british freestyle record in, update since publication of this article mr mackay successfully appealed agai...</td>\n",
       "    </tr>\n",
       "    <tr>\n",
       "      <th>2</th>\n",
       "      <td>[liverpool cruised to a win over swansea to ease the pressure on brendan rodgers at anfield, alberto moreno fired the hosts ahead before a brace from adam lallana either side of gylfi sigurdssons ...</td>\n",
       "      <td>[former southampton midfielder adam lallana scored a brace in win, jonjo shelvey who used to play for liverpool endured a miserable game, the win pushes liverpool level on points but above swansea...</td>\n",
       "    </tr>\n",
       "    <tr>\n",
       "      <th>3</th>\n",
       "      <td>[by, daily mail reporter, published, est december, updated, est december, anderson cooper shocked viewers on thursday night by discussing his mother and oral sex in one outrageous anecdote, the cn...</td>\n",
       "      <td>[the cnn anchor was hosting his review of the year show when he made the shocking remark]</td>\n",
       "    </tr>\n",
       "    <tr>\n",
       "      <th>4</th>\n",
       "      <td>[wasps fans have been told to accept the reality of professional sport following the watershed purchase of ricoh arena in a move which paves the way for nflstyle franchises in rugby union, the two...</td>\n",
       "      <td>[wasps came close to going bankrupt two years ago and confirmed on wednesday that they have agreed a deal to move to the ricoh arena, coventry city council have sold the club a per cent share in t...</td>\n",
       "    </tr>\n",
       "  </tbody>\n",
       "</table>\n",
       "</div>"
      ],
      "text/plain": [
       "                                                                                                                                                                                                     story                                                                                                                                                                                               highlights\n",
       "0  [a former gymnast who represented her country numerous times and won medals for her skills has now been exposed as a highclass prostitute who earns a night, florica leonida from the romanian capit...  [florica leonida from bucharest is a former silver world medallist, but she said becoming a prostitute was the only way to make ends meet, she works under a different name currently residing in a ...\n",
       "1  [by, daily mail reporter, published, est april, updated, est september, a champion swimmer spied on a woman using a pair of mirrored goggles to peek under a changing room cubicle a court heard fre...  [married james mackay used goggles to watch same woman in cubicle three times, he set the british freestyle record in, update since publication of this article mr mackay successfully appealed agai...\n",
       "2  [liverpool cruised to a win over swansea to ease the pressure on brendan rodgers at anfield, alberto moreno fired the hosts ahead before a brace from adam lallana either side of gylfi sigurdssons ...  [former southampton midfielder adam lallana scored a brace in win, jonjo shelvey who used to play for liverpool endured a miserable game, the win pushes liverpool level on points but above swansea...\n",
       "3  [by, daily mail reporter, published, est december, updated, est december, anderson cooper shocked viewers on thursday night by discussing his mother and oral sex in one outrageous anecdote, the cn...                                                                                                                [the cnn anchor was hosting his review of the year show when he made the shocking remark]\n",
       "4  [wasps fans have been told to accept the reality of professional sport following the watershed purchase of ricoh arena in a move which paves the way for nflstyle franchises in rugby union, the two...  [wasps came close to going bankrupt two years ago and confirmed on wednesday that they have agreed a deal to move to the ricoh arena, coventry city council have sold the club a per cent share in t..."
      ]
     },
     "execution_count": 18,
     "metadata": {
      "tags": []
     },
     "output_type": "execute_result"
    }
   ],
   "source": [
    "data_dailymail.head()"
   ]
  },
  {
   "cell_type": "code",
   "execution_count": null,
   "metadata": {
    "id": "urHhig88G6AW"
   },
   "outputs": [],
   "source": [
    "data = data_cnn.append(data_dailymail, ignore_index=True)"
   ]
  },
  {
   "cell_type": "code",
   "execution_count": null,
   "metadata": {
    "colab": {
     "base_uri": "https://localhost:8080/",
     "height": 274
    },
    "id": "cE0c_Zby8mwr",
    "outputId": "c22c2cc1-1a35-434e-9ac0-f02704ae13f4"
   },
   "outputs": [
    {
     "data": {
      "text/html": [
       "<div>\n",
       "<style scoped>\n",
       "    .dataframe tbody tr th:only-of-type {\n",
       "        vertical-align: middle;\n",
       "    }\n",
       "\n",
       "    .dataframe tbody tr th {\n",
       "        vertical-align: top;\n",
       "    }\n",
       "\n",
       "    .dataframe thead th {\n",
       "        text-align: right;\n",
       "    }\n",
       "</style>\n",
       "<table border=\"1\" class=\"dataframe\">\n",
       "  <thead>\n",
       "    <tr style=\"text-align: right;\">\n",
       "      <th></th>\n",
       "      <th>story</th>\n",
       "      <th>highlights</th>\n",
       "    </tr>\n",
       "  </thead>\n",
       "  <tbody>\n",
       "    <tr>\n",
       "      <th>312080</th>\n",
       "      <td>[by, louise eccles and becky barrow, last updated at am on january, hundreds of railway staff will be paid simply for agreeing to work without disruption during the olympics, it also emerged yeste...</td>\n",
       "      <td>[workers on driverless dlr network offered per cent overtime increase during the games, union describes pay deal as truly groundbreaking, critics accuse rail bosses of bribing staff not to strike]</td>\n",
       "    </tr>\n",
       "    <tr>\n",
       "      <th>312081</th>\n",
       "      <td>[by, ellie zolfagharifard, published, est october, updated, est october, a powerful solar flare directed at earth has put on majestic display of the northern lights across parts of canada the us a...</td>\n",
       "      <td>[a solar explosion crashed into earths magnetic field on tuesday allowing photographers to capture these images, solar flares create auroras when radiation from the sun reaches earth and mixes wit...</td>\n",
       "    </tr>\n",
       "    <tr>\n",
       "      <th>312082</th>\n",
       "      <td>[by, louise saunders, published, est august, updated, est august, when the only way is essexs tom kilbey started dating lydia bright it was clear he was never going to be best pals with her exboyf...</td>\n",
       "      <td>[lucy mecklenburgh vs sam faiers, gemma collins vs charlie king and bobby cole norris, joey essex vs jamie reed]</td>\n",
       "    </tr>\n",
       "    <tr>\n",
       "      <th>312083</th>\n",
       "      <td>[by, steve doughty social affairs correspondent, fortnightly rubbish collections are a threat to public health government guidance warned yesterday, it said that no longer picking up bins from hom...</td>\n",
       "      <td>[guidance was issued yesterday by department led by eric pickles, he has pushed councils to make weekly bin collections with grant, surprise announcement puts mr pickles on collision course with d...</td>\n",
       "    </tr>\n",
       "    <tr>\n",
       "      <th>312084</th>\n",
       "      <td>[the remains of two dinosaurs that were perfectly preserved in a bitter fight to the death are to be sold for a record million, the fossil of the tyrannosaurus and a triceratops locked in mortal c...</td>\n",
       "      <td>[tyrannosaurus and triceretops were found in, perfectly preserved fossils show them embraced in a fight to the death, chance discovery is thought to be among the most important of all time, expert...</td>\n",
       "    </tr>\n",
       "  </tbody>\n",
       "</table>\n",
       "</div>"
      ],
      "text/plain": [
       "                                                                                                                                                                                                          story                                                                                                                                                                                               highlights\n",
       "312080  [by, louise eccles and becky barrow, last updated at am on january, hundreds of railway staff will be paid simply for agreeing to work without disruption during the olympics, it also emerged yeste...     [workers on driverless dlr network offered per cent overtime increase during the games, union describes pay deal as truly groundbreaking, critics accuse rail bosses of bribing staff not to strike]\n",
       "312081  [by, ellie zolfagharifard, published, est october, updated, est october, a powerful solar flare directed at earth has put on majestic display of the northern lights across parts of canada the us a...  [a solar explosion crashed into earths magnetic field on tuesday allowing photographers to capture these images, solar flares create auroras when radiation from the sun reaches earth and mixes wit...\n",
       "312082  [by, louise saunders, published, est august, updated, est august, when the only way is essexs tom kilbey started dating lydia bright it was clear he was never going to be best pals with her exboyf...                                                                                         [lucy mecklenburgh vs sam faiers, gemma collins vs charlie king and bobby cole norris, joey essex vs jamie reed]\n",
       "312083  [by, steve doughty social affairs correspondent, fortnightly rubbish collections are a threat to public health government guidance warned yesterday, it said that no longer picking up bins from hom...  [guidance was issued yesterday by department led by eric pickles, he has pushed councils to make weekly bin collections with grant, surprise announcement puts mr pickles on collision course with d...\n",
       "312084  [the remains of two dinosaurs that were perfectly preserved in a bitter fight to the death are to be sold for a record million, the fossil of the tyrannosaurus and a triceratops locked in mortal c...  [tyrannosaurus and triceretops were found in, perfectly preserved fossils show them embraced in a fight to the death, chance discovery is thought to be among the most important of all time, expert..."
      ]
     },
     "execution_count": 20,
     "metadata": {
      "tags": []
     },
     "output_type": "execute_result"
    }
   ],
   "source": [
    "data.tail()"
   ]
  },
  {
   "cell_type": "code",
   "execution_count": null,
   "metadata": {
    "id": "sAQigq6PUUa2"
   },
   "outputs": [],
   "source": [
    "data.rename(columns={\"highlights\": \"Summary\", \"story\": \"Text\"}, inplace=True)"
   ]
  },
  {
   "cell_type": "code",
   "execution_count": null,
   "metadata": {
    "id": "nS4z4q_9UUa7"
   },
   "outputs": [],
   "source": [
    "data['Text'] = data['Text'].apply(lambda x: ' '.join(x) )"
   ]
  },
  {
   "cell_type": "code",
   "execution_count": null,
   "metadata": {
    "id": "NNWwloWfzxSR"
   },
   "outputs": [],
   "source": [
    "for i in range(len(data['Summary'])):\n",
    "  data['Summary'][i]=data['Summary'][i][0]"
   ]
  },
  {
   "cell_type": "markdown",
   "metadata": {
    "id": "kGNQKvCaISIn"
   },
   "source": [
    "### Drop Duplicates and NA values"
   ]
  },
  {
   "cell_type": "code",
   "execution_count": 11,
   "metadata": {
    "id": "Cjul88oOFxcr"
   },
   "outputs": [],
   "source": [
    "data.drop_duplicates(subset=['Text'],inplace=True)#dropping duplicates\n",
    "data.dropna(axis=0,inplace=True)#dropping na"
   ]
  },
  {
   "cell_type": "markdown",
   "metadata": {
    "id": "qi0xD6BkIWAm"
   },
   "source": [
    "### Information about dataset\n"
   ]
  },
  {
   "cell_type": "code",
   "execution_count": null,
   "metadata": {
    "colab": {
     "base_uri": "https://localhost:8080/",
     "height": 168
    },
    "id": "__fy-JxTFxc9",
    "outputId": "f37c3e65-b82e-479a-bb41-201fab9e76e9"
   },
   "outputs": [
    {
     "name": "stdout",
     "output_type": "stream",
     "text": [
      "<class 'pandas.core.frame.DataFrame'>\n",
      "Int64Index: 308827 entries, 0 to 312084\n",
      "Data columns (total 2 columns):\n",
      " #   Column   Non-Null Count   Dtype \n",
      "---  ------   --------------   ----- \n",
      " 0   Text     308827 non-null  object\n",
      " 1   Summary  308827 non-null  object\n",
      "dtypes: object(2)\n",
      "memory usage: 7.1+ MB\n"
     ]
    }
   ],
   "source": [
    "data.info()"
   ]
  },
  {
   "cell_type": "code",
   "execution_count": null,
   "metadata": {
    "id": "QhdnaqYQMTNP"
   },
   "outputs": [],
   "source": [
    "data.to_csv(\"cnn_dailymail_before_processing_2510.csv\")"
   ]
  },
  {
   "cell_type": "code",
   "execution_count": 10,
   "metadata": {
    "id": "eVMoIHFp_QFv"
   },
   "outputs": [],
   "source": [
    "data = pd.read_csv(\"cnn_dailymail_before_processing_2510.csv\")"
   ]
  },
  {
   "cell_type": "code",
   "execution_count": 12,
   "metadata": {
    "colab": {
     "base_uri": "https://localhost:8080/",
     "height": 299
    },
    "id": "kSE3Z2c5M8L3",
    "outputId": "ea7cceb1-0e6d-4175-8782-8d6165f75911"
   },
   "outputs": [
    {
     "data": {
      "text/html": [
       "<div>\n",
       "<style scoped>\n",
       "    .dataframe tbody tr th:only-of-type {\n",
       "        vertical-align: middle;\n",
       "    }\n",
       "\n",
       "    .dataframe tbody tr th {\n",
       "        vertical-align: top;\n",
       "    }\n",
       "\n",
       "    .dataframe thead th {\n",
       "        text-align: right;\n",
       "    }\n",
       "</style>\n",
       "<table border=\"1\" class=\"dataframe\">\n",
       "  <thead>\n",
       "    <tr style=\"text-align: right;\">\n",
       "      <th></th>\n",
       "      <th>Unnamed: 0</th>\n",
       "      <th>Text</th>\n",
       "      <th>Summary</th>\n",
       "    </tr>\n",
       "  </thead>\n",
       "  <tbody>\n",
       "    <tr>\n",
       "      <th>0</th>\n",
       "      <td>0</td>\n",
       "      <td>for architects perfection is necessary said japanese architect kengo kuma it is my mission to use the kindness and delicateness that old architecture had i believe that this mission is not easy to...</td>\n",
       "      <td>japanese architect has popularized sensitive japanese traditions in buildings</td>\n",
       "    </tr>\n",
       "    <tr>\n",
       "      <th>1</th>\n",
       "      <td>1</td>\n",
       "      <td>the trial of former egyptian president mohamed morsy on charges of inciting the murders of at least three protesters in has been postponed until february because he did not appear in court wednesd...</td>\n",
       "      <td>the second session in the trial of mohamed morsy is postponed until february</td>\n",
       "    </tr>\n",
       "    <tr>\n",
       "      <th>2</th>\n",
       "      <td>2</td>\n",
       "      <td>cnn toyota motor corp has recently been in the hot seat after issuing massive recalls because of problems related to the accelerator pedal in several of its auto models to date million vehicles wo...</td>\n",
       "      <td>million vehicles worldwide have been recalled by toyota</td>\n",
       "    </tr>\n",
       "    <tr>\n",
       "      <th>3</th>\n",
       "      <td>3</td>\n",
       "      <td>mexicos international image may be taking hits because of the violence produced by drug cartels but it hasnt hurt its tourism industry officials say international tourism to mexico has increased i...</td>\n",
       "      <td>mexico remains the no destination for americans traveling abroad</td>\n",
       "    </tr>\n",
       "    <tr>\n",
       "      <th>4</th>\n",
       "      <td>4</td>\n",
       "      <td>thai scrapyard workers accidentally detonated a suspected world war iiera bomb wednesday killing seven and injuring after attempting to cut into it with a blowtorch the device was discovered at a ...</td>\n",
       "      <td>suspected wwiiera aerial bomb explodes in bangkok neighborhood killing seven</td>\n",
       "    </tr>\n",
       "  </tbody>\n",
       "</table>\n",
       "</div>"
      ],
      "text/plain": [
       "   Unnamed: 0  ...                                                                        Summary\n",
       "0           0  ...  japanese architect has popularized sensitive japanese traditions in buildings\n",
       "1           1  ...   the second session in the trial of mohamed morsy is postponed until february\n",
       "2           2  ...                        million vehicles worldwide have been recalled by toyota\n",
       "3           3  ...               mexico remains the no destination for americans traveling abroad\n",
       "4           4  ...   suspected wwiiera aerial bomb explodes in bangkok neighborhood killing seven\n",
       "\n",
       "[5 rows x 3 columns]"
      ]
     },
     "execution_count": 12,
     "metadata": {
      "tags": []
     },
     "output_type": "execute_result"
    }
   ],
   "source": [
    "data.head()"
   ]
  },
  {
   "cell_type": "code",
   "execution_count": null,
   "metadata": {
    "colab": {
     "base_uri": "https://localhost:8080/",
     "height": 16
    },
    "id": "jOe1JHfHPh1B",
    "outputId": "ee689ed8-0df8-4581-9c4e-8850547cbfda"
   },
   "outputs": [
    {
     "data": {
      "application/javascript": [
       "\n",
       "    async function download(id, filename, size) {\n",
       "      if (!google.colab.kernel.accessAllowed) {\n",
       "        return;\n",
       "      }\n",
       "      const div = document.createElement('div');\n",
       "      const label = document.createElement('label');\n",
       "      label.textContent = `Downloading \"${filename}\": `;\n",
       "      div.appendChild(label);\n",
       "      const progress = document.createElement('progress');\n",
       "      progress.max = size;\n",
       "      div.appendChild(progress);\n",
       "      document.body.appendChild(div);\n",
       "\n",
       "      const buffers = [];\n",
       "      let downloaded = 0;\n",
       "\n",
       "      const channel = await google.colab.kernel.comms.open(id);\n",
       "      // Send a message to notify the kernel that we're ready.\n",
       "      channel.send({})\n",
       "\n",
       "      for await (const message of channel.messages) {\n",
       "        // Send a message to notify the kernel that we're ready.\n",
       "        channel.send({})\n",
       "        if (message.buffers) {\n",
       "          for (const buffer of message.buffers) {\n",
       "            buffers.push(buffer);\n",
       "            downloaded += buffer.byteLength;\n",
       "            progress.value = downloaded;\n",
       "          }\n",
       "        }\n",
       "      }\n",
       "      const blob = new Blob(buffers, {type: 'application/binary'});\n",
       "      const a = document.createElement('a');\n",
       "      a.href = window.URL.createObjectURL(blob);\n",
       "      a.download = filename;\n",
       "      div.appendChild(a);\n",
       "      a.click();\n",
       "      div.remove();\n",
       "    }\n",
       "  "
      ],
      "text/plain": [
       "<IPython.core.display.Javascript object>"
      ]
     },
     "metadata": {
      "tags": []
     },
     "output_type": "display_data"
    },
    {
     "data": {
      "application/javascript": [
       "download(\"download_189fbafb-95ff-415b-8fa4-9a471c79fb37\", \"cnn_dailymail_before_processing_2510.csv\", 1198520707)"
      ],
      "text/plain": [
       "<IPython.core.display.Javascript object>"
      ]
     },
     "metadata": {
      "tags": []
     },
     "output_type": "display_data"
    }
   ],
   "source": [
    "from google.colab import files\n",
    "files.download(\"cnn_dailymail_before_processing_2510.csv\")"
   ]
  },
  {
   "cell_type": "markdown",
   "metadata": {
    "id": "r0xLYACiFxdJ"
   },
   "source": [
    "### Preprocessing"
   ]
  },
  {
   "cell_type": "markdown",
   "metadata": {
    "id": "2JFRXFHmI7Mj"
   },
   "source": [
    "We will perform the below preprocessing tasks for our data:\n",
    "\n",
    "1.Convert everything to lowercase\n",
    "\n",
    "2.Remove HTML tags\n",
    "\n",
    "3.Eliminate punctuations and special characters\n",
    "\n",
    "\n",
    "Let’s define the function:"
   ]
  },
  {
   "cell_type": "code",
   "execution_count": 13,
   "metadata": {
    "colab": {
     "base_uri": "https://localhost:8080/"
    },
    "id": "JNcu4_DQq6bq",
    "outputId": "2c217be7-f983-4f92-8ab8-62bd7b104535"
   },
   "outputs": [
    {
     "name": "stdout",
     "output_type": "stream",
     "text": [
      "[nltk_data] Downloading package stopwords to /root/nltk_data...\n",
      "[nltk_data]   Unzipping corpora/stopwords.zip.\n"
     ]
    },
    {
     "data": {
      "text/plain": [
       "True"
      ]
     },
     "execution_count": 13,
     "metadata": {
      "tags": []
     },
     "output_type": "execute_result"
    }
   ],
   "source": [
    "import nltk\n",
    "nltk.download('stopwords')"
   ]
  },
  {
   "cell_type": "code",
   "execution_count": 14,
   "metadata": {
    "id": "AN8HHUtZEI4d"
   },
   "outputs": [],
   "source": [
    "import string"
   ]
  },
  {
   "cell_type": "code",
   "execution_count": 15,
   "metadata": {
    "id": "XZr-u3OEFxdT"
   },
   "outputs": [],
   "source": [
    "stop_words = set(stopwords.words('english')) "
   ]
  },
  {
   "cell_type": "code",
   "execution_count": 16,
   "metadata": {
    "id": "JSs72ewB8mw9"
   },
   "outputs": [],
   "source": [
    "def text_cleaner(text,num):\n",
    "    \n",
    "    newString = text.lower()\n",
    "    newString = BeautifulSoup(newString, \"lxml\").text\n",
    "    newString = re.sub(r'\\([^)]*\\)', '', newString)\n",
    "    newString = re.sub('\"','', newString)\n",
    "    for c in string.punctuation:\n",
    "      newString = newString.replace(c,\"\")\n",
    "       \n",
    "    newString = re.sub(r\"'s\\b\",\"\",newString)\n",
    "    \n",
    "    newString = re.sub('[m]{2,}', 'mm', newString)\n",
    "    if(num==0):\n",
    "        tokens = [w for w in newString.split() if not w in stop_words]\n",
    "    else:\n",
    "        tokens=newString.split()\n",
    "    long_words=[]\n",
    "    for i in tokens:\n",
    "        if len(i)>0:                                                 #removing short word\n",
    "            long_words.append(i)   \n",
    "    return (\" \".join(long_words)).strip()"
   ]
  },
  {
   "cell_type": "code",
   "execution_count": 17,
   "metadata": {
    "id": "A2QAeCHWFxdY"
   },
   "outputs": [],
   "source": [
    "cleaned_text = []\n",
    "k=0\n",
    "for t in data['Text']:\n",
    "    cleaned_text.append(text_cleaner(t,1)) "
   ]
  },
  {
   "cell_type": "markdown",
   "metadata": {
    "id": "snRZY8wjLao2"
   },
   "source": [
    "Let us look at the first five preprocessed reviews"
   ]
  },
  {
   "cell_type": "code",
   "execution_count": 18,
   "metadata": {
    "id": "GsRXocxoFxd-"
   },
   "outputs": [],
   "source": [
    "cleaned_summary = []\n",
    "for t in data['Summary']:\n",
    "    cleaned_summary.append(text_cleaner(t,1))"
   ]
  },
  {
   "cell_type": "markdown",
   "metadata": {
    "id": "oZeD0gs6Lnb-"
   },
   "source": [
    "Let us look at the first 10 preprocessed summaries"
   ]
  },
  {
   "cell_type": "code",
   "execution_count": 19,
   "metadata": {
    "colab": {
     "base_uri": "https://localhost:8080/"
    },
    "id": "jQJdZcAzFxee",
    "outputId": "4b7b1369-0db4-4dae-a961-ee7fd1b932dd"
   },
   "outputs": [
    {
     "data": {
      "text/plain": [
       "['japanese architect has popularized sensitive japanese traditions in buildings',\n",
       " 'the second session in the trial of mohamed morsy is postponed until february',\n",
       " 'million vehicles worldwide have been recalled by toyota',\n",
       " 'mexico remains the no destination for americans traveling abroad',\n",
       " 'suspected wwiiera aerial bomb explodes in bangkok neighborhood killing seven']"
      ]
     },
     "execution_count": 19,
     "metadata": {
      "tags": []
     },
     "output_type": "execute_result"
    }
   ],
   "source": [
    "cleaned_summary[:5]"
   ]
  },
  {
   "cell_type": "code",
   "execution_count": 20,
   "metadata": {
    "id": "L1zLpnqsFxey"
   },
   "outputs": [],
   "source": [
    "data['cleaned_text']=cleaned_text\n",
    "data['cleaned_summary']=cleaned_summary"
   ]
  },
  {
   "cell_type": "markdown",
   "metadata": {
    "id": "KT_D2cLiLy77"
   },
   "source": [
    "#Drop empty rows"
   ]
  },
  {
   "cell_type": "code",
   "execution_count": 21,
   "metadata": {
    "id": "sYK390unFxfA"
   },
   "outputs": [],
   "source": [
    "data.replace('', np.nan, inplace=True)\n",
    "data.dropna(axis=0,inplace=True)"
   ]
  },
  {
   "cell_type": "markdown",
   "metadata": {
    "id": "Vm8Fk2TCL7Sp"
   },
   "source": [
    "### Understanding the distribution of the sequences\n",
    "\n",
    "Here is an analysis of the length of the reviews and the summary to get an overall idea about the distribution of length of the text. This will help to fix the maximum length of the sequence:"
   ]
  },
  {
   "cell_type": "code",
   "execution_count": 22,
   "metadata": {
    "id": "MdF76AHHFxgw"
   },
   "outputs": [],
   "source": [
    "import matplotlib.pyplot as plt\n",
    "\n",
    "text_word_count = []\n",
    "summary_word_count = []\n",
    "\n",
    "# populate the lists with sentence lengths\n",
    "for i in data['cleaned_text']:\n",
    "      text_word_count.append(len(i.split()))\n",
    "\n",
    "for i in data['cleaned_summary']:\n",
    "      summary_word_count.append(len(i.split()))\n",
    "\n",
    "length_df = pd.DataFrame({'text':text_word_count, 'summary':summary_word_count})"
   ]
  },
  {
   "cell_type": "code",
   "execution_count": 23,
   "metadata": {
    "colab": {
     "base_uri": "https://localhost:8080/",
     "height": 197
    },
    "id": "2c2IqK13UUcX",
    "outputId": "107bd02f-5736-4ab8-e054-4a4a4a98027a"
   },
   "outputs": [
    {
     "data": {
      "text/html": [
       "<div>\n",
       "<style scoped>\n",
       "    .dataframe tbody tr th:only-of-type {\n",
       "        vertical-align: middle;\n",
       "    }\n",
       "\n",
       "    .dataframe tbody tr th {\n",
       "        vertical-align: top;\n",
       "    }\n",
       "\n",
       "    .dataframe thead th {\n",
       "        text-align: right;\n",
       "    }\n",
       "</style>\n",
       "<table border=\"1\" class=\"dataframe\">\n",
       "  <thead>\n",
       "    <tr style=\"text-align: right;\">\n",
       "      <th></th>\n",
       "      <th>text</th>\n",
       "      <th>summary</th>\n",
       "    </tr>\n",
       "  </thead>\n",
       "  <tbody>\n",
       "    <tr>\n",
       "      <th>0</th>\n",
       "      <td>689</td>\n",
       "      <td>9</td>\n",
       "    </tr>\n",
       "    <tr>\n",
       "      <th>1</th>\n",
       "      <td>553</td>\n",
       "      <td>13</td>\n",
       "    </tr>\n",
       "    <tr>\n",
       "      <th>2</th>\n",
       "      <td>440</td>\n",
       "      <td>8</td>\n",
       "    </tr>\n",
       "    <tr>\n",
       "      <th>3</th>\n",
       "      <td>893</td>\n",
       "      <td>9</td>\n",
       "    </tr>\n",
       "    <tr>\n",
       "      <th>4</th>\n",
       "      <td>252</td>\n",
       "      <td>10</td>\n",
       "    </tr>\n",
       "  </tbody>\n",
       "</table>\n",
       "</div>"
      ],
      "text/plain": [
       "   text  summary\n",
       "0   689        9\n",
       "1   553       13\n",
       "2   440        8\n",
       "3   893        9\n",
       "4   252       10"
      ]
     },
     "execution_count": 23,
     "metadata": {
      "tags": []
     },
     "output_type": "execute_result"
    }
   ],
   "source": [
    "length_df.head()"
   ]
  },
  {
   "cell_type": "code",
   "execution_count": 24,
   "metadata": {
    "colab": {
     "base_uri": "https://localhost:8080/",
     "height": 280
    },
    "id": "kxHaCkUq8mxT",
    "outputId": "78047ad5-220a-48d6-d463-e35ad2d3a694"
   },
   "outputs": [
    {
     "data": {
      "image/png": "[encoded data removed]",
      "text/plain": [
       "<Figure size 432x288 with 2 Axes>"
      ]
     },
     "metadata": {
      "needs_background": "light",
      "tags": []
     },
     "output_type": "display_data"
    }
   ],
   "source": [
    "length_df.hist(bins = 30)\n",
    "plt.show()"
   ]
  },
  {
   "cell_type": "markdown",
   "metadata": {
    "id": "QwdSGIhGMEbz"
   },
   "source": [
    "We can fix the maximum length of the summary to 8 since that seems to be the majority summary length.\n",
    "\n",
    "Let us understand the proportion of the length of summaries below 8"
   ]
  },
  {
   "cell_type": "code",
   "execution_count": 25,
   "metadata": {
    "colab": {
     "base_uri": "https://localhost:8080/"
    },
    "id": "7JRjwdIOFxg3",
    "outputId": "b6f17292-6df7-4939-d6a9-ead76031f965"
   },
   "outputs": [
    {
     "name": "stdout",
     "output_type": "stream",
     "text": [
      "0.8897923102329467\n"
     ]
    }
   ],
   "source": [
    "cnt=0\n",
    "for i in data['cleaned_summary']:\n",
    "    if(len(i.split())<=17):\n",
    "        cnt=cnt+1\n",
    "print(cnt/len(data['cleaned_summary']))"
   ]
  },
  {
   "cell_type": "code",
   "execution_count": 26,
   "metadata": {
    "colab": {
     "base_uri": "https://localhost:8080/"
    },
    "id": "ndJoKv5OUUcr",
    "outputId": "2633dcc7-f69a-4f98-b621-2c9e80f57463"
   },
   "outputs": [
    {
     "name": "stdout",
     "output_type": "stream",
     "text": [
      "0.009066594133913594\n"
     ]
    }
   ],
   "source": [
    "cnt=0\n",
    "for i in data['cleaned_text']:\n",
    "    if(len(i.split())<=150):\n",
    "        cnt=cnt+1\n",
    "print(cnt/len(data['cleaned_text']))"
   ]
  },
  {
   "cell_type": "markdown",
   "metadata": {
    "id": "yYB4Ga9KMjEu"
   },
   "source": [
    "Let us fix the maximum length of review to 120 and length of summary to 17.\n"
   ]
  },
  {
   "cell_type": "code",
   "execution_count": 27,
   "metadata": {
    "id": "ZKD5VOWqFxhC"
   },
   "outputs": [],
   "source": [
    "max_text_len=120\n",
    "max_summary_len=17"
   ]
  },
  {
   "cell_type": "markdown",
   "metadata": {
    "id": "E6d48E-8M4VO"
   },
   "source": [
    "Let us select the reviews and summaries whose length falls below or equal to **max_text_len** and **max_summary_len**"
   ]
  },
  {
   "cell_type": "code",
   "execution_count": 28,
   "metadata": {
    "id": "YZftRJDw8mxc"
   },
   "outputs": [],
   "source": [
    "cleaned_text =np.array(data['cleaned_text'])\n",
    "cleaned_summary=np.array(data['cleaned_summary'])\n"
   ]
  },
  {
   "cell_type": "code",
   "execution_count": 29,
   "metadata": {
    "colab": {
     "base_uri": "https://localhost:8080/"
    },
    "id": "LYfNXFYz8mxj",
    "outputId": "37f4413a-33db-4214-f135-5008a9b7154c"
   },
   "outputs": [
    {
     "data": {
      "text/plain": [
       "308826"
      ]
     },
     "execution_count": 29,
     "metadata": {
      "tags": []
     },
     "output_type": "execute_result"
    }
   ],
   "source": [
    "len(cleaned_text)"
   ]
  },
  {
   "cell_type": "code",
   "execution_count": 30,
   "metadata": {
    "colab": {
     "base_uri": "https://localhost:8080/"
    },
    "id": "mWRA-oS6qcGZ",
    "outputId": "49947f58-a5ff-4d1c-9e5b-4897851001c5"
   },
   "outputs": [
    {
     "data": {
      "text/plain": [
       "120"
      ]
     },
     "execution_count": 30,
     "metadata": {
      "tags": []
     },
     "output_type": "execute_result"
    }
   ],
   "source": [
    "max_text_len"
   ]
  },
  {
   "cell_type": "code",
   "execution_count": 31,
   "metadata": {
    "id": "yY0tEJP0FxhI"
   },
   "outputs": [],
   "source": [
    "short_text=[]\n",
    "short_summary=[]\n",
    "\n",
    "for i in range(len(cleaned_text)):\n",
    "    if (len(cleaned_summary[i].split())>max_summary_len):\n",
    "        short_summary.append(\" \".join(cleaned_summary[i].split()[:17]))\n",
    "    else:\n",
    "        short_summary.append(cleaned_summary[i])\n",
    "    \n",
    "    if(len(cleaned_text[i].split())>max_text_len):\n",
    "        short_text.append(\" \".join(cleaned_text[i].split()[:120]))\n",
    "    else:\n",
    "        short_text.append(cleaned_text[i])\n",
    "       \n",
    "        \n",
    "df=pd.DataFrame({'text':short_text,'summary':short_summary})"
   ]
  },
  {
   "cell_type": "markdown",
   "metadata": {
    "id": "tR1uh8xSNUma"
   },
   "source": [
    "adding the **START** and **END** special tokens at the beginning and end of the summary."
   ]
  },
  {
   "cell_type": "code",
   "execution_count": 32,
   "metadata": {
    "id": "EwLUH78CFxhg"
   },
   "outputs": [],
   "source": [
    "df['summary'] = df['summary'].apply(lambda x : 'xl '+ x + ' xy')"
   ]
  },
  {
   "cell_type": "code",
   "execution_count": 33,
   "metadata": {
    "colab": {
     "base_uri": "https://localhost:8080/"
    },
    "id": "C4LjiyrtQt66",
    "outputId": "8c117b7a-4eed-4db8-a25c-58b2c713277b"
   },
   "outputs": [
    {
     "data": {
      "text/plain": [
       "(308826, 2)"
      ]
     },
     "execution_count": 33,
     "metadata": {
      "tags": []
     },
     "output_type": "execute_result"
    }
   ],
   "source": [
    "df.shape"
   ]
  },
  {
   "cell_type": "code",
   "execution_count": 34,
   "metadata": {
    "colab": {
     "base_uri": "https://localhost:8080/",
     "height": 282
    },
    "id": "f1w3V5JsVRzZ",
    "outputId": "076d921d-b4b6-4f07-b40d-5ae7c02591a0"
   },
   "outputs": [
    {
     "data": {
      "text/html": [
       "<div>\n",
       "<style scoped>\n",
       "    .dataframe tbody tr th:only-of-type {\n",
       "        vertical-align: middle;\n",
       "    }\n",
       "\n",
       "    .dataframe tbody tr th {\n",
       "        vertical-align: top;\n",
       "    }\n",
       "\n",
       "    .dataframe thead th {\n",
       "        text-align: right;\n",
       "    }\n",
       "</style>\n",
       "<table border=\"1\" class=\"dataframe\">\n",
       "  <thead>\n",
       "    <tr style=\"text-align: right;\">\n",
       "      <th></th>\n",
       "      <th>text</th>\n",
       "      <th>summary</th>\n",
       "    </tr>\n",
       "  </thead>\n",
       "  <tbody>\n",
       "    <tr>\n",
       "      <th>0</th>\n",
       "      <td>for architects perfection is necessary said japanese architect kengo kuma it is my mission to use the kindness and delicateness that old architecture had i believe that this mission is not easy to...</td>\n",
       "      <td>xl japanese architect has popularized sensitive japanese traditions in buildings xy</td>\n",
       "    </tr>\n",
       "    <tr>\n",
       "      <th>1</th>\n",
       "      <td>the trial of former egyptian president mohamed morsy on charges of inciting the murders of at least three protesters in has been postponed until february because he did not appear in court wednesd...</td>\n",
       "      <td>xl the second session in the trial of mohamed morsy is postponed until february xy</td>\n",
       "    </tr>\n",
       "    <tr>\n",
       "      <th>2</th>\n",
       "      <td>cnn toyota motor corp has recently been in the hot seat after issuing massive recalls because of problems related to the accelerator pedal in several of its auto models to date million vehicles wo...</td>\n",
       "      <td>xl million vehicles worldwide have been recalled by toyota xy</td>\n",
       "    </tr>\n",
       "    <tr>\n",
       "      <th>3</th>\n",
       "      <td>mexicos international image may be taking hits because of the violence produced by drug cartels but it hasnt hurt its tourism industry officials say international tourism to mexico has increased i...</td>\n",
       "      <td>xl mexico remains the no destination for americans traveling abroad xy</td>\n",
       "    </tr>\n",
       "    <tr>\n",
       "      <th>4</th>\n",
       "      <td>thai scrapyard workers accidentally detonated a suspected world war iiera bomb wednesday killing seven and injuring after attempting to cut into it with a blowtorch the device was discovered at a ...</td>\n",
       "      <td>xl suspected wwiiera aerial bomb explodes in bangkok neighborhood killing seven xy</td>\n",
       "    </tr>\n",
       "  </tbody>\n",
       "</table>\n",
       "</div>"
      ],
      "text/plain": [
       "                                                                                                                                                                                                      text                                                                              summary\n",
       "0  for architects perfection is necessary said japanese architect kengo kuma it is my mission to use the kindness and delicateness that old architecture had i believe that this mission is not easy to...  xl japanese architect has popularized sensitive japanese traditions in buildings xy\n",
       "1  the trial of former egyptian president mohamed morsy on charges of inciting the murders of at least three protesters in has been postponed until february because he did not appear in court wednesd...   xl the second session in the trial of mohamed morsy is postponed until february xy\n",
       "2  cnn toyota motor corp has recently been in the hot seat after issuing massive recalls because of problems related to the accelerator pedal in several of its auto models to date million vehicles wo...                        xl million vehicles worldwide have been recalled by toyota xy\n",
       "3  mexicos international image may be taking hits because of the violence produced by drug cartels but it hasnt hurt its tourism industry officials say international tourism to mexico has increased i...               xl mexico remains the no destination for americans traveling abroad xy\n",
       "4  thai scrapyard workers accidentally detonated a suspected world war iiera bomb wednesday killing seven and injuring after attempting to cut into it with a blowtorch the device was discovered at a ...   xl suspected wwiiera aerial bomb explodes in bangkok neighborhood killing seven xy"
      ]
     },
     "execution_count": 34,
     "metadata": {
      "tags": []
     },
     "output_type": "execute_result"
    }
   ],
   "source": [
    "df.head()"
   ]
  },
  {
   "cell_type": "code",
   "execution_count": 35,
   "metadata": {
    "id": "HDPAcoqoWSSS"
   },
   "outputs": [],
   "source": [
    "# df.to_csv(\"cnn_dailymail_after_processing_long.csv\")"
   ]
  },
  {
   "cell_type": "code",
   "execution_count": 36,
   "metadata": {
    "id": "lTY3EdQeWgjP"
   },
   "outputs": [],
   "source": [
    "#files.download(\"cnn_dailymail_after_processing_long.csv\")"
   ]
  },
  {
   "cell_type": "markdown",
   "metadata": {
    "id": "1GlcX4RFOh13"
   },
   "source": [
    "We’ll use 90% of the dataset as the training data and evaluate the performance on the remaining 10% (holdout set):"
   ]
  },
  {
   "cell_type": "code",
   "execution_count": 37,
   "metadata": {
    "id": "RakakKHcFxhl"
   },
   "outputs": [],
   "source": [
    "from sklearn.model_selection import train_test_split\n",
    "x_tr1,x_val1,y_tr1,y_val1=train_test_split(np.array(df['text']),np.array(df['summary']),test_size=0.1,random_state=0,shuffle=False) "
   ]
  },
  {
   "cell_type": "markdown",
   "metadata": {
    "id": "Vq1mqyOHOtIl"
   },
   "source": [
    "### Preparing the Tokenizer\n",
    "\n",
    "A tokenizer builds the vocabulary and converts a word sequence to an integer sequence. Go ahead and build tokenizers for text and summary:\n",
    "\n",
    "### Text Tokenizer"
   ]
  },
  {
   "cell_type": "code",
   "execution_count": 38,
   "metadata": {
    "colab": {
     "base_uri": "https://localhost:8080/"
    },
    "id": "He5KLv_vRfAs",
    "outputId": "4575f736-a391-41f1-f0c2-4a21b765c3fc"
   },
   "outputs": [
    {
     "name": "stdout",
     "output_type": "stream",
     "text": [
      "Collecting youtokentome\n",
      "\u001b[?25l  Downloading https://files.pythonhosted.org/packages/a3/65/4a86cf99da3f680497ae132329025b291e2fda22327e8da6a9476e51acb1/youtokentome-1.0.6-cp36-cp36m-manylinux2010_x86_64.whl (1.7MB)\n",
      "\r",
      "\u001b[K     |▏                               | 10kB 24.5MB/s eta 0:00:01\r",
      "\u001b[K     |▍                               | 20kB 6.2MB/s eta 0:00:01\r",
      "\u001b[K     |▋                               | 30kB 7.3MB/s eta 0:00:01\r",
      "\u001b[K     |▊                               | 40kB 7.3MB/s eta 0:00:01\r",
      "\u001b[K     |█                               | 51kB 7.2MB/s eta 0:00:01\r",
      "\u001b[K     |█▏                              | 61kB 8.2MB/s eta 0:00:01\r",
      "\u001b[K     |█▍                              | 71kB 8.4MB/s eta 0:00:01\r",
      "\u001b[K     |█▌                              | 81kB 8.8MB/s eta 0:00:01\r",
      "\u001b[K     |█▊                              | 92kB 8.3MB/s eta 0:00:01\r",
      "\u001b[K     |██                              | 102kB 8.5MB/s eta 0:00:01\r",
      "\u001b[K     |██                              | 112kB 8.5MB/s eta 0:00:01\r",
      "\u001b[K     |██▎                             | 122kB 8.5MB/s eta 0:00:01\r",
      "\u001b[K     |██▌                             | 133kB 8.5MB/s eta 0:00:01\r",
      "\u001b[K     |██▊                             | 143kB 8.5MB/s eta 0:00:01\r",
      "\u001b[K     |██▉                             | 153kB 8.5MB/s eta 0:00:01\r",
      "\u001b[K     |███                             | 163kB 8.5MB/s eta 0:00:01\r",
      "\u001b[K     |███▎                            | 174kB 8.5MB/s eta 0:00:01\r",
      "\u001b[K     |███▌                            | 184kB 8.5MB/s eta 0:00:01\r",
      "\u001b[K     |███▋                            | 194kB 8.5MB/s eta 0:00:01\r",
      "\u001b[K     |███▉                            | 204kB 8.5MB/s eta 0:00:01\r",
      "\u001b[K     |████                            | 215kB 8.5MB/s eta 0:00:01\r",
      "\u001b[K     |████▏                           | 225kB 8.5MB/s eta 0:00:01\r",
      "\u001b[K     |████▍                           | 235kB 8.5MB/s eta 0:00:01\r",
      "\u001b[K     |████▋                           | 245kB 8.5MB/s eta 0:00:01\r",
      "\u001b[K     |████▉                           | 256kB 8.5MB/s eta 0:00:01\r",
      "\u001b[K     |█████                           | 266kB 8.5MB/s eta 0:00:01\r",
      "\u001b[K     |█████▏                          | 276kB 8.5MB/s eta 0:00:01\r",
      "\u001b[K     |█████▍                          | 286kB 8.5MB/s eta 0:00:01\r",
      "\u001b[K     |█████▋                          | 296kB 8.5MB/s eta 0:00:01\r",
      "\u001b[K     |█████▊                          | 307kB 8.5MB/s eta 0:00:01\r",
      "\u001b[K     |██████                          | 317kB 8.5MB/s eta 0:00:01\r",
      "\u001b[K     |██████▏                         | 327kB 8.5MB/s eta 0:00:01\r",
      "\u001b[K     |██████▎                         | 337kB 8.5MB/s eta 0:00:01\r",
      "\u001b[K     |██████▌                         | 348kB 8.5MB/s eta 0:00:01\r",
      "\u001b[K     |██████▊                         | 358kB 8.5MB/s eta 0:00:01\r",
      "\u001b[K     |███████                         | 368kB 8.5MB/s eta 0:00:01\r",
      "\u001b[K     |███████                         | 378kB 8.5MB/s eta 0:00:01\r",
      "\u001b[K     |███████▎                        | 389kB 8.5MB/s eta 0:00:01\r",
      "\u001b[K     |███████▌                        | 399kB 8.5MB/s eta 0:00:01\r",
      "\u001b[K     |███████▋                        | 409kB 8.5MB/s eta 0:00:01\r",
      "\u001b[K     |███████▉                        | 419kB 8.5MB/s eta 0:00:01\r",
      "\u001b[K     |████████                        | 430kB 8.5MB/s eta 0:00:01\r",
      "\u001b[K     |████████▎                       | 440kB 8.5MB/s eta 0:00:01\r",
      "\u001b[K     |████████▍                       | 450kB 8.5MB/s eta 0:00:01\r",
      "\u001b[K     |████████▋                       | 460kB 8.5MB/s eta 0:00:01\r",
      "\u001b[K     |████████▉                       | 471kB 8.5MB/s eta 0:00:01\r",
      "\u001b[K     |█████████                       | 481kB 8.5MB/s eta 0:00:01\r",
      "\u001b[K     |█████████▏                      | 491kB 8.5MB/s eta 0:00:01\r",
      "\u001b[K     |█████████▍                      | 501kB 8.5MB/s eta 0:00:01\r",
      "\u001b[K     |█████████▋                      | 512kB 8.5MB/s eta 0:00:01\r",
      "\u001b[K     |█████████▊                      | 522kB 8.5MB/s eta 0:00:01\r",
      "\u001b[K     |██████████                      | 532kB 8.5MB/s eta 0:00:01\r",
      "\u001b[K     |██████████▏                     | 542kB 8.5MB/s eta 0:00:01\r",
      "\u001b[K     |██████████▍                     | 552kB 8.5MB/s eta 0:00:01\r",
      "\u001b[K     |██████████▌                     | 563kB 8.5MB/s eta 0:00:01\r",
      "\u001b[K     |██████████▊                     | 573kB 8.5MB/s eta 0:00:01\r",
      "\u001b[K     |███████████                     | 583kB 8.5MB/s eta 0:00:01\r",
      "\u001b[K     |███████████▏                    | 593kB 8.5MB/s eta 0:00:01\r",
      "\u001b[K     |███████████▎                    | 604kB 8.5MB/s eta 0:00:01\r",
      "\u001b[K     |███████████▌                    | 614kB 8.5MB/s eta 0:00:01\r",
      "\u001b[K     |███████████▊                    | 624kB 8.5MB/s eta 0:00:01\r",
      "\u001b[K     |███████████▉                    | 634kB 8.5MB/s eta 0:00:01\r",
      "\u001b[K     |████████████                    | 645kB 8.5MB/s eta 0:00:01\r",
      "\u001b[K     |████████████▎                   | 655kB 8.5MB/s eta 0:00:01\r",
      "\u001b[K     |████████████▌                   | 665kB 8.5MB/s eta 0:00:01\r",
      "\u001b[K     |████████████▋                   | 675kB 8.5MB/s eta 0:00:01\r",
      "\u001b[K     |████████████▉                   | 686kB 8.5MB/s eta 0:00:01\r",
      "\u001b[K     |█████████████                   | 696kB 8.5MB/s eta 0:00:01\r",
      "\u001b[K     |█████████████▏                  | 706kB 8.5MB/s eta 0:00:01\r",
      "\u001b[K     |█████████████▍                  | 716kB 8.5MB/s eta 0:00:01\r",
      "\u001b[K     |█████████████▋                  | 727kB 8.5MB/s eta 0:00:01\r",
      "\u001b[K     |█████████████▉                  | 737kB 8.5MB/s eta 0:00:01\r",
      "\u001b[K     |██████████████                  | 747kB 8.5MB/s eta 0:00:01\r",
      "\u001b[K     |██████████████▏                 | 757kB 8.5MB/s eta 0:00:01\r",
      "\u001b[K     |██████████████▍                 | 768kB 8.5MB/s eta 0:00:01\r",
      "\u001b[K     |██████████████▋                 | 778kB 8.5MB/s eta 0:00:01\r",
      "\u001b[K     |██████████████▊                 | 788kB 8.5MB/s eta 0:00:01\r",
      "\u001b[K     |███████████████                 | 798kB 8.5MB/s eta 0:00:01\r",
      "\u001b[K     |███████████████▏                | 808kB 8.5MB/s eta 0:00:01\r",
      "\u001b[K     |███████████████▎                | 819kB 8.5MB/s eta 0:00:01\r",
      "\u001b[K     |███████████████▌                | 829kB 8.5MB/s eta 0:00:01\r",
      "\u001b[K     |███████████████▊                | 839kB 8.5MB/s eta 0:00:01\r",
      "\u001b[K     |████████████████                | 849kB 8.5MB/s eta 0:00:01\r",
      "\u001b[K     |████████████████                | 860kB 8.5MB/s eta 0:00:01\r",
      "\u001b[K     |████████████████▎               | 870kB 8.5MB/s eta 0:00:01\r",
      "\u001b[K     |████████████████▌               | 880kB 8.5MB/s eta 0:00:01\r",
      "\u001b[K     |████████████████▊               | 890kB 8.5MB/s eta 0:00:01\r",
      "\u001b[K     |████████████████▉               | 901kB 8.5MB/s eta 0:00:01\r",
      "\u001b[K     |█████████████████               | 911kB 8.5MB/s eta 0:00:01\r",
      "\u001b[K     |█████████████████▎              | 921kB 8.5MB/s eta 0:00:01\r",
      "\u001b[K     |█████████████████▍              | 931kB 8.5MB/s eta 0:00:01\r",
      "\u001b[K     |█████████████████▋              | 942kB 8.5MB/s eta 0:00:01\r",
      "\u001b[K     |█████████████████▉              | 952kB 8.5MB/s eta 0:00:01\r",
      "\u001b[K     |██████████████████              | 962kB 8.5MB/s eta 0:00:01\r",
      "\u001b[K     |██████████████████▏             | 972kB 8.5MB/s eta 0:00:01\r",
      "\u001b[K     |██████████████████▍             | 983kB 8.5MB/s eta 0:00:01\r",
      "\u001b[K     |██████████████████▋             | 993kB 8.5MB/s eta 0:00:01\r",
      "\u001b[K     |██████████████████▉             | 1.0MB 8.5MB/s eta 0:00:01\r",
      "\u001b[K     |███████████████████             | 1.0MB 8.5MB/s eta 0:00:01\r",
      "\u001b[K     |███████████████████▏            | 1.0MB 8.5MB/s eta 0:00:01\r",
      "\u001b[K     |███████████████████▍            | 1.0MB 8.5MB/s eta 0:00:01\r",
      "\u001b[K     |███████████████████▌            | 1.0MB 8.5MB/s eta 0:00:01\r",
      "\u001b[K     |███████████████████▊            | 1.1MB 8.5MB/s eta 0:00:01\r",
      "\u001b[K     |████████████████████            | 1.1MB 8.5MB/s eta 0:00:01\r",
      "\u001b[K     |████████████████████▏           | 1.1MB 8.5MB/s eta 0:00:01\r",
      "\u001b[K     |████████████████████▎           | 1.1MB 8.5MB/s eta 0:00:01\r",
      "\u001b[K     |████████████████████▌           | 1.1MB 8.5MB/s eta 0:00:01\r",
      "\u001b[K     |████████████████████▊           | 1.1MB 8.5MB/s eta 0:00:01\r",
      "\u001b[K     |████████████████████▉           | 1.1MB 8.5MB/s eta 0:00:01\r",
      "\u001b[K     |█████████████████████           | 1.1MB 8.5MB/s eta 0:00:01\r",
      "\u001b[K     |█████████████████████▎          | 1.1MB 8.5MB/s eta 0:00:01\r",
      "\u001b[K     |█████████████████████▌          | 1.1MB 8.5MB/s eta 0:00:01\r",
      "\u001b[K     |█████████████████████▋          | 1.2MB 8.5MB/s eta 0:00:01\r",
      "\u001b[K     |█████████████████████▉          | 1.2MB 8.5MB/s eta 0:00:01\r",
      "\u001b[K     |██████████████████████          | 1.2MB 8.5MB/s eta 0:00:01\r",
      "\u001b[K     |██████████████████████▎         | 1.2MB 8.5MB/s eta 0:00:01\r",
      "\u001b[K     |██████████████████████▍         | 1.2MB 8.5MB/s eta 0:00:01\r",
      "\u001b[K     |██████████████████████▋         | 1.2MB 8.5MB/s eta 0:00:01\r",
      "\u001b[K     |██████████████████████▉         | 1.2MB 8.5MB/s eta 0:00:01\r",
      "\u001b[K     |███████████████████████         | 1.2MB 8.5MB/s eta 0:00:01\r",
      "\u001b[K     |███████████████████████▏        | 1.2MB 8.5MB/s eta 0:00:01\r",
      "\u001b[K     |███████████████████████▍        | 1.2MB 8.5MB/s eta 0:00:01\r",
      "\u001b[K     |███████████████████████▋        | 1.3MB 8.5MB/s eta 0:00:01\r",
      "\u001b[K     |███████████████████████▊        | 1.3MB 8.5MB/s eta 0:00:01\r",
      "\u001b[K     |████████████████████████        | 1.3MB 8.5MB/s eta 0:00:01\r",
      "\u001b[K     |████████████████████████▏       | 1.3MB 8.5MB/s eta 0:00:01\r",
      "\u001b[K     |████████████████████████▍       | 1.3MB 8.5MB/s eta 0:00:01\r",
      "\u001b[K     |████████████████████████▌       | 1.3MB 8.5MB/s eta 0:00:01\r",
      "\u001b[K     |████████████████████████▊       | 1.3MB 8.5MB/s eta 0:00:01\r",
      "\u001b[K     |█████████████████████████       | 1.3MB 8.5MB/s eta 0:00:01\r",
      "\u001b[K     |█████████████████████████       | 1.3MB 8.5MB/s eta 0:00:01\r",
      "\u001b[K     |█████████████████████████▎      | 1.4MB 8.5MB/s eta 0:00:01\r",
      "\u001b[K     |█████████████████████████▌      | 1.4MB 8.5MB/s eta 0:00:01\r",
      "\u001b[K     |█████████████████████████▊      | 1.4MB 8.5MB/s eta 0:00:01\r",
      "\u001b[K     |█████████████████████████▉      | 1.4MB 8.5MB/s eta 0:00:01\r",
      "\u001b[K     |██████████████████████████      | 1.4MB 8.5MB/s eta 0:00:01\r",
      "\u001b[K     |██████████████████████████▎     | 1.4MB 8.5MB/s eta 0:00:01\r",
      "\u001b[K     |██████████████████████████▍     | 1.4MB 8.5MB/s eta 0:00:01\r",
      "\u001b[K     |██████████████████████████▋     | 1.4MB 8.5MB/s eta 0:00:01\r",
      "\u001b[K     |██████████████████████████▉     | 1.4MB 8.5MB/s eta 0:00:01\r",
      "\u001b[K     |███████████████████████████     | 1.4MB 8.5MB/s eta 0:00:01\r",
      "\u001b[K     |███████████████████████████▏    | 1.5MB 8.5MB/s eta 0:00:01\r",
      "\u001b[K     |███████████████████████████▍    | 1.5MB 8.5MB/s eta 0:00:01\r",
      "\u001b[K     |███████████████████████████▋    | 1.5MB 8.5MB/s eta 0:00:01\r",
      "\u001b[K     |███████████████████████████▉    | 1.5MB 8.5MB/s eta 0:00:01\r",
      "\u001b[K     |████████████████████████████    | 1.5MB 8.5MB/s eta 0:00:01\r",
      "\u001b[K     |████████████████████████████▏   | 1.5MB 8.5MB/s eta 0:00:01\r",
      "\u001b[K     |████████████████████████████▍   | 1.5MB 8.5MB/s eta 0:00:01\r",
      "\u001b[K     |████████████████████████████▌   | 1.5MB 8.5MB/s eta 0:00:01\r",
      "\u001b[K     |████████████████████████████▊   | 1.5MB 8.5MB/s eta 0:00:01\r",
      "\u001b[K     |█████████████████████████████   | 1.5MB 8.5MB/s eta 0:00:01\r",
      "\u001b[K     |█████████████████████████████▏  | 1.6MB 8.5MB/s eta 0:00:01\r",
      "\u001b[K     |█████████████████████████████▎  | 1.6MB 8.5MB/s eta 0:00:01\r",
      "\u001b[K     |█████████████████████████████▌  | 1.6MB 8.5MB/s eta 0:00:01\r",
      "\u001b[K     |█████████████████████████████▊  | 1.6MB 8.5MB/s eta 0:00:01\r",
      "\u001b[K     |██████████████████████████████  | 1.6MB 8.5MB/s eta 0:00:01\r",
      "\u001b[K     |██████████████████████████████  | 1.6MB 8.5MB/s eta 0:00:01\r",
      "\u001b[K     |██████████████████████████████▎ | 1.6MB 8.5MB/s eta 0:00:01\r",
      "\u001b[K     |██████████████████████████████▌ | 1.6MB 8.5MB/s eta 0:00:01\r",
      "\u001b[K     |██████████████████████████████▋ | 1.6MB 8.5MB/s eta 0:00:01\r",
      "\u001b[K     |██████████████████████████████▉ | 1.6MB 8.5MB/s eta 0:00:01\r",
      "\u001b[K     |███████████████████████████████ | 1.7MB 8.5MB/s eta 0:00:01\r",
      "\u001b[K     |███████████████████████████████▎| 1.7MB 8.5MB/s eta 0:00:01\r",
      "\u001b[K     |███████████████████████████████▍| 1.7MB 8.5MB/s eta 0:00:01\r",
      "\u001b[K     |███████████████████████████████▋| 1.7MB 8.5MB/s eta 0:00:01\r",
      "\u001b[K     |███████████████████████████████▉| 1.7MB 8.5MB/s eta 0:00:01\r",
      "\u001b[K     |████████████████████████████████| 1.7MB 8.5MB/s eta 0:00:01\r",
      "\u001b[K     |████████████████████████████████| 1.7MB 8.5MB/s \n",
      "\u001b[?25hRequirement already satisfied: Click>=7.0 in /usr/local/lib/python3.6/dist-packages (from youtokentome) (7.1.2)\n",
      "Installing collected packages: youtokentome\n",
      "Successfully installed youtokentome-1.0.6\n"
     ]
    }
   ],
   "source": [
    "!pip install youtokentome "
   ]
  },
  {
   "cell_type": "code",
   "execution_count": 39,
   "metadata": {
    "id": "iWnbwL9_8mxv"
   },
   "outputs": [],
   "source": [
    "import youtokentome as yttm"
   ]
  },
  {
   "cell_type": "code",
   "execution_count": 40,
   "metadata": {
    "id": "ri0Hka7n8mxx",
    "scrolled": true
   },
   "outputs": [],
   "source": [
    "x_tokenizer = yttm.BPE(model='bpe.model')"
   ]
  },
  {
   "cell_type": "code",
   "execution_count": 42,
   "metadata": {
    "colab": {
     "base_uri": "https://localhost:8080/"
    },
    "id": "4Q9AYlju8mx4",
    "outputId": "1c7e3a15-74aa-43bd-d982-b1f6a4b05cb8"
   },
   "outputs": [
    {
     "name": "stdout",
     "output_type": "stream",
     "text": [
      "[['▁for', '▁ar', 'ch', 'it', 'ect', 's', '▁perfection', '▁is', '▁necessary', '▁said', '▁japanese', '▁ar', 'ch', 'it', 'ect', '▁k', 'en', 'go', '▁k', 'uma', '▁it', '▁is', '▁my', '▁mission', '▁to', '▁use', '▁the', '▁kind', 'ness', '▁and', '▁delic', 'at', 'eness', '▁that', '▁old', '▁ar', 'ch', 'it', 'ect', 'ure', '▁had', '▁i', '▁believe', '▁that', '▁this', '▁mission', '▁is', '▁not', '▁easy', '▁to', '▁complete', '▁so', '▁i', '▁am', '▁planning', '▁to', '▁work', '▁until', '▁i', '▁fall', '▁down', '▁with', '▁nearly', '▁projects', '▁on', '▁the', '▁go', '▁across', '▁the', '▁world', '▁k', 'um', 'as', '▁search', '▁for', '▁perfection', '▁is', '▁all', '▁consuming', '▁he', '▁rarely', '▁takes', '▁a', '▁day', '▁off', '▁from', '▁work', '▁and', '▁sometimes', '▁even', '▁finished', '▁projects', '▁are', '▁analy', 'zed', '▁and', '▁amend', 'ed', '▁the', '▁from', '▁to', 'ky', 'o', '▁has', '▁become', '▁syn', 'onymous', '▁with', '▁delicate', '▁simplicity', '▁and', '▁sensitivity', '▁to', '▁a', '▁build', 'ings', '▁surrounding', '▁from', '▁the', '▁great', '▁bamboo', '▁wall', '▁house', '▁located', '▁near', '▁the', '▁great', '▁wall', '▁of', '▁china', '▁outside', '▁of', '▁be', 'ij', 'ing', '▁to', '▁the', '▁sun', 't', 'ory', '▁m', 'useum', '▁of', '▁art', '▁in', '▁to', 'ky', 'o', '▁k', 'uma', '▁has', '▁employ', 'ed', '▁natural']]\n"
     ]
    }
   ],
   "source": [
    "print(x_tokenizer.encode([x_tr1[0]], output_type=yttm.OutputType.SUBWORD, dropout_prob=0.1))     "
   ]
  },
  {
   "cell_type": "code",
   "execution_count": 44,
   "metadata": {
    "id": "ZtxJkL3XKr68"
   },
   "outputs": [],
   "source": [
    "x_tr_seq    =   x_tokenizer.encode(list(x_tr1), output_type=yttm.OutputType.ID)\n",
    "x_val_seq   =   x_tokenizer.encode(list(x_val1), output_type=yttm.OutputType.ID)"
   ]
  },
  {
   "cell_type": "code",
   "execution_count": 47,
   "metadata": {
    "colab": {
     "base_uri": "https://localhost:8080/"
    },
    "id": "wKOAtUh40pQ-",
    "outputId": "5dbd4d0d-4420-4a0a-be38-9897c3cd8bf5"
   },
   "outputs": [
    {
     "name": "stdout",
     "output_type": "stream",
     "text": [
      "240\n"
     ]
    }
   ],
   "source": [
    "max=0\n",
    "for x in x_val_seq:\n",
    "    if len(x)>max:\n",
    "        max=len(x)\n",
    "      \n",
    "print(max) \n",
    "max_text_len=max"
   ]
  },
  {
   "cell_type": "code",
   "execution_count": 48,
   "metadata": {
    "colab": {
     "base_uri": "https://localhost:8080/"
    },
    "id": "elJ3aldFKv8U",
    "outputId": "0e9328fe-dd77-4af0-cf25-f55905f59514"
   },
   "outputs": [
    {
     "name": "stdout",
     "output_type": "stream",
     "text": [
      "384\n"
     ]
    }
   ],
   "source": [
    "max=0\n",
    "for x in x_tr_seq:\n",
    "    if len(x)>max:\n",
    "        max=len(x)\n",
    "      \n",
    "print(max) \n",
    "max_text_len=max"
   ]
  },
  {
   "cell_type": "code",
   "execution_count": 49,
   "metadata": {
    "id": "mi8gfNMhyr4f"
   },
   "outputs": [],
   "source": [
    "x_tr    =   pad_sequences([x for x in x_tr_seq],  maxlen=max_text_len, padding='post')\n",
    "x_val   =   pad_sequences([x for x in x_val_seq], maxlen=max_text_len, padding='post')"
   ]
  },
  {
   "cell_type": "code",
   "execution_count": 50,
   "metadata": {
    "id": "8xltItaM8myh"
   },
   "outputs": [],
   "source": [
    "dic={}\n",
    "for x in x_tr:\n",
    "    \n",
    "    for word in x:\n",
    "        if word in dic:\n",
    "            dic[word]+=1\n",
    "        else:\n",
    "            dic[word]=1\n",
    "            \n",
    "for x in x_val:\n",
    "    \n",
    "    for word in x:\n",
    "        if word in dic:\n",
    "            dic[word]+=1\n",
    "        else:\n",
    "            dic[word]=1           "
   ]
  },
  {
   "cell_type": "code",
   "execution_count": 51,
   "metadata": {
    "colab": {
     "base_uri": "https://localhost:8080/"
    },
    "id": "rZGSL96j8myj",
    "outputId": "2413e2fb-9f78-43aa-8ad9-0fbeb796c710"
   },
   "outputs": [
    {
     "data": {
      "text/plain": [
       "18083"
      ]
     },
     "execution_count": 51,
     "metadata": {
      "tags": []
     },
     "output_type": "execute_result"
    }
   ],
   "source": [
    "len(dic)"
   ]
  },
  {
   "cell_type": "markdown",
   "metadata": {
    "id": "iVj0dI-DUUet"
   },
   "source": [
    "define max integer representation of tokens"
   ]
  },
  {
   "cell_type": "code",
   "execution_count": 52,
   "metadata": {
    "colab": {
     "base_uri": "https://localhost:8080/"
    },
    "id": "grAPwOVl8myo",
    "outputId": "63be4e86-65be-4588-d33a-b7b820690b8d"
   },
   "outputs": [
    {
     "name": "stdout",
     "output_type": "stream",
     "text": [
      "51999\n"
     ]
    }
   ],
   "source": [
    "max=0\n",
    "for x in x_tr:\n",
    "    \n",
    "    for word in x:\n",
    "        \n",
    "        if (word > max):\n",
    "            max = word\n",
    "for x in x_val:\n",
    "    \n",
    "    for word in x:\n",
    "        \n",
    "        if (word > max):\n",
    "            max = word            \n",
    "print(max)        "
   ]
  },
  {
   "cell_type": "code",
   "execution_count": 53,
   "metadata": {
    "id": "vdqGrc8v8myr"
   },
   "outputs": [],
   "source": [
    "#size of vocabulary ( +1 for padding token)\n",
    "x_voc   =  max + 1"
   ]
  },
  {
   "cell_type": "markdown",
   "metadata": {
    "id": "uQfKP3sqRxi9"
   },
   "source": [
    "### Summary Tokenizer"
   ]
  },
  {
   "cell_type": "markdown",
   "metadata": {
    "id": "0PBhzKuRSw_9"
   },
   "source": [
    "Let us define the tokenizer with top most common words for summary."
   ]
  },
  {
   "cell_type": "code",
   "execution_count": 54,
   "metadata": {
    "id": "eRHqyBkBFxiJ"
   },
   "outputs": [],
   "source": [
    "#prepare a tokenizer for reviews on training data\n",
    "y_tokenizer = yttm.BPE(model='bpe.model')"
   ]
  },
  {
   "cell_type": "code",
   "execution_count": 56,
   "metadata": {
    "id": "aECmPseg8my5"
   },
   "outputs": [],
   "source": [
    "y_tr_seq    =   y_tokenizer.encode(list(y_tr1), output_type=yttm.OutputType.ID, dropout_prob=0.1)\n",
    "y_val_seq   =   y_tokenizer.encode(list(y_val1), output_type=yttm.OutputType.ID, dropout_prob=0.1)"
   ]
  },
  {
   "cell_type": "code",
   "execution_count": 57,
   "metadata": {
    "colab": {
     "base_uri": "https://localhost:8080/"
    },
    "id": "0oYaHYDnhLTt",
    "outputId": "a8157d61-dbce-4182-bf33-fc2ecf85f87e"
   },
   "outputs": [
    {
     "name": "stdout",
     "output_type": "stream",
     "text": [
      "47\n"
     ]
    }
   ],
   "source": [
    "max=0\n",
    "for x in y_val_seq:\n",
    "    if len(x)>max:\n",
    "        max=len(x)\n",
    "print(max) \n",
    "max_summary_len=max"
   ]
  },
  {
   "cell_type": "code",
   "execution_count": 58,
   "metadata": {
    "colab": {
     "base_uri": "https://localhost:8080/"
    },
    "id": "km4bw4p4hGdP",
    "outputId": "d95d0c0e-c625-4db9-aaad-8c586d27451a"
   },
   "outputs": [
    {
     "name": "stdout",
     "output_type": "stream",
     "text": [
      "53\n"
     ]
    }
   ],
   "source": [
    "max=0\n",
    "for x in y_tr_seq:\n",
    "    if len(x)>max:\n",
    "        max=len(x)\n",
    "print(max) \n",
    "max_summary_len=max"
   ]
  },
  {
   "cell_type": "code",
   "execution_count": 59,
   "metadata": {
    "id": "XilAkupR8my9"
   },
   "outputs": [],
   "source": [
    "#padding zero upto maximum length\n",
    "y_tr    =   pad_sequences([y for y in y_tr_seq],  maxlen=max_summary_len, padding='post')\n",
    "y_val   =   pad_sequences([y for y in y_val_seq], maxlen=max_summary_len, padding='post')"
   ]
  },
  {
   "cell_type": "code",
   "execution_count": 60,
   "metadata": {
    "colab": {
     "base_uri": "https://localhost:8080/"
    },
    "id": "PPGr3Z5o8mzD",
    "outputId": "96a04f3c-7adf-4b9e-acf7-33005040d05f"
   },
   "outputs": [
    {
     "name": "stdout",
     "output_type": "stream",
     "text": [
      "51999\n"
     ]
    }
   ],
   "source": [
    "max=0\n",
    "for x in y_tr:\n",
    "    \n",
    "    for word in x:\n",
    "        \n",
    "        if (word > max):\n",
    "            max = word\n",
    "for x in y_val:\n",
    "    \n",
    "    for word in x:\n",
    "        \n",
    "        if (word > max):\n",
    "            max = word            \n",
    "print(max)       "
   ]
  },
  {
   "cell_type": "code",
   "execution_count": 61,
   "metadata": {
    "id": "uzHBlfw58mzE"
   },
   "outputs": [],
   "source": [
    "#size of vocabulary\n",
    "y_voc  =   max +1"
   ]
  },
  {
   "cell_type": "code",
   "execution_count": 62,
   "metadata": {
    "colab": {
     "base_uri": "https://localhost:8080/"
    },
    "id": "FU0KooAK8mzG",
    "outputId": "4ceeec87-a268-4684-c085-36518e7d7cc0"
   },
   "outputs": [
    {
     "data": {
      "text/plain": [
       "52000"
      ]
     },
     "execution_count": 62,
     "metadata": {
      "tags": []
     },
     "output_type": "execute_result"
    }
   ],
   "source": [
    "y_voc"
   ]
  },
  {
   "cell_type": "markdown",
   "metadata": {
    "id": "LVFhFVguTTtw"
   },
   "source": [
    "Here, I am deleting the rows that contain only **START** and **END** tokens"
   ]
  },
  {
   "cell_type": "code",
   "execution_count": 63,
   "metadata": {
    "id": "kZ-vW82sFxih"
   },
   "outputs": [],
   "source": [
    "ind=[]\n",
    "for i in range(len(y_tr)):\n",
    "    cnt=0\n",
    "    for j in y_tr[i]:\n",
    "        if j!=0:\n",
    "            cnt=cnt+1\n",
    "    if(cnt==2):\n",
    "        ind.append(i)\n",
    "\n",
    "y_tr=np.delete(y_tr,ind, axis=0)\n",
    "x_tr=np.delete(x_tr,ind, axis=0)"
   ]
  },
  {
   "cell_type": "code",
   "execution_count": 64,
   "metadata": {
    "id": "cx5NISuMFxik"
   },
   "outputs": [],
   "source": [
    "ind=[]\n",
    "for i in range(len(y_val)):\n",
    "    cnt=0\n",
    "    for j in y_val[i]:\n",
    "        if j!=0:\n",
    "            cnt=cnt+1\n",
    "    if(cnt==2):\n",
    "        ind.append(i)\n",
    "\n",
    "y_val=np.delete(y_val,ind, axis=0)\n",
    "x_val=np.delete(x_val,ind, axis=0)"
   ]
  },
  {
   "cell_type": "markdown",
   "metadata": {
    "id": "wOtlDcthFxip"
   },
   "source": [
    "# Model building\n",
    "\n",
    "**Return Sequences = True**: When the return sequences parameter is set to True, LSTM produces the hidden state and cell state for every timestep\n",
    "\n",
    "**Return State = True**: When return state = True, LSTM produces the hidden state and cell state of the last timestep only\n",
    "\n",
    "**Initial State**: This is used to initialize the internal states of the LSTM for the first timestep\n",
    "\n",
    "**Stacked LSTM**: Stacked LSTM has multiple layers of LSTM stacked on top of each other. \n",
    "This leads to a better representation of the sequence. \n",
    "\n",
    "Here, we are building a 3 stacked Bi-LSTM for the encoder:"
   ]
  },
  {
   "cell_type": "code",
   "execution_count": 65,
   "metadata": {
    "colab": {
     "base_uri": "https://localhost:8080/"
    },
    "id": "zXef38nBFxir",
    "outputId": "78e7ff8b-611d-43e4-9824-1cf4284b2978"
   },
   "outputs": [
    {
     "name": "stdout",
     "output_type": "stream",
     "text": [
      "WARNING:tensorflow:Layer lstm will not use cuDNN kernel since it doesn't meet the cuDNN kernel criteria. It will use generic GPU kernel as fallback when running on GPU\n",
      "WARNING:tensorflow:Layer lstm will not use cuDNN kernel since it doesn't meet the cuDNN kernel criteria. It will use generic GPU kernel as fallback when running on GPU\n",
      "WARNING:tensorflow:Layer lstm will not use cuDNN kernel since it doesn't meet the cuDNN kernel criteria. It will use generic GPU kernel as fallback when running on GPU\n",
      "WARNING:tensorflow:Layer lstm_1 will not use cuDNN kernel since it doesn't meet the cuDNN kernel criteria. It will use generic GPU kernel as fallback when running on GPU\n",
      "WARNING:tensorflow:Layer lstm_1 will not use cuDNN kernel since it doesn't meet the cuDNN kernel criteria. It will use generic GPU kernel as fallback when running on GPU\n",
      "WARNING:tensorflow:Layer lstm_1 will not use cuDNN kernel since it doesn't meet the cuDNN kernel criteria. It will use generic GPU kernel as fallback when running on GPU\n",
      "WARNING:tensorflow:Layer lstm_2 will not use cuDNN kernel since it doesn't meet the cuDNN kernel criteria. It will use generic GPU kernel as fallback when running on GPU\n",
      "WARNING:tensorflow:Layer lstm_2 will not use cuDNN kernel since it doesn't meet the cuDNN kernel criteria. It will use generic GPU kernel as fallback when running on GPU\n",
      "WARNING:tensorflow:Layer lstm_2 will not use cuDNN kernel since it doesn't meet the cuDNN kernel criteria. It will use generic GPU kernel as fallback when running on GPU\n",
      "WARNING:tensorflow:Layer lstm_3 will not use cuDNN kernel since it doesn't meet the cuDNN kernel criteria. It will use generic GPU kernel as fallback when running on GPU\n",
      "Model: \"functional_1\"\n",
      "__________________________________________________________________________________________________\n",
      "Layer (type)                    Output Shape         Param #     Connected to                     \n",
      "==================================================================================================\n",
      "input_1 (InputLayer)            [(None, 384)]        0                                            \n",
      "__________________________________________________________________________________________________\n",
      "embedding (Embedding)           (None, 384, 100)     5200000     input_1[0][0]                    \n",
      "__________________________________________________________________________________________________\n",
      "bidirectional (Bidirectional)   [(None, 384, 600), ( 962400      embedding[0][0]                  \n",
      "__________________________________________________________________________________________________\n",
      "bidirectional_1 (Bidirectional) [(None, 384, 600), ( 2162400     bidirectional[0][0]              \n",
      "__________________________________________________________________________________________________\n",
      "input_2 (InputLayer)            [(None, 384)]        0                                            \n",
      "__________________________________________________________________________________________________\n",
      "bidirectional_2 (Bidirectional) [(None, 384, 600), ( 2162400     bidirectional_1[0][0]            \n",
      "__________________________________________________________________________________________________\n",
      "embedding_1 (Embedding)         (None, 384, 100)     5200000     input_2[0][0]                    \n",
      "__________________________________________________________________________________________________\n",
      "concatenate (Concatenate)       (None, 600)          0           bidirectional_2[0][1]            \n",
      "                                                                 bidirectional_2[0][3]            \n",
      "__________________________________________________________________________________________________\n",
      "concatenate_1 (Concatenate)     (None, 600)          0           bidirectional_2[0][2]            \n",
      "                                                                 bidirectional_2[0][4]            \n",
      "__________________________________________________________________________________________________\n",
      "lstm_3 (LSTM)                   [(None, 384, 600), ( 1682400     embedding_1[0][0]                \n",
      "                                                                 concatenate[0][0]                \n",
      "                                                                 concatenate_1[0][0]              \n",
      "__________________________________________________________________________________________________\n",
      "attention_layer (AttentionLayer ((None, 384, 600), ( 720600      bidirectional_2[0][0]            \n",
      "                                                                 lstm_3[0][0]                     \n",
      "__________________________________________________________________________________________________\n",
      "concat_layer (Concatenate)      (None, 384, 1200)    0           lstm_3[0][0]                     \n",
      "                                                                 attention_layer[0][0]            \n",
      "__________________________________________________________________________________________________\n",
      "time_distributed (TimeDistribut (None, 384, 52000)   62452000    concat_layer[0][0]               \n",
      "==================================================================================================\n",
      "Total params: 80,542,200\n",
      "Trainable params: 80,542,200\n",
      "Non-trainable params: 0\n",
      "__________________________________________________________________________________________________\n"
     ]
    }
   ],
   "source": [
    "from keras import backend as K \n",
    "K.clear_session()\n",
    "\n",
    "latent_dim = 300\n",
    "embedding_dim=100\n",
    "\n",
    "# Encoder\n",
    "encoder_inputs = Input(shape=(max_text_len,))\n",
    "\n",
    "#embedding layer\n",
    "enc_emb = Embedding(x_voc, embedding_dim,trainable=True)(encoder_inputs)\n",
    "\n",
    "encoder_lstm1 = Bidirectional(LSTM(latent_dim,return_sequences=True,return_state=True,dropout=0.4,recurrent_dropout=0.4))\n",
    "encoder_output1, forward_h1, forward_c1, backward_h1, backward_c1 = encoder_lstm1(enc_emb)\n",
    "\n",
    "#encoder lstm 2\n",
    "encoder_lstm2 = Bidirectional(LSTM(latent_dim,return_sequences=True,return_state=True,dropout=0.4,recurrent_dropout=0.4))\n",
    "encoder_output2, forward_h2, forward_c2, backward_h2, backward_c2 = encoder_lstm2(encoder_output1)\n",
    "\n",
    "#encoder lstm 3\n",
    "encoder_lstm3= Bidirectional(LSTM(latent_dim, return_state=True, return_sequences=True,dropout=0.4,recurrent_dropout=0.4))\n",
    "encoder_outputs, forward_h, forward_c, backward_h, backward_c = encoder_lstm3(encoder_output2)\n",
    "\n",
    "state_h = Concatenate()([forward_h, backward_h])\n",
    "state_c = Concatenate()([forward_c, backward_c])\n",
    "encoder_states = [state_h, state_c]\n",
    "\n",
    "# Set up the decoder, using `encoder_states` as initial state.\n",
    "decoder_inputs = Input(shape=(max_text_len,))\n",
    "\n",
    "#embedding layer\n",
    "dec_emb_layer = Embedding(y_voc, embedding_dim,trainable=True)\n",
    "dec_emb = dec_emb_layer(decoder_inputs)\n",
    "# decoder   \n",
    "decoder_lstm = LSTM(600, return_sequences=True, return_state=True,dropout=0.4,recurrent_dropout=0.2)\n",
    "decoder_outputs,decoder_h, decoder_c = decoder_lstm(dec_emb,initial_state=encoder_states)\n",
    "\n",
    "# Attention layer\n",
    "attn_layer = AttentionLayer(name='attention_layer')\n",
    "attn_out, attn_states = attn_layer([encoder_outputs, decoder_outputs])\n",
    "\n",
    "# Concat attention input and decoder LSTM output\n",
    "decoder_concat_input = Concatenate(axis=-1, name='concat_layer')([decoder_outputs, attn_out])\n",
    "\n",
    "#dense layer\n",
    "decoder_dense =  TimeDistributed(Dense(y_voc, activation='softmax'))\n",
    "decoder_outputs = decoder_dense(decoder_concat_input)\n",
    "\n",
    "# Define the model \n",
    "model = Model([encoder_inputs, decoder_inputs], decoder_outputs)\n",
    "\n",
    "model.summary() "
   ]
  },
  {
   "cell_type": "markdown",
   "metadata": {
    "id": "0ZVlfRuMUcoP"
   },
   "source": [
    "I am using sparse categorical cross-entropy as the loss function since it converts the integer sequence to a one-hot vector on the fly. This overcomes any memory issues."
   ]
  },
  {
   "cell_type": "code",
   "execution_count": 66,
   "metadata": {
    "id": "Lwfi1Fm8Fxiz"
   },
   "outputs": [],
   "source": [
    "model.compile(optimizer='rmsprop', loss='sparse_categorical_crossentropy')"
   ]
  },
  {
   "cell_type": "markdown",
   "metadata": {
    "id": "p0ykDbxfUhyw"
   },
   "source": [
    "The concept of early stopping is used to stop training the neural network at the right time by monitoring a user-specified metric. Here, I am monitoring the validation loss (val_loss). Our model will stop training once the validation loss increases:\n"
   ]
  },
  {
   "cell_type": "code",
   "execution_count": 67,
   "metadata": {
    "id": "s-A3J92MUljB"
   },
   "outputs": [],
   "source": [
    "es = EarlyStopping(monitor='val_loss', mode='min', verbose=1,patience=2)"
   ]
  },
  {
   "cell_type": "code",
   "execution_count": 68,
   "metadata": {
    "id": "CuXTfXtYnwv-"
   },
   "outputs": [],
   "source": [
    "checkpoint_path = \"training_1/cp.ckpt\"\n",
    "checkpoint_dir = os.path.dirname(checkpoint_path)"
   ]
  },
  {
   "cell_type": "code",
   "execution_count": 69,
   "metadata": {
    "id": "h0tRqh9FnyJN"
   },
   "outputs": [],
   "source": [
    "# Создаем коллбек сохраняющий веса модели\n",
    "cp_callback = tf.keras.callbacks.ModelCheckpoint(filepath=checkpoint_path,\n",
    "                                                 save_weights_only=True,\n",
    "                                                 verbose=1)"
   ]
  },
  {
   "cell_type": "markdown",
   "metadata": {
    "id": "Mw6CVECaUq5b"
   },
   "source": [
    "We’ll train the model on a batch size of 128 and validate it on the holdout set (which is 10% of our dataset):"
   ]
  },
  {
   "cell_type": "code",
   "execution_count": 70,
   "metadata": {
    "id": "ETnPzA4OFxi3"
   },
   "outputs": [],
   "source": [
    "#history = model.fit([x_tr,y_tr[:,:-1]], y_tr.reshape(y_tr.shape[0],y_tr.shape[1], 1)[:,1:] ,epochs=35,callbacks=[cp_callback],batch_size=64, validation_data=([x_val,y_val[:,:-1]], y_val.reshape(y_val.shape[0],y_val.shape[1], 1)[:,1:]))"
   ]
  },
  {
   "cell_type": "code",
   "execution_count": 71,
   "metadata": {
    "id": "hYSV57W7odPy"
   },
   "outputs": [],
   "source": [
    "#model.save_weights(\"bpe_model_35.h5\")"
   ]
  },
  {
   "cell_type": "code",
   "execution_count": 72,
   "metadata": {
    "id": "VoWrHWaaoiNe"
   },
   "outputs": [],
   "source": [
    "# from google.colab import files\n",
    "# files.download( \"/content/bpe_model_35.h5\" )"
   ]
  },
  {
   "cell_type": "markdown",
   "metadata": {
    "id": "bzu_bjLWe00l"
   },
   "source": [
    "Load weights of already trained model"
   ]
  },
  {
   "cell_type": "code",
   "execution_count": 73,
   "metadata": {
    "id": "WiiaIundHz0a"
   },
   "outputs": [],
   "source": [
    "#model.load_weights(\"bpe_model_35.h5\")"
   ]
  },
  {
   "cell_type": "markdown",
   "metadata": {
    "id": "0ezKYOp2UxG5"
   },
   "source": [
    "#Diagnostic plot\n"
   ]
  },
  {
   "cell_type": "code",
   "execution_count": 74,
   "metadata": {
    "id": "tDTNLAURFxjE"
   },
   "outputs": [],
   "source": [
    "# from matplotlib import pyplot\n",
    "# pyplot.plot(history.history['loss'], label='train')\n",
    "# pyplot.plot(history.history['val_loss'], label='test')\n",
    "# pyplot.legend()\n",
    "# pyplot.show()"
   ]
  },
  {
   "cell_type": "markdown",
   "metadata": {
    "id": "eM_nU_VvFxjq"
   },
   "source": [
    "# Inference\n",
    "\n",
    "Set up the inference for the encoder and decoder:"
   ]
  },
  {
   "cell_type": "code",
   "execution_count": 75,
   "metadata": {
    "id": "wkQe_2ThwEMv"
   },
   "outputs": [],
   "source": [
    "# Encode the input sequence to get the feature vector\n",
    "encoder_model = Model(inputs=encoder_inputs,outputs=[encoder_outputs, encoder_states])\n",
    "#encoder_model = Model(inputs=encoder_inputs,outputs= encoder_states )\n",
    "\n",
    "# Decoder setup\n",
    "# Below tensors will hold the states of the previous time step\n",
    "decoder_state_input_h = Input(shape=(latent_dim*2,))\n",
    "decoder_state_input_c = Input(shape=(latent_dim*2,))\n",
    "decoder_states_inputs = [decoder_state_input_h, decoder_state_input_c]\n",
    "\n",
    "decoder_hidden_state_input = Input(shape=(max_text_len,latent_dim*2))\n",
    "\n",
    "# Get the embeddings of the decoder sequence\n",
    "dec_emb2= dec_emb_layer(decoder_inputs) \n",
    "# To predict the next word in the sequence, set the initial states to the states from the previous time step\n",
    "decoder_outputs2, state_h2, state_c2  = decoder_lstm(dec_emb2, initial_state=decoder_states_inputs)\n",
    "\n",
    "#attention inference\n",
    "attn_out_inf, attn_states_inf = attn_layer([decoder_hidden_state_input, decoder_outputs2])\n",
    "decoder_inf_concat = Concatenate(axis=-1, name='concat')([decoder_outputs2, attn_out_inf])\n",
    "decoder_states = [state_h2, state_c2]\n",
    "# A dense softmax layer to generate prob dist. over the target vocabulary\n",
    "decoder_outputs2 = decoder_dense(decoder_inf_concat) \n",
    "\n",
    "# Final decoder model\n",
    "decoder_model = Model(\n",
    "    [decoder_inputs] + [decoder_hidden_state_input,decoder_states_inputs],\n",
    "    [decoder_outputs2] + [state_h2, state_c2])"
   ]
  },
  {
   "cell_type": "markdown",
   "metadata": {
    "id": "zOiyk4ToWe74"
   },
   "source": [
    "We are defining a function below which is the implementation of the inference process:"
   ]
  },
  {
   "cell_type": "code",
   "execution_count": 76,
   "metadata": {
    "id": "o-TZTKykhMDX"
   },
   "outputs": [],
   "source": [
    "def decode_sequence(input_seq):\n",
    "    # Encode the input as state vectors.\n",
    "    e_out, e_h, e_c = encoder_model.predict(input_seq)\n",
    "    \n",
    "    # Generate empty target sequence of length 1.\n",
    "    target_seq = np.zeros((1,1))\n",
    "    test=[]\n",
    "\n",
    "    stop_condition = False\n",
    "    decoded_sentence = ''\n",
    "    decoded_sentence_test = ''\n",
    "    k=0  \n",
    "     \n",
    "    while k<max_summary_len:\n",
    "        output_tokens, h, c = decoder_model.predict([target_seq] + [e_out, e_h, e_c])\n",
    "\n",
    "        # Sample a token\n",
    "        sampled_token_index = np.argmax(output_tokens[0, -1, :])\n",
    "\n",
    "        test.append(sampled_token_index)\n",
    "\n",
    "        # Update the target sequence (of length 1).\n",
    "        target_seq = np.zeros((1,1))\n",
    "        target_seq[0, 0] = sampled_token_index\n",
    "        k+=1\n",
    "        # Update internal states\n",
    "        e_h, e_c = h, c\n",
    "     \n",
    "    new_output=[]\n",
    "    for i in test:\n",
    "         if (i!=0 ):\n",
    "           new_output.append(i)\n",
    "    \n",
    "    output = y_tokenizer.decode([new_output])\n",
    "    \n",
    "    \n",
    "    newString=''\n",
    "    for i in output[0].split(' '):\n",
    "         \n",
    "         if (i!='xl' and i!='xy' ):\n",
    "             newString=newString+i+' '\n",
    "    \n",
    "    return newString"
   ]
  },
  {
   "cell_type": "markdown",
   "metadata": {
    "id": "6GuDf4TPWt6_"
   },
   "source": [
    "Let us define the functions to convert an integer sequence to a word sequence for summary as well as the reviews:"
   ]
  },
  {
   "cell_type": "code",
   "execution_count": 78,
   "metadata": {
    "id": "3qQLSP23e002"
   },
   "outputs": [],
   "source": [
    "def seq2summary(input_seq):\n",
    "    \n",
    "     new_input=[]\n",
    "     for i in range(len(input_seq)):\n",
    "         if (input_seq[i]!=0 ):\n",
    "           new_input.append(input_seq[i])\n",
    "     \n",
    "     output = y_tokenizer.decode([new_input]) \n",
    "     \n",
    "     newString=''\n",
    "     for i in output[0].split(' '):\n",
    "         \n",
    "         if (i!='xl' and i!='xy' ):\n",
    "             newString=newString+i+' '\n",
    "    \n",
    "     return newString\n",
    "\n",
    "def seq2text(input_seq):\n",
    "     new_input=[]\n",
    "     for i in input_seq:\n",
    "         \n",
    "         if (i!=0 ):\n",
    "           new_input.append(i)\n",
    "     return x_tokenizer.decode([new_input])"
   ]
  },
  {
   "cell_type": "markdown",
   "metadata": {
    "id": "9gM4ALyfWwA9"
   },
   "source": [
    "Here are a few summaries generated by the model:"
   ]
  },
  {
   "cell_type": "code",
   "execution_count": 103,
   "metadata": {
    "colab": {
     "base_uri": "https://localhost:8080/"
    },
    "id": "sIxZjHtYw_cC",
    "outputId": "630f5a89-27af-48f1-c975-1a948d7c4eb6"
   },
   "outputs": [
    {
     "name": "stdout",
     "output_type": "stream",
     "text": [
      "Review: ['so far victims have come forward to describe the abuse they suffered at jimmy hands while in the care of the national health service below are the stories of just four of the vulnerable people he targeted one victim said nurses laughed when she told them she had been sexually assaulted by savile in a hospital basement so far victims have come forward to describe the abuse they suffered at jimmy hands while in the care of the national health service the woman who was then a patient at leeds general infirmary said savile made her feel like the taking her to the local shop and buying her sweets and magazines but she claimed that later a hospital porter led']\n",
      "Original summary: so far victims have come forward to describe the abuse they suffered \n",
      "Predicted summary: victims abused by jimmy\n",
      "\n",
      "\n",
      "Review: ['laurent koscielny is arsene wengers latest injury concern after he was released by france to return to arsenal for treatment on an achilles problem the knock is only regarded as minor but it is another headache for wenger at a time when injuries are piling up at an alarming rate mesut ozil was sent home from germany after scans on his left knee revealed ligament damage which is expected to rule him out for up to three months laurent koscielny has been released by france to return to arsenal for treatment on an achilles problem the defender arrives for a press conference on tuesday ahead of frances clash with portugal on saturday france football federations statement read since joining france']\n",
      "Original summary: laurent koscielny released by france to return to arsenal for treatment \n",
      "Predicted summary: laurent koscielny returned for treatment\n",
      "\n",
      "\n",
      "Review: ['a relaxed and sensiblydressed prince anne attended the six nations international rugby union match between scotland and wales at murrayfield today the princess royal looked cheerful in a green tweed doublebreasted coat and matching trousers a longtime supporter of scotland she chatted to members of both teams before kickoff at at the edinburgh stadium princess anne meets the wales and scotland rugby teams before six nations kick off in edinburgh today the royal wore a green tweed double breasted jacket and matching trousers at murrayfield stadium anne who has a long relationship with the sport as a patron on scottish rugby union and gloucestershire rugby football union was introduced to both sides she enjoyed some prematch small talk with waless']\n",
      "Original summary: the princess royal chatted to team members before kickoff \n",
      "Predicted summary: princess attended rugby match and supported them\n",
      "\n",
      "\n",
      "Review: ['there was a standing ovation for her son as he arrived on centre court as the first british man to defend a wimbledon singles title for years but up in the stands yesterday andy mother judy was getting ready to become the star of the show herself mrs murray is said to be in the of talks to appear in the next series of strictly come dancing murray is said to be in the advanced stage of talks to appear in the next series of strictly come dancing the is a big fan of the bbc programme and often posts saucy comments about its male performers on her twitter account a source said final lineup is due to be announced']\n",
      "Original summary: judy murray in talks to appear in the next series of strictly come dancing \n",
      "Predicted summary: murray will appear in bbc program\n",
      "\n",
      "\n",
      "Review: ['by sarah griffiths published est february updated est february it might look at first glance like a villains luxurious lair from a scifi film but this five star floating hotel with restaurants a spa nightclub and rooftop pool could be built to accommodate visitors to the next world cup the concept has been developed by a finnish architects firm and the qatari authorities are said to be interested in the idea scroll down for video this five star floating hotel with restaurants a spa nightclub and rooftop pool could be built to accommodate visitors to the next world cup the floating hotel would generate its own energy as well as treat its own water and waste putting no additional strain']\n",
      "Original summary: the floating hotel concept has been developed by a finnish architects firm \n",
      "Predicted summary: floating hotel with restaurants for the world cup fans\n",
      "\n",
      "\n",
      "Review: ['by daily mail reporter published est october updated est october a triplex under construction atop a manhattan skyscraper will cost wouldbe residents a staggering million and comes with a luxury infinityedge pool its developers have announced the penthouse at the top of un plaza will have bedrooms full bathrooms a fireplace and of outdoor space including the pool when it is completed at the end of next year the building designed by norman foster is opposite the united nations building and the penthouse will provide unrivaled views of the east river and chrysler building luxury an artists rendering shows the triplex penthouse atop un plaza which is due to be completed by december the million property comes with an outdoor']\n",
      "Original summary: luxury penthouse is at the top of un plaza and will be completed by the end of \n",
      "Predicted summary: the penthouse at the top of un plaza will be completed by december\n",
      "\n",
      "\n",
      "Review: ['by daily mail reporter published est march updated est march three white men involved in the beating and fatal rundown of a black mississippi man pleaded guilty thursday to federal hate crimes and admitted to a monthslong pattern of brutal harassment against blacks dylan butler deryl dedmon and john aaron rice entered the pleas in federal court to conspiracy to commit a hate crime and to committing a hate crime while a day earlier dedmon pleaded guilty in state court to a murder charge authorities said there could be more arrests as their investigation continues scroll down for video guilty deryl dedmon left john aaron rice center and dylan butler right entered guilty pleas to conspiracy to commit a hate']\n",
      "Original summary: deryl dedmon to receive two concurrent life sentences for murder \n",
      "Predicted summary: men pleaded guilty guilty\n",
      "\n",
      "\n",
      "Review: ['by emily davies published est november updated est november nhs consultants should work on weekends because it is for patients to be at greater risk on saturdays and sundays a report has said the academy of royal colleges says drastic changes should be made to the running of hospitals so that senior staff emergency tests and urgent surgery are quickly accessible each day it suggests that patients should be checked by consultants daily because it is that patients should face greater risks on public holidays and weekends when less experienced staff take over nhs consultants should work on weekends because it is wrong for patients to be at greater risk on saturdays and sundays a report has said is wrong']\n",
      "Original summary: academy of royal colleges drastic changes needed to hospital running \n",
      "Predicted summary: patients need help on weekends\n",
      "\n",
      "\n",
      "Review: ['on thursday night in lausanne switzerland three sprinters broke the barrier for the metres justin gatlin tyson gay and mike rodgers was the quickest time in the world this year it should have been a cause for celebration but it left only a sickening churning feeling there is little entertainment in watching sport when you do not care about the winner all three sprinters after all have returned to track and field after serving drugs bans all three have never said they just swanned back into the sport and let their fast times do the talking three cheats gatlin rodgers and gay all ran under ten seconds on thursday after serving drugs bans example gatlin poses with young fans after']\n",
      "Original summary: gatlin set worlds fastest time of on thursday \n",
      "Predicted summary: sprinters set quickest time in the world\n",
      "\n",
      "\n",
      "Review: ['by jessica jerreat and ted thornhill published est september updated est september a friendly deer that become an internet hit after being filmed nuzzling up to a boy in canada has been shot dead for being too friendly a video of the amorous animal filmed on a camera phone by the boys mother in kalamalka lake vernon went viral this summer as the teenager miles higgins laughed and tried to push away the deers antlers the animal continued to rub its head over his neck and back the young man on the video wasnt the only one to receive attention from the animal which was affectionate with lots of vernon residents however the creature has been put down as wildlife']\n",
      "Original summary: video of deer brushing up against boy in canada went viral this summer \n",
      "Predicted summary: video with deer and boy was popular on the \n",
      "\n",
      "\n"
     ]
    }
   ],
   "source": [
    "for i in range(0,10):\n",
    "    print(\"Review:\",seq2text(x_val[i]))\n",
    "    print(\"Original summary:\",seq2summary(y_val[i]))\n",
    "    print(\"Predicted summary:\",decode_sequence(x_val[i].reshape(1,max_text_len)))\n",
    "    print(\"\\n\")"
   ]
  },
  {
   "cell_type": "markdown",
   "metadata": {
    "id": "OTkaYNjHW4lC"
   },
   "source": [
    "### Preparation for using metric Rouge"
   ]
  },
  {
   "cell_type": "markdown",
   "metadata": {
    "id": "RtSKJy-Oe007"
   },
   "source": [
    "Make the dataframe with original and predicted summaries"
   ]
  },
  {
   "cell_type": "code",
   "execution_count": 104,
   "metadata": {
    "id": "3Flgdd75e007"
   },
   "outputs": [],
   "source": [
    "original_summary = []\n",
    "predicted_summary = []"
   ]
  },
  {
   "cell_type": "code",
   "execution_count": 106,
   "metadata": {
    "id": "hWpTL3sxwV3F"
   },
   "outputs": [],
   "source": [
    "for i in range(len(y_val)):\n",
    "    original_summary.append(seq2summary(y_val[i]))"
   ]
  },
  {
   "cell_type": "code",
   "execution_count": 107,
   "metadata": {
    "id": "DktyY93Ce00_"
   },
   "outputs": [],
   "source": [
    "for i in range(len(original_summary)):\n",
    "    original_summary[i] = re.sub('<s>','', original_summary[i])\n",
    "    original_summary[i] = re.sub('<s','', original_summary[i])\n",
    "    original_summary[i] = re.sub('xy','', original_summary[i])\n",
    "    original_summary[i] = re.sub('<','', original_summary[i])\n",
    "    original_summary[i] = original_summary[i].strip()"
   ]
  },
  {
   "cell_type": "code",
   "execution_count": 108,
   "metadata": {
    "colab": {
     "base_uri": "https://localhost:8080/"
    },
    "id": "1AIeHOoTe01A",
    "outputId": "873d71e4-1e0c-4f7e-8ecb-f2410bcb8ee3"
   },
   "outputs": [
    {
     "data": {
      "text/plain": [
       "['so far victims have come forward to describe the abuse they suffered',\n",
       " 'laurent koscielny released by france to return to arsenal for treatment',\n",
       " 'the princess royal chatted to team members before kickoff',\n",
       " 'judy murray in talks to appear in the next series of strictly come dancing',\n",
       " 'the floating hotel concept has been developed by a finnish architects firm']"
      ]
     },
     "execution_count": 108,
     "metadata": {
      "tags": []
     },
     "output_type": "execute_result"
    }
   ],
   "source": [
    "original_summary[:5]"
   ]
  },
  {
   "cell_type": "code",
   "execution_count": 110,
   "metadata": {
    "id": "Gt6nCg9ie01B"
   },
   "outputs": [],
   "source": [
    "for i in range(len(y_val)):\n",
    "     predicted_summary.append(decode_sequence(x_val[i].reshape(1,max_text_len)))"
   ]
  },
  {
   "cell_type": "code",
   "execution_count": 111,
   "metadata": {
    "id": "yWoF2sMMe01D"
   },
   "outputs": [],
   "source": [
    "for i in range(len(predicted_summary)):\n",
    "    predicted_summary[i] = re.sub('<s>','', predicted_summary[i])\n",
    "    predicted_summary[i] = re.sub('<s','', predicted_summary[i])\n",
    "    predicted_summary[i] = re.sub('xy','', predicted_summary[i])\n",
    "    predicted_summary[i] = re.sub('<','', predicted_summary[i])\n",
    "    predicted_summary[i] = predicted_summary[i].strip()"
   ]
  },
  {
   "cell_type": "code",
   "execution_count": 112,
   "metadata": {
    "id": "DTDgAy51e01G"
   },
   "outputs": [],
   "source": [
    "dataframe = pd.DataFrame({'original_summary': original_summary, 'predicted_summary':predicted_summary})"
   ]
  },
  {
   "cell_type": "markdown",
   "metadata": {
    "id": "uK25N3KNe01I"
   },
   "source": [
    "Delete empty predictions"
   ]
  },
  {
   "cell_type": "code",
   "execution_count": null,
   "metadata": {
    "colab": {
     "base_uri": "https://localhost:8080/"
    },
    "id": "_CBSaNqxe01I",
    "outputId": "324889fd-4cbe-4b3b-d3fa-1f14c0126f22"
   },
   "outputs": [
    {
     "data": {
      "text/plain": [
       "(array([], dtype=int64),)"
      ]
     },
     "execution_count": 178,
     "metadata": {
      "tags": []
     },
     "output_type": "execute_result"
    }
   ],
   "source": [
    "np.where(dataframe['predicted_summary']=='')"
   ]
  },
  {
   "cell_type": "code",
   "execution_count": null,
   "metadata": {
    "colab": {
     "base_uri": "https://localhost:8080/"
    },
    "id": "dCKiT8-we01K",
    "outputId": "b634089a-702f-49b0-bac3-fc666f9e2b1f"
   },
   "outputs": [
    {
     "data": {
      "text/plain": [
       "(array([], dtype=int64),)"
      ]
     },
     "execution_count": 179,
     "metadata": {
      "tags": []
     },
     "output_type": "execute_result"
    }
   ],
   "source": [
    "np.where(dataframe['original_summary']=='')"
   ]
  },
  {
   "cell_type": "code",
   "execution_count": null,
   "metadata": {
    "id": "ZEFUHoYye01L"
   },
   "outputs": [],
   "source": [
    "dataframe = dataframe.drop(np.where(dataframe['predicted_summary']=='')[0])"
   ]
  },
  {
   "cell_type": "code",
   "execution_count": null,
   "metadata": {
    "id": "BltvIaZUe01N"
   },
   "outputs": [],
   "source": [
    "dataframe = dataframe.reset_index(drop=True)"
   ]
  },
  {
   "cell_type": "code",
   "execution_count": 113,
   "metadata": {
    "colab": {
     "base_uri": "https://localhost:8080/"
    },
    "id": "lh9Irgsse01O",
    "outputId": "79132589-c083-4f24-b59d-a9b1aedcc3c9"
   },
   "outputs": [
    {
     "data": {
      "text/plain": [
       "(30883, 2)"
      ]
     },
     "execution_count": 113,
     "metadata": {
      "tags": []
     },
     "output_type": "execute_result"
    }
   ],
   "source": [
    "dataframe.shape"
   ]
  },
  {
   "cell_type": "code",
   "execution_count": null,
   "metadata": {
    "id": "otq9AWxle01Q"
   },
   "outputs": [],
   "source": [
    "dataframe.to_csv('predictions_cnn_without_empty.csv')"
   ]
  },
  {
   "cell_type": "markdown",
   "metadata": {
    "id": "XZre-y0Ve01S"
   },
   "source": [
    "Create two folders with txt original and predicted summaries"
   ]
  },
  {
   "cell_type": "code",
   "execution_count": null,
   "metadata": {
    "id": "PrG8k0tIe01S"
   },
   "outputs": [],
   "source": [
    "for i in range(len(dataframe)):\n",
    "    \n",
    "    f = open('original_cnn/original_summary' + str(i) + '.txt', 'w', encoding=\"utf-8\")\n",
    "    f.write(dataframe['original_summary'][i])"
   ]
  },
  {
   "cell_type": "code",
   "execution_count": null,
   "metadata": {
    "id": "Yg4C2Htme01V"
   },
   "outputs": [],
   "source": [
    "for i in range(len(dataframe)):\n",
    "    \n",
    "    f = open('predicted_cnn/predicted_summary' + str(i) + '.txt', 'w', encoding=\"utf-8\")\n",
    "    f.write(dataframe['predicted_summary'][i])"
   ]
  },
  {
   "cell_type": "markdown",
   "metadata": {
    "id": "DCdj5NwDe01W"
   },
   "source": [
    "Import pyrouge"
   ]
  },
  {
   "cell_type": "code",
   "execution_count": 9,
   "metadata": {
    "id": "cJxFUskUe01W"
   },
   "outputs": [],
   "source": [
    "from pyrouge import Rouge155"
   ]
  },
  {
   "cell_type": "code",
   "execution_count": 10,
   "metadata": {
    "id": "BXZrG3jXe01X",
    "outputId": "256136d1-c12c-49f9-cb07-4aa9848bcbf0"
   },
   "outputs": [
    {
     "name": "stderr",
     "output_type": "stream",
     "text": [
      "2020-11-01 13:05:31,055 [MainThread  ] [INFO ]  Set ROUGE home directory to C:/Users/Margarita/pyrouge/rouge/tools/ROUGE-1.5.5.\n"
     ]
    }
   ],
   "source": [
    "r = Rouge155('C:/Users/Margarita/pyrouge/rouge/tools/ROUGE-1.5.5')"
   ]
  },
  {
   "cell_type": "code",
   "execution_count": 11,
   "metadata": {
    "id": "-Mk2vOQ9e01Y"
   },
   "outputs": [],
   "source": [
    "r.system_dir = 'C:/Users/Margarita/Documents/bpe_dropout/How-to-build-own-text-summarizer-using-deep-learning-master/original_bilstm_lstm_secretiki' # Summaries to score against.\n",
    "r.model_dir = 'C:/Users/Margarita/Documents/bpe_dropout/How-to-build-own-text-summarizer-using-deep-learning-master/predicted_bilstm_lstm_secretiki'  # Summaries generated by the model"
   ]
  },
  {
   "cell_type": "code",
   "execution_count": 12,
   "metadata": {
    "id": "6NeibBnCe01Z"
   },
   "outputs": [],
   "source": [
    "r.system_filename_pattern = 'original_summary(\\d+).txt'\n",
    "r.model_filename_pattern = 'predicted_summary#ID#.txt'"
   ]
  },
  {
   "cell_type": "code",
   "execution_count": 1,
   "metadata": {
    "id": "6JZm_sSOe01a"
   },
   "outputs": [],
   "source": [
    "#output = r.convert_and_evaluate()"
   ]
  },
  {
   "cell_type": "code",
   "execution_count": 14,
   "metadata": {},
   "outputs": [
    {
     "name": "stdout",
     "output_type": "stream",
     "text": [
      "---------------------------------------------\r\n",
      "1 ROUGE-1 Average_R: 0.33947 (95%-conf.int. 0.33187 - 0.34706)\r\n",
      "1 ROUGE-1 Average_P: 0.27241 (95%-conf.int. 0.26540 - 0.27900)\r\n",
      "1 ROUGE-1 Average_F: 0.28719 (95%-conf.int. 0.28019 - 0.29378)\r\n",
      "---------------------------------------------\r\n",
      "1 ROUGE-2 Average_R: 0.12645 (95%-conf.int. 0.12040 - 0.13230)\r\n",
      "1 ROUGE-2 Average_P: 0.10543 (95%-conf.int. 0.09995 - 0.11072)\r\n",
      "1 ROUGE-2 Average_F: 0.10978 (95%-conf.int. 0.10431 - 0.11500)\r\n",
      "---------------------------------------------\r\n",
      "1 ROUGE-3 Average_R: 0.03612 (95%-conf.int. 0.03274 - 0.03956)\r\n",
      "1 ROUGE-3 Average_P: 0.03341 (95%-conf.int. 0.03023 - 0.03692)\r\n",
      "1 ROUGE-3 Average_F: 0.03384 (95%-conf.int. 0.03062 - 0.03722)\r\n",
      "---------------------------------------------\r\n",
      "1 ROUGE-4 Average_R: 0.01506 (95%-conf.int. 0.01247 - 0.01752)\r\n",
      "1 ROUGE-4 Average_P: 0.01481 (95%-conf.int. 0.01238 - 0.01721)\r\n",
      "1 ROUGE-4 Average_F: 0.01483 (95%-conf.int. 0.01232 - 0.01724)\r\n",
      "---------------------------------------------\r\n",
      "1 ROUGE-L Average_R: 0.33612 (95%-conf.int. 0.32863 - 0.34339)\r\n",
      "1 ROUGE-L Average_P: 0.27007 (95%-conf.int. 0.26299 - 0.27669)\r\n",
      "1 ROUGE-L Average_F: 0.28460 (95%-conf.int. 0.27753 - 0.29110)\r\n",
      "---------------------------------------------\r\n",
      "1 ROUGE-W-1.2 Average_R: 0.29284 (95%-conf.int. 0.28609 - 0.29929)\r\n",
      "1 ROUGE-W-1.2 Average_P: 0.26921 (95%-conf.int. 0.26215 - 0.27584)\r\n",
      "1 ROUGE-W-1.2 Average_F: 0.26385 (95%-conf.int. 0.25747 - 0.26997)\r\n",
      "---------------------------------------------\r\n",
      "1 ROUGE-S* Average_R: 0.13907 (95%-conf.int. 0.13247 - 0.14520)\r\n",
      "1 ROUGE-S* Average_P: 0.10279 (95%-conf.int. 0.09719 - 0.10841)\r\n",
      "1 ROUGE-S* Average_F: 0.10602 (95%-conf.int. 0.10061 - 0.11133)\r\n",
      "---------------------------------------------\r\n",
      "1 ROUGE-SU* Average_R: 0.18110 (95%-conf.int. 0.17426 - 0.18780)\r\n",
      "1 ROUGE-SU* Average_P: 0.13304 (95%-conf.int. 0.12720 - 0.13874)\r\n",
      "1 ROUGE-SU* Average_F: 0.13809 (95%-conf.int. 0.13228 - 0.14369)\r\n",
      "\n"
     ]
    }
   ],
   "source": [
    "print(output)"
   ]
  },
  {
   "cell_type": "code",
   "execution_count": null,
   "metadata": {},
   "outputs": [],
   "source": []
  }
 ],
 "metadata": {
  "accelerator": "GPU",
  "colab": {
   "collapsed_sections": [],
   "machine_shape": "hm",
   "name": "summarizer_with_bpe.ipynb",
   "provenance": [],
   "toc_visible": true
  },
  "kernelspec": {
   "display_name": "Python 3",
   "language": "python",
   "name": "python3"
  },
  "language_info": {
   "codemirror_mode": {
    "name": "ipython",
    "version": 3
   },
   "file_extension": ".py",
   "mimetype": "text/x-python",
   "name": "python",
   "nbconvert_exporter": "python",
   "pygments_lexer": "ipython3",
   "version": "3.7.7"
  }
 },
 "nbformat": 4,
 "nbformat_minor": 1
}
