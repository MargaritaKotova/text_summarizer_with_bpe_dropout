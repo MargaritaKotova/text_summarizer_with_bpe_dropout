{
 "cells": [
  {
   "cell_type": "code",
   "execution_count": 1,
   "metadata": {
    "colab": {
     "base_uri": "https://localhost:8080/",
     "height": 121
    },
    "colab_type": "code",
    "executionInfo": {
     "elapsed": 33332,
     "status": "ok",
     "timestamp": 1596614366421,
     "user": {
      "displayName": "Маргарита Александровна Котова",
      "photoUrl": "",
      "userId": "10449559957278129373"
     },
     "user_tz": -180
    },
    "id": "k200sBXmWaUB",
    "outputId": "ae8af164-cdda-4f6d-bdfc-8d8524488120"
   },
   "outputs": [],
   "source": [
    "# from google.colab import drive\n",
    "# drive.mount('/content/drive/')"
   ]
  },
  {
   "cell_type": "code",
   "execution_count": 2,
   "metadata": {
    "colab": {},
    "colab_type": "code",
    "id": "2WFdMOKnZs3b"
   },
   "outputs": [],
   "source": [
    "\n",
    "#!apt-get install -y -qq software-properties-common python-software-properties module-init-tools\n",
    "# !add-apt-repository -y ppa:alessandro-strada/ppa 2>&1 > /dev/null\n",
    "# !apt-get update -qq 2>&1 > /dev/null\n",
    "# !apt-get -y install -qq google-drive-ocamlfuse fuse\n",
    "# from google.colab import auth\n",
    "# auth.authenticate_user()\n",
    "# from oauth2client.client import GoogleCredentials\n",
    "# creds = GoogleCredentials.get_application_default()\n",
    "# import getpass\n",
    "# !google-drive-ocamlfuse -headless -id={creds.client_id} -secret={creds.client_secret} < /dev/null 2>&1 | grep URL\n",
    "# vcode = getpass.getpass()\n",
    "# !echo {vcode} | google-drive-ocamlfuse -headless -id={creds.client_id} -secret={creds.client_secret}"
   ]
  },
  {
   "cell_type": "code",
   "execution_count": 3,
   "metadata": {
    "colab": {
     "base_uri": "https://localhost:8080/",
     "height": 34
    },
    "colab_type": "code",
    "executionInfo": {
     "elapsed": 9625,
     "status": "ok",
     "timestamp": 1596614378246,
     "user": {
      "displayName": "Маргарита Александровна Котова",
      "photoUrl": "",
      "userId": "10449559957278129373"
     },
     "user_tz": -180
    },
    "id": "4fgjYheOWcXv",
    "outputId": "d5c58813-ce04-4dc7-e9d1-e98f1ab3b67d"
   },
   "outputs": [],
   "source": [
    "# !mkdir -p drive\n",
    "# !google-drive-ocamlfuse drive"
   ]
  },
  {
   "cell_type": "code",
   "execution_count": 4,
   "metadata": {
    "colab": {},
    "colab_type": "code",
    "executionInfo": {
     "elapsed": 13640,
     "status": "ok",
     "timestamp": 1596614382808,
     "user": {
      "displayName": "Маргарита Александровна Котова",
      "photoUrl": "",
      "userId": "10449559957278129373"
     },
     "user_tz": -180
    },
    "id": "mFEhO9clWg7N"
   },
   "outputs": [],
   "source": [
    "# !cp \"/content/drive/My Drive/Colab Notebooks/attention_keras/src/layers/attention.py\" ."
   ]
  },
  {
   "cell_type": "markdown",
   "metadata": {},
   "source": [
    "AttentionLayer was taken from here https://github.com/thushv89/attention_keras"
   ]
  },
  {
   "cell_type": "code",
   "execution_count": 1,
   "metadata": {
    "colab": {},
    "colab_type": "code",
    "id": "RUoXIgiN8mwd"
   },
   "outputs": [
    {
     "name": "stderr",
     "output_type": "stream",
     "text": [
      "C:\\ProgramData\\Anaconda3\\lib\\site-packages\\tensorboard\\compat\\tensorflow_stub\\dtypes.py:541: FutureWarning: Passing (type, 1) or '1type' as a synonym of type is deprecated; in a future version of numpy, it will be understood as (type, (1,)) / '(1,)type'.\n",
      "  _np_qint8 = np.dtype([(\"qint8\", np.int8, 1)])\n",
      "C:\\ProgramData\\Anaconda3\\lib\\site-packages\\tensorboard\\compat\\tensorflow_stub\\dtypes.py:542: FutureWarning: Passing (type, 1) or '1type' as a synonym of type is deprecated; in a future version of numpy, it will be understood as (type, (1,)) / '(1,)type'.\n",
      "  _np_quint8 = np.dtype([(\"quint8\", np.uint8, 1)])\n",
      "C:\\ProgramData\\Anaconda3\\lib\\site-packages\\tensorboard\\compat\\tensorflow_stub\\dtypes.py:543: FutureWarning: Passing (type, 1) or '1type' as a synonym of type is deprecated; in a future version of numpy, it will be understood as (type, (1,)) / '(1,)type'.\n",
      "  _np_qint16 = np.dtype([(\"qint16\", np.int16, 1)])\n",
      "C:\\ProgramData\\Anaconda3\\lib\\site-packages\\tensorboard\\compat\\tensorflow_stub\\dtypes.py:544: FutureWarning: Passing (type, 1) or '1type' as a synonym of type is deprecated; in a future version of numpy, it will be understood as (type, (1,)) / '(1,)type'.\n",
      "  _np_quint16 = np.dtype([(\"quint16\", np.uint16, 1)])\n",
      "C:\\ProgramData\\Anaconda3\\lib\\site-packages\\tensorboard\\compat\\tensorflow_stub\\dtypes.py:545: FutureWarning: Passing (type, 1) or '1type' as a synonym of type is deprecated; in a future version of numpy, it will be understood as (type, (1,)) / '(1,)type'.\n",
      "  _np_qint32 = np.dtype([(\"qint32\", np.int32, 1)])\n",
      "C:\\ProgramData\\Anaconda3\\lib\\site-packages\\tensorboard\\compat\\tensorflow_stub\\dtypes.py:550: FutureWarning: Passing (type, 1) or '1type' as a synonym of type is deprecated; in a future version of numpy, it will be understood as (type, (1,)) / '(1,)type'.\n",
      "  np_resource = np.dtype([(\"resource\", np.ubyte, 1)])\n"
     ]
    }
   ],
   "source": [
    "from attention_keras.src.layers.attention import AttentionLayer"
   ]
  },
  {
   "cell_type": "code",
   "execution_count": 1,
   "metadata": {
    "_cell_guid": "b1076dfc-b9ad-4769-8c92-a6c4dae69d19",
    "_uuid": "8f2839f25d086af736a60e9eeb907d3b93b6e0e5",
    "colab": {
     "base_uri": "https://localhost:8080/",
     "height": 34
    },
    "colab_type": "code",
    "id": "_Jpu8qLEFxcY",
    "outputId": "2f44968b-fac2-4bc9-bdb6-addc72808301"
   },
   "outputs": [
    {
     "name": "stderr",
     "output_type": "stream",
     "text": [
      "C:\\ProgramData\\Anaconda3\\lib\\site-packages\\tensorboard\\compat\\tensorflow_stub\\dtypes.py:541: FutureWarning: Passing (type, 1) or '1type' as a synonym of type is deprecated; in a future version of numpy, it will be understood as (type, (1,)) / '(1,)type'.\n",
      "  _np_qint8 = np.dtype([(\"qint8\", np.int8, 1)])\n",
      "C:\\ProgramData\\Anaconda3\\lib\\site-packages\\tensorboard\\compat\\tensorflow_stub\\dtypes.py:542: FutureWarning: Passing (type, 1) or '1type' as a synonym of type is deprecated; in a future version of numpy, it will be understood as (type, (1,)) / '(1,)type'.\n",
      "  _np_quint8 = np.dtype([(\"quint8\", np.uint8, 1)])\n",
      "C:\\ProgramData\\Anaconda3\\lib\\site-packages\\tensorboard\\compat\\tensorflow_stub\\dtypes.py:543: FutureWarning: Passing (type, 1) or '1type' as a synonym of type is deprecated; in a future version of numpy, it will be understood as (type, (1,)) / '(1,)type'.\n",
      "  _np_qint16 = np.dtype([(\"qint16\", np.int16, 1)])\n",
      "C:\\ProgramData\\Anaconda3\\lib\\site-packages\\tensorboard\\compat\\tensorflow_stub\\dtypes.py:544: FutureWarning: Passing (type, 1) or '1type' as a synonym of type is deprecated; in a future version of numpy, it will be understood as (type, (1,)) / '(1,)type'.\n",
      "  _np_quint16 = np.dtype([(\"quint16\", np.uint16, 1)])\n",
      "C:\\ProgramData\\Anaconda3\\lib\\site-packages\\tensorboard\\compat\\tensorflow_stub\\dtypes.py:545: FutureWarning: Passing (type, 1) or '1type' as a synonym of type is deprecated; in a future version of numpy, it will be understood as (type, (1,)) / '(1,)type'.\n",
      "  _np_qint32 = np.dtype([(\"qint32\", np.int32, 1)])\n",
      "C:\\ProgramData\\Anaconda3\\lib\\site-packages\\tensorboard\\compat\\tensorflow_stub\\dtypes.py:550: FutureWarning: Passing (type, 1) or '1type' as a synonym of type is deprecated; in a future version of numpy, it will be understood as (type, (1,)) / '(1,)type'.\n",
      "  np_resource = np.dtype([(\"resource\", np.ubyte, 1)])\n"
     ]
    }
   ],
   "source": [
    "import numpy as np\n",
    "import pandas as pd \n",
    "import re\n",
    "from bs4 import BeautifulSoup\n",
    "from keras.preprocessing.text import Tokenizer \n",
    "from keras.preprocessing.sequence import pad_sequences\n",
    "from nltk.corpus import stopwords\n",
    "from tensorflow.keras.layers import Input, LSTM, Embedding, Dense, Concatenate, TimeDistributed\n",
    "from tensorflow.keras.models import Model\n",
    "from tensorflow.keras.callbacks import EarlyStopping\n",
    "import warnings\n",
    "pd.set_option(\"display.max_colwidth\", 200)\n",
    "warnings.filterwarnings(\"ignore\")\n",
    "from os import listdir"
   ]
  },
  {
   "cell_type": "code",
   "execution_count": 197,
   "metadata": {
    "colab": {
     "base_uri": "https://localhost:8080/",
     "height": 35
    },
    "colab_type": "code",
    "id": "E2zwYkd48mwk",
    "outputId": "902902b3-d7c9-4496-be41-41dd65ac9b2f"
   },
   "outputs": [
    {
     "data": {
      "text/plain": [
       "'2.2.0'"
      ]
     },
     "execution_count": 197,
     "metadata": {},
     "output_type": "execute_result"
    }
   ],
   "source": [
    "import tensorflow as tf\n",
    "tf.__version__"
   ]
  },
  {
   "cell_type": "markdown",
   "metadata": {
    "colab_type": "text",
    "id": "UVakjZ3oICgx"
   },
   "source": [
    "#Read the dataset\n",
    "\n",
    "CNN daily mail dataset consists of long news articles(an average of ~800 words). It consists of both articles and summaries of those articles."
   ]
  },
  {
   "cell_type": "code",
   "execution_count": 7,
   "metadata": {
    "colab": {},
    "colab_type": "code",
    "executionInfo": {
     "elapsed": 508,
     "status": "ok",
     "timestamp": 1596614387704,
     "user": {
      "displayName": "Маргарита Александровна Котова",
      "photoUrl": "",
      "userId": "10449559957278129373"
     },
     "user_tz": -180
    },
    "id": "VevOwSP3_alh"
   },
   "outputs": [],
   "source": [
    "import zipfile\n",
    "import os"
   ]
  },
  {
   "cell_type": "code",
   "execution_count": 8,
   "metadata": {
    "colab": {},
    "colab_type": "code",
    "executionInfo": {
     "elapsed": 24751,
     "status": "ok",
     "timestamp": 1596614412577,
     "user": {
      "displayName": "Маргарита Александровна Котова",
      "photoUrl": "",
      "userId": "10449559957278129373"
     },
     "user_tz": -180
    },
    "id": "AfXrIG65JMW_"
   },
   "outputs": [],
   "source": [
    "\n",
    "\n",
    "# zpfile = '/content/drive/My Drive/Colab Notebooks/cnn_stories.zip'\n",
    "# z = zipfile.ZipFile(zpfile, 'r')\n",
    "# z.extractall()"
   ]
  },
  {
   "cell_type": "code",
   "execution_count": 9,
   "metadata": {
    "colab": {
     "base_uri": "https://localhost:8080/",
     "height": 34
    },
    "colab_type": "code",
    "executionInfo": {
     "elapsed": 24012,
     "status": "ok",
     "timestamp": 1596614412579,
     "user": {
      "displayName": "Маргарита Александровна Котова",
      "photoUrl": "",
      "userId": "10449559957278129373"
     },
     "user_tz": -180
    },
    "id": "xf0LFHw0LBid",
    "outputId": "40670efc-8fa2-42bf-887b-e92bcc5d5d8e"
   },
   "outputs": [],
   "source": [
    "#print(os.listdir())"
   ]
  },
  {
   "cell_type": "code",
   "execution_count": 10,
   "metadata": {
    "colab": {
     "base_uri": "https://localhost:8080/",
     "height": 34
    },
    "colab_type": "code",
    "executionInfo": {
     "elapsed": 28000,
     "status": "ok",
     "timestamp": 1596614417262,
     "user": {
      "displayName": "Маргарита Александровна Котова",
      "photoUrl": "",
      "userId": "10449559957278129373"
     },
     "user_tz": -180
    },
    "id": "iFsMuSP9UUae",
    "outputId": "ec4cdcd6-beec-4faa-d8bc-1186d28c4de2"
   },
   "outputs": [
    {
     "name": "stdout",
     "output_type": "stream",
     "text": [
      "Loaded Stories 92579\n"
     ]
    }
   ],
   "source": [
    "# load doc into memory\n",
    "def load_doc(filename):\n",
    "\t# open the file as read only\n",
    "\n",
    "\tfile = open(filename, encoding='utf-8')\n",
    "\t# read all text\n",
    "\ttext = file.read()\n",
    "\t# close the file\n",
    "\tfile.close()\n",
    "\treturn text\n",
    " \n",
    "# split a document into news story and highlights\n",
    "def split_story(doc):\n",
    "\t# find first highlight\n",
    "\tindex = doc.find('@highlight')\n",
    "\t# split into story and highlights\n",
    "\tstory, highlights = doc[:index], doc[index:].split('@highlight')\n",
    "\t# strip extra white space around each highlight\n",
    "\thighlights = [h.strip() for h in highlights if len(h) > 0]\n",
    "\treturn story, highlights\n",
    " \n",
    "# load all stories in a directory\n",
    "def load_stories(directory):\n",
    "\tstories = list()\n",
    "\tfor name in listdir(directory):\n",
    "\t\tfilename = directory + '/' + name\n",
    "\t\t# load document\n",
    "\t\tdoc = load_doc(filename)\n",
    "\t\t# split into story and highlights\n",
    "\t\tstory, highlights = split_story(doc)\n",
    "\t\t# store\n",
    "\t\tstories.append({'story':story, 'highlights':highlights})\n",
    "\treturn stories\n",
    " \n",
    "# load stories\n",
    "directory = 'cnn_stories/cnn/stories/'\n",
    "stories = load_stories(directory)\n",
    "print('Loaded Stories %d' % len(stories))"
   ]
  },
  {
   "cell_type": "code",
   "execution_count": 11,
   "metadata": {
    "colab": {},
    "colab_type": "code",
    "executionInfo": {
     "elapsed": 84223,
     "status": "ok",
     "timestamp": 1596614474363,
     "user": {
      "displayName": "Маргарита Александровна Котова",
      "photoUrl": "",
      "userId": "10449559957278129373"
     },
     "user_tz": -180
    },
    "id": "p4J_ZQc6UUal"
   },
   "outputs": [],
   "source": [
    "import string\n",
    "\n",
    "\n",
    "# clean a list of lines\n",
    "def clean_lines(lines):\n",
    "\tcleaned = list()\n",
    "\t# prepare a translation table to remove punctuation\n",
    "\ttable = str.maketrans('', '', string.punctuation)\n",
    "\tfor line in lines:\n",
    "\t\t# strip source cnn office if it exists\n",
    "\t\tindex = line.find('(CNN) -- ')\n",
    "\t\tif index > -1:\n",
    "\t\t\tline = line[index+len('(CNN)'):]\n",
    "\t\t# tokenize on white space\n",
    "\t\tline = line.split()\n",
    "\t\t# convert to lower case\n",
    "\t\tline = [word.lower() for word in line]\n",
    "\t\t# remove punctuation from each token\n",
    "\t\tline = [w.translate(table) for w in line]\n",
    "\t\t# remove tokens with numbers in them\n",
    "\t\tline = [word for word in line if word.isalpha()]\n",
    "\t\t# store as string\n",
    "\t\tcleaned.append(' '.join(line))\n",
    "\t# remove empty strings\n",
    "\tcleaned = [c for c in cleaned if len(c) > 0]\n",
    "\treturn cleaned\n",
    "\n",
    "# clean stories\n",
    "for example in stories:\n",
    "\texample['story'] = clean_lines(example['story'].split('\\n'))\n",
    "\texample['highlights'] = clean_lines(example['highlights'])"
   ]
  },
  {
   "cell_type": "code",
   "execution_count": 12,
   "metadata": {
    "colab": {},
    "colab_type": "code",
    "executionInfo": {
     "elapsed": 83495,
     "status": "ok",
     "timestamp": 1596614474366,
     "user": {
      "displayName": "Маргарита Александровна Котова",
      "photoUrl": "",
      "userId": "10449559957278129373"
     },
     "user_tz": -180
    },
    "id": "Gfi7Th6J02v8"
   },
   "outputs": [],
   "source": [
    "data = pd.DataFrame(stories)"
   ]
  },
  {
   "cell_type": "code",
   "execution_count": 13,
   "metadata": {
    "colab": {
     "base_uri": "https://localhost:8080/",
     "height": 363
    },
    "colab_type": "code",
    "executionInfo": {
     "elapsed": 82817,
     "status": "ok",
     "timestamp": 1596614474367,
     "user": {
      "displayName": "Маргарита Александровна Котова",
      "photoUrl": "",
      "userId": "10449559957278129373"
     },
     "user_tz": -180
    },
    "id": "cE0c_Zby8mwr",
    "outputId": "62c40984-826f-4e22-a3bc-280ad8e0c8ee"
   },
   "outputs": [
    {
     "data": {
      "text/html": [
       "<div>\n",
       "<style scoped>\n",
       "    .dataframe tbody tr th:only-of-type {\n",
       "        vertical-align: middle;\n",
       "    }\n",
       "\n",
       "    .dataframe tbody tr th {\n",
       "        vertical-align: top;\n",
       "    }\n",
       "\n",
       "    .dataframe thead th {\n",
       "        text-align: right;\n",
       "    }\n",
       "</style>\n",
       "<table border=\"1\" class=\"dataframe\">\n",
       "  <thead>\n",
       "    <tr style=\"text-align: right;\">\n",
       "      <th></th>\n",
       "      <th>story</th>\n",
       "      <th>highlights</th>\n",
       "    </tr>\n",
       "  </thead>\n",
       "  <tbody>\n",
       "    <tr>\n",
       "      <th>0</th>\n",
       "      <td>[its official us president barack obama wants lawmakers to weigh in on whether to use military force in syria, obama sent a letter to the heads of the house and senate on saturday night hours afte...</td>\n",
       "      <td>[syrian official obama climbed to the top of the tree doesnt know how to get down, obama sends a letter to the heads of the house and senate, obama to seek congressional approval on military actio...</td>\n",
       "    </tr>\n",
       "    <tr>\n",
       "      <th>1</th>\n",
       "      <td>[usain bolt rounded off the world championships sunday by claiming his third gold in moscow as he anchored jamaica to victory in the mens relay, the fastest man in the world charged clear of unite...</td>\n",
       "      <td>[usain bolt wins third gold of world championship, anchors jamaica to relay victory, eighth gold at the championships for bolt, jamaica double up in womens relay]</td>\n",
       "    </tr>\n",
       "    <tr>\n",
       "      <th>2</th>\n",
       "      <td>[the general services administration already under investigation for lavish spending allowed an employee to telecommute from hawaii even though he is based at the gsas kansas city missouri office ...</td>\n",
       "      <td>[the employee in agencys kansas city office is among hundreds of virtual workers, the employees travel to and from the mainland us last year cost more than, the telecommuting program like all gsa ...</td>\n",
       "    </tr>\n",
       "    <tr>\n",
       "      <th>3</th>\n",
       "      <td>[a medical doctor in vancouver british columbia said thursday that california arson suspect harry burkhart suffered from severe mental illness in when she examined him as part of a team of doctors...</td>\n",
       "      <td>[new a canadian doctor says she was part of a team examining harry burkhart in, new diagnosis autism severe anxiety posttraumatic stress disorder and depression, burkhart is also suspected in a ge...</td>\n",
       "    </tr>\n",
       "    <tr>\n",
       "      <th>4</th>\n",
       "      <td>[police arrested another teen thursday the sixth suspect jailed in connection with the gang rape of a girl on a northern california high school campus, jose carlos montano was arrested on charges ...</td>\n",
       "      <td>[another arrest made in gang rape outside california school, investigators say up to people took part or stood and watched the assault, four suspects appeared in court thursday three wore bulletpr...</td>\n",
       "    </tr>\n",
       "  </tbody>\n",
       "</table>\n",
       "</div>"
      ],
      "text/plain": [
       "                                                                                                                                                                                                     story  \\\n",
       "0  [its official us president barack obama wants lawmakers to weigh in on whether to use military force in syria, obama sent a letter to the heads of the house and senate on saturday night hours afte...   \n",
       "1  [usain bolt rounded off the world championships sunday by claiming his third gold in moscow as he anchored jamaica to victory in the mens relay, the fastest man in the world charged clear of unite...   \n",
       "2  [the general services administration already under investigation for lavish spending allowed an employee to telecommute from hawaii even though he is based at the gsas kansas city missouri office ...   \n",
       "3  [a medical doctor in vancouver british columbia said thursday that california arson suspect harry burkhart suffered from severe mental illness in when she examined him as part of a team of doctors...   \n",
       "4  [police arrested another teen thursday the sixth suspect jailed in connection with the gang rape of a girl on a northern california high school campus, jose carlos montano was arrested on charges ...   \n",
       "\n",
       "                                                                                                                                                                                                highlights  \n",
       "0  [syrian official obama climbed to the top of the tree doesnt know how to get down, obama sends a letter to the heads of the house and senate, obama to seek congressional approval on military actio...  \n",
       "1                                       [usain bolt wins third gold of world championship, anchors jamaica to relay victory, eighth gold at the championships for bolt, jamaica double up in womens relay]  \n",
       "2  [the employee in agencys kansas city office is among hundreds of virtual workers, the employees travel to and from the mainland us last year cost more than, the telecommuting program like all gsa ...  \n",
       "3  [new a canadian doctor says she was part of a team examining harry burkhart in, new diagnosis autism severe anxiety posttraumatic stress disorder and depression, burkhart is also suspected in a ge...  \n",
       "4  [another arrest made in gang rape outside california school, investigators say up to people took part or stood and watched the assault, four suspects appeared in court thursday three wore bulletpr...  "
      ]
     },
     "execution_count": 13,
     "metadata": {},
     "output_type": "execute_result"
    }
   ],
   "source": [
    "data.head()"
   ]
  },
  {
   "cell_type": "code",
   "execution_count": 14,
   "metadata": {
    "colab": {},
    "colab_type": "code",
    "executionInfo": {
     "elapsed": 82014,
     "status": "ok",
     "timestamp": 1596614474367,
     "user": {
      "displayName": "Маргарита Александровна Котова",
      "photoUrl": "",
      "userId": "10449559957278129373"
     },
     "user_tz": -180
    },
    "id": "sAQigq6PUUa2"
   },
   "outputs": [],
   "source": [
    "data.rename(columns={\"highlights\": \"Summary\", \"story\": \"Text\"}, inplace=True)"
   ]
  },
  {
   "cell_type": "code",
   "execution_count": 17,
   "metadata": {
    "colab": {},
    "colab_type": "code",
    "executionInfo": {
     "elapsed": 79513,
     "status": "ok",
     "timestamp": 1596614474370,
     "user": {
      "displayName": "Маргарита Александровна Котова",
      "photoUrl": "",
      "userId": "10449559957278129373"
     },
     "user_tz": -180
    },
    "id": "nS4z4q_9UUa7"
   },
   "outputs": [],
   "source": [
    "data['Text'] = data['Text'].apply(lambda x: ' '.join(x) )"
   ]
  },
  {
   "cell_type": "code",
   "execution_count": 18,
   "metadata": {
    "colab": {},
    "colab_type": "code",
    "executionInfo": {
     "elapsed": 79319,
     "status": "ok",
     "timestamp": 1596614474772,
     "user": {
      "displayName": "Маргарита Александровна Котова",
      "photoUrl": "",
      "userId": "10449559957278129373"
     },
     "user_tz": -180
    },
    "id": "9WajpwUVUUa-"
   },
   "outputs": [],
   "source": [
    "data['Summary'] = data['Summary'].apply(lambda x: ' '.join(x) )"
   ]
  },
  {
   "cell_type": "code",
   "execution_count": 19,
   "metadata": {
    "colab": {
     "base_uri": "https://localhost:8080/",
     "height": 363
    },
    "colab_type": "code",
    "executionInfo": {
     "elapsed": 78685,
     "status": "ok",
     "timestamp": 1596614474773,
     "user": {
      "displayName": "Маргарита Александровна Котова",
      "photoUrl": "",
      "userId": "10449559957278129373"
     },
     "user_tz": -180
    },
    "id": "esUFFkjPUUbD",
    "outputId": "32f87bfa-9b14-4c7e-a19f-8ca79535df81"
   },
   "outputs": [
    {
     "data": {
      "text/html": [
       "<div>\n",
       "<style scoped>\n",
       "    .dataframe tbody tr th:only-of-type {\n",
       "        vertical-align: middle;\n",
       "    }\n",
       "\n",
       "    .dataframe tbody tr th {\n",
       "        vertical-align: top;\n",
       "    }\n",
       "\n",
       "    .dataframe thead th {\n",
       "        text-align: right;\n",
       "    }\n",
       "</style>\n",
       "<table border=\"1\" class=\"dataframe\">\n",
       "  <thead>\n",
       "    <tr style=\"text-align: right;\">\n",
       "      <th></th>\n",
       "      <th>Text</th>\n",
       "      <th>Summary</th>\n",
       "    </tr>\n",
       "  </thead>\n",
       "  <tbody>\n",
       "    <tr>\n",
       "      <th>0</th>\n",
       "      <td>its official us president barack obama wants lawmakers to weigh in on whether to use military force in syria obama sent a letter to the heads of the house and senate on saturday night hours after ...</td>\n",
       "      <td>syrian official obama climbed to the top of the tree doesnt know how to get down obama sends a letter to the heads of the house and senate obama to seek congressional approval on military action a...</td>\n",
       "    </tr>\n",
       "    <tr>\n",
       "      <th>1</th>\n",
       "      <td>usain bolt rounded off the world championships sunday by claiming his third gold in moscow as he anchored jamaica to victory in the mens relay the fastest man in the world charged clear of united ...</td>\n",
       "      <td>usain bolt wins third gold of world championship anchors jamaica to relay victory eighth gold at the championships for bolt jamaica double up in womens relay</td>\n",
       "    </tr>\n",
       "    <tr>\n",
       "      <th>2</th>\n",
       "      <td>the general services administration already under investigation for lavish spending allowed an employee to telecommute from hawaii even though he is based at the gsas kansas city missouri office a...</td>\n",
       "      <td>the employee in agencys kansas city office is among hundreds of virtual workers the employees travel to and from the mainland us last year cost more than the telecommuting program like all gsa pra...</td>\n",
       "    </tr>\n",
       "    <tr>\n",
       "      <th>3</th>\n",
       "      <td>a medical doctor in vancouver british columbia said thursday that california arson suspect harry burkhart suffered from severe mental illness in when she examined him as part of a team of doctors ...</td>\n",
       "      <td>new a canadian doctor says she was part of a team examining harry burkhart in new diagnosis autism severe anxiety posttraumatic stress disorder and depression burkhart is also suspected in a germa...</td>\n",
       "    </tr>\n",
       "    <tr>\n",
       "      <th>4</th>\n",
       "      <td>police arrested another teen thursday the sixth suspect jailed in connection with the gang rape of a girl on a northern california high school campus jose carlos montano was arrested on charges of...</td>\n",
       "      <td>another arrest made in gang rape outside california school investigators say up to people took part or stood and watched the assault four suspects appeared in court thursday three wore bulletproof...</td>\n",
       "    </tr>\n",
       "  </tbody>\n",
       "</table>\n",
       "</div>"
      ],
      "text/plain": [
       "                                                                                                                                                                                                      Text  \\\n",
       "0  its official us president barack obama wants lawmakers to weigh in on whether to use military force in syria obama sent a letter to the heads of the house and senate on saturday night hours after ...   \n",
       "1  usain bolt rounded off the world championships sunday by claiming his third gold in moscow as he anchored jamaica to victory in the mens relay the fastest man in the world charged clear of united ...   \n",
       "2  the general services administration already under investigation for lavish spending allowed an employee to telecommute from hawaii even though he is based at the gsas kansas city missouri office a...   \n",
       "3  a medical doctor in vancouver british columbia said thursday that california arson suspect harry burkhart suffered from severe mental illness in when she examined him as part of a team of doctors ...   \n",
       "4  police arrested another teen thursday the sixth suspect jailed in connection with the gang rape of a girl on a northern california high school campus jose carlos montano was arrested on charges of...   \n",
       "\n",
       "                                                                                                                                                                                                   Summary  \n",
       "0  syrian official obama climbed to the top of the tree doesnt know how to get down obama sends a letter to the heads of the house and senate obama to seek congressional approval on military action a...  \n",
       "1                                            usain bolt wins third gold of world championship anchors jamaica to relay victory eighth gold at the championships for bolt jamaica double up in womens relay  \n",
       "2  the employee in agencys kansas city office is among hundreds of virtual workers the employees travel to and from the mainland us last year cost more than the telecommuting program like all gsa pra...  \n",
       "3  new a canadian doctor says she was part of a team examining harry burkhart in new diagnosis autism severe anxiety posttraumatic stress disorder and depression burkhart is also suspected in a germa...  \n",
       "4  another arrest made in gang rape outside california school investigators say up to people took part or stood and watched the assault four suspects appeared in court thursday three wore bulletproof...  "
      ]
     },
     "execution_count": 19,
     "metadata": {},
     "output_type": "execute_result"
    }
   ],
   "source": [
    "data.head()"
   ]
  },
  {
   "cell_type": "markdown",
   "metadata": {
    "colab_type": "text",
    "id": "kGNQKvCaISIn"
   },
   "source": [
    "### Drop Duplicates and NA values"
   ]
  },
  {
   "cell_type": "code",
   "execution_count": 7,
   "metadata": {
    "colab": {},
    "colab_type": "code",
    "id": "Cjul88oOFxcr"
   },
   "outputs": [],
   "source": [
    "data.drop_duplicates(subset=['Text'],inplace=True)#dropping duplicates\n",
    "data.dropna(axis=0,inplace=True)#dropping na"
   ]
  },
  {
   "cell_type": "markdown",
   "metadata": {
    "colab_type": "text",
    "id": "qi0xD6BkIWAm"
   },
   "source": [
    "### Information about dataset\n"
   ]
  },
  {
   "cell_type": "code",
   "execution_count": 21,
   "metadata": {
    "colab": {
     "base_uri": "https://localhost:8080/",
     "height": 168
    },
    "colab_type": "code",
    "executionInfo": {
     "elapsed": 76797,
     "status": "ok",
     "timestamp": 1596614475797,
     "user": {
      "displayName": "Маргарита Александровна Котова",
      "photoUrl": "",
      "userId": "10449559957278129373"
     },
     "user_tz": -180
    },
    "id": "__fy-JxTFxc9",
    "outputId": "49d38bfb-24d8-43ce-d582-4c0d0d87c266"
   },
   "outputs": [
    {
     "name": "stdout",
     "output_type": "stream",
     "text": [
      "<class 'pandas.core.frame.DataFrame'>\n",
      "Int64Index: 89363 entries, 0 to 92578\n",
      "Data columns (total 2 columns):\n",
      " #   Column   Non-Null Count  Dtype \n",
      "---  ------   --------------  ----- \n",
      " 0   Text     89363 non-null  object\n",
      " 1   Summary  89363 non-null  object\n",
      "dtypes: object(2)\n",
      "memory usage: 2.0+ MB\n"
     ]
    }
   ],
   "source": [
    "data.info()"
   ]
  },
  {
   "cell_type": "markdown",
   "metadata": {
    "colab_type": "text",
    "id": "r0xLYACiFxdJ"
   },
   "source": [
    "### Preprocessing"
   ]
  },
  {
   "cell_type": "code",
   "execution_count": 9,
   "metadata": {
    "colab": {},
    "colab_type": "code",
    "id": "0s6IY-x2FxdL"
   },
   "outputs": [],
   "source": [
    "contraction_mapping = {\"ain't\": \"is not\", \"aren't\": \"are not\",\"can't\": \"cannot\", \"'cause\": \"because\", \"could've\": \"could have\", \"couldn't\": \"could not\",\n",
    "                           \"didn't\": \"did not\",  \"doesn't\": \"does not\", \"don't\": \"do not\", \"hadn't\": \"had not\", \"hasn't\": \"has not\", \"haven't\": \"have not\",\n",
    "                           \"he'd\": \"he would\",\"he'll\": \"he will\", \"he's\": \"he is\", \"how'd\": \"how did\", \"how'd'y\": \"how do you\", \"how'll\": \"how will\", \"how's\": \"how is\",\n",
    "                           \"I'd\": \"I would\", \"I'd've\": \"I would have\", \"I'll\": \"I will\", \"I'll've\": \"I will have\",\"I'm\": \"I am\", \"I've\": \"I have\", \"i'd\": \"i would\",\n",
    "                           \"i'd've\": \"i would have\", \"i'll\": \"i will\",  \"i'll've\": \"i will have\",\"i'm\": \"i am\", \"i've\": \"i have\", \"isn't\": \"is not\", \"it'd\": \"it would\",\n",
    "                           \"it'd've\": \"it would have\", \"it'll\": \"it will\", \"it'll've\": \"it will have\",\"it's\": \"it is\", \"let's\": \"let us\", \"ma'am\": \"madam\",\n",
    "                           \"mayn't\": \"may not\", \"might've\": \"might have\",\"mightn't\": \"might not\",\"mightn't've\": \"might not have\", \"must've\": \"must have\",\n",
    "                           \"mustn't\": \"must not\", \"mustn't've\": \"must not have\", \"needn't\": \"need not\", \"needn't've\": \"need not have\",\"o'clock\": \"of the clock\",\n",
    "                           \"oughtn't\": \"ought not\", \"oughtn't've\": \"ought not have\", \"shan't\": \"shall not\", \"sha'n't\": \"shall not\", \"shan't've\": \"shall not have\",\n",
    "                           \"she'd\": \"she would\", \"she'd've\": \"she would have\", \"she'll\": \"she will\", \"she'll've\": \"she will have\", \"she's\": \"she is\",\n",
    "                           \"should've\": \"should have\", \"shouldn't\": \"should not\", \"shouldn't've\": \"should not have\", \"so've\": \"so have\",\"so's\": \"so as\",\n",
    "                           \"this's\": \"this is\",\"that'd\": \"that would\", \"that'd've\": \"that would have\", \"that's\": \"that is\", \"there'd\": \"there would\",\n",
    "                           \"there'd've\": \"there would have\", \"there's\": \"there is\", \"here's\": \"here is\",\"they'd\": \"they would\", \"they'd've\": \"they would have\",\n",
    "                           \"they'll\": \"they will\", \"they'll've\": \"they will have\", \"they're\": \"they are\", \"they've\": \"they have\", \"to've\": \"to have\",\n",
    "                           \"wasn't\": \"was not\", \"we'd\": \"we would\", \"we'd've\": \"we would have\", \"we'll\": \"we will\", \"we'll've\": \"we will have\", \"we're\": \"we are\",\n",
    "                           \"we've\": \"we have\", \"weren't\": \"were not\", \"what'll\": \"what will\", \"what'll've\": \"what will have\", \"what're\": \"what are\",\n",
    "                           \"what's\": \"what is\", \"what've\": \"what have\", \"when's\": \"when is\", \"when've\": \"when have\", \"where'd\": \"where did\", \"where's\": \"where is\",\n",
    "                           \"where've\": \"where have\", \"who'll\": \"who will\", \"who'll've\": \"who will have\", \"who's\": \"who is\", \"who've\": \"who have\",\n",
    "                           \"why's\": \"why is\", \"why've\": \"why have\", \"will've\": \"will have\", \"won't\": \"will not\", \"won't've\": \"will not have\",\n",
    "                           \"would've\": \"would have\", \"wouldn't\": \"would not\", \"wouldn't've\": \"would not have\", \"y'all\": \"you all\",\n",
    "                           \"y'all'd\": \"you all would\",\"y'all'd've\": \"you all would have\",\"y'all're\": \"you all are\",\"y'all've\": \"you all have\",\n",
    "                           \"you'd\": \"you would\", \"you'd've\": \"you would have\", \"you'll\": \"you will\", \"you'll've\": \"you will have\",\n",
    "                           \"you're\": \"you are\", \"you've\": \"you have\"}"
   ]
  },
  {
   "cell_type": "markdown",
   "metadata": {
    "colab_type": "text",
    "id": "2JFRXFHmI7Mj"
   },
   "source": [
    "We will perform the below preprocessing tasks for our data:\n",
    "\n",
    "1.Convert everything to lowercase\n",
    "\n",
    "2.Remove HTML tags\n",
    "\n",
    "3.Contraction mapping\n",
    "\n",
    "4.Remove (‘s)\n",
    "\n",
    "5.Remove any text inside the parenthesis ( )\n",
    "\n",
    "6.Eliminate (устраним) punctuations and special characters\n",
    "\n",
    "7.Remove stopwords\n",
    "\n",
    "8.Remove short words\n",
    "\n",
    "Let’s define the function:"
   ]
  },
  {
   "cell_type": "code",
   "execution_count": 10,
   "metadata": {
    "colab": {
     "base_uri": "https://localhost:8080/",
     "height": 67
    },
    "colab_type": "code",
    "id": "JNcu4_DQq6bq",
    "outputId": "e7ccd087-8535-47b1-b8f2-e80eb380bcdd"
   },
   "outputs": [
    {
     "name": "stderr",
     "output_type": "stream",
     "text": [
      "[nltk_data] Downloading package stopwords to\n",
      "[nltk_data]     C:\\Users\\Margarita\\AppData\\Roaming\\nltk_data...\n",
      "[nltk_data]   Package stopwords is already up-to-date!\n"
     ]
    },
    {
     "data": {
      "text/plain": [
       "True"
      ]
     },
     "execution_count": 10,
     "metadata": {},
     "output_type": "execute_result"
    }
   ],
   "source": [
    "import nltk\n",
    "nltk.download('stopwords')"
   ]
  },
  {
   "cell_type": "code",
   "execution_count": 11,
   "metadata": {
    "colab": {},
    "colab_type": "code",
    "id": "XZr-u3OEFxdT"
   },
   "outputs": [],
   "source": [
    "stop_words = set(stopwords.words('english')) "
   ]
  },
  {
   "cell_type": "code",
   "execution_count": 12,
   "metadata": {
    "colab": {},
    "colab_type": "code",
    "id": "JSs72ewB8mw9"
   },
   "outputs": [],
   "source": [
    "def text_cleaner(text,num):\n",
    "    newString = text.lower()\n",
    "    newString = BeautifulSoup(newString, \"lxml\").text\n",
    "    newString = re.sub(r'\\([^)]*\\)', '', newString)\n",
    "    newString = re.sub('\"','', newString)\n",
    "    newString = ' '.join([contraction_mapping[t] if t in contraction_mapping else t for t in newString.split(\" \")])    \n",
    "    newString = re.sub(r\"'s\\b\",\"\",newString)\n",
    "    newString = re.sub(\"[^a-zA-Z]\", \" \", newString) \n",
    "    newString = re.sub('[m]{2,}', 'mm', newString)\n",
    "    if(num==0):\n",
    "        tokens = [w for w in newString.split() if not w in stop_words]\n",
    "    else:\n",
    "        tokens=newString.split()\n",
    "    long_words=[]\n",
    "    for i in tokens:\n",
    "        if len(i)>1:                                                 #removing short word\n",
    "            long_words.append(i)   \n",
    "    return (\" \".join(long_words)).strip()"
   ]
  },
  {
   "cell_type": "code",
   "execution_count": 13,
   "metadata": {
    "colab": {},
    "colab_type": "code",
    "id": "A2QAeCHWFxdY"
   },
   "outputs": [],
   "source": [
    "cleaned_text = []\n",
    "for t in data['Text']:\n",
    "    cleaned_text.append(text_cleaner(t,0)) "
   ]
  },
  {
   "cell_type": "markdown",
   "metadata": {
    "colab_type": "text",
    "id": "snRZY8wjLao2"
   },
   "source": [
    "Let us look at the first five preprocessed reviews"
   ]
  },
  {
   "cell_type": "code",
   "execution_count": 28,
   "metadata": {
    "colab": {},
    "colab_type": "code",
    "executionInfo": {
     "elapsed": 167637,
     "status": "ok",
     "timestamp": 1596614573947,
     "user": {
      "displayName": "Маргарита Александровна Котова",
      "photoUrl": "",
      "userId": "10449559957278129373"
     },
     "user_tz": -180
    },
    "id": "GsRXocxoFxd-"
   },
   "outputs": [],
   "source": [
    "cleaned_summary = []\n",
    "for t in data['Summary']:\n",
    "    cleaned_summary.append(text_cleaner(t,1))"
   ]
  },
  {
   "cell_type": "markdown",
   "metadata": {
    "colab_type": "text",
    "id": "oZeD0gs6Lnb-"
   },
   "source": [
    "Let us look at the first 10 preprocessed summaries"
   ]
  },
  {
   "cell_type": "code",
   "execution_count": 29,
   "metadata": {
    "colab": {
     "base_uri": "https://localhost:8080/",
     "height": 205
    },
    "colab_type": "code",
    "executionInfo": {
     "elapsed": 166261,
     "status": "ok",
     "timestamp": 1596614573949,
     "user": {
      "displayName": "Маргарита Александровна Котова",
      "photoUrl": "",
      "userId": "10449559957278129373"
     },
     "user_tz": -180
    },
    "id": "jQJdZcAzFxee",
    "outputId": "eee668b0-4bde-4d46-8118-67b27dd6ac96"
   },
   "outputs": [
    {
     "data": {
      "text/plain": [
       "['syrian official obama climbed to the top of the tree doesnt know how to get down obama sends letter to the heads of the house and senate obama to seek congressional approval on military action against syria aim is to determine whether cw were used not by whom says un spokesman',\n",
       " 'usain bolt wins third gold of world championship anchors jamaica to relay victory eighth gold at the championships for bolt jamaica double up in womens relay',\n",
       " 'the employee in agencys kansas city office is among hundreds of virtual workers the employees travel to and from the mainland us last year cost more than the telecommuting program like all gsa practices is under review',\n",
       " 'new canadian doctor says she was part of team examining harry burkhart in new diagnosis autism severe anxiety posttraumatic stress disorder and depression burkhart is also suspected in german arson probe officials say prosecutors believe the german national set string of fires in los angeles',\n",
       " 'another arrest made in gang rape outside california school investigators say up to people took part or stood and watched the assault four suspects appeared in court thursday three wore bulletproof vests',\n",
       " 'humanitarian groups expect refugees in one camp un official says others have fled across the border to un camps in liberia he says this follows attacks that killed un peacekeepers and civilians',\n",
       " 'new groups announce legal challenge in phoenix american civil liberties union aclu of arizona national immigration law center slam law mexican american legal defense and educational fund also objects to it they say law encourages racial profiling but supporters say it doesnt involve any illegal acts',\n",
       " 'labor day is the unofficial end of summer and the unofficial start to campaign season as much as billion could be spent on advertising for this midterm election here are five mustfollow races for these midterms',\n",
       " 'new autopsy indicates he had been dead for hours before police arrived youtube video appears to show the activist bound and blindfolded the activist and freelance journalist was from the lombardy region in northern italy',\n",
       " 'the radio personality was taken to hospital sunday spokesman for hospital says casey kasem being treated for wounds blood pressure issues he had been at friends home in washington state after his wife took him there she has been feuding with three stepchildren over the radio icons care']"
      ]
     },
     "execution_count": 29,
     "metadata": {},
     "output_type": "execute_result"
    }
   ],
   "source": [
    "cleaned_summary[:10]"
   ]
  },
  {
   "cell_type": "code",
   "execution_count": 30,
   "metadata": {
    "colab": {},
    "colab_type": "code",
    "executionInfo": {
     "elapsed": 165639,
     "status": "ok",
     "timestamp": 1596614573950,
     "user": {
      "displayName": "Маргарита Александровна Котова",
      "photoUrl": "",
      "userId": "10449559957278129373"
     },
     "user_tz": -180
    },
    "id": "L1zLpnqsFxey"
   },
   "outputs": [],
   "source": [
    "data['cleaned_text']=cleaned_text\n",
    "data['cleaned_summary']=cleaned_summary"
   ]
  },
  {
   "cell_type": "markdown",
   "metadata": {
    "colab_type": "text",
    "id": "KT_D2cLiLy77"
   },
   "source": [
    "#Drop empty rows"
   ]
  },
  {
   "cell_type": "code",
   "execution_count": 31,
   "metadata": {
    "colab": {},
    "colab_type": "code",
    "executionInfo": {
     "elapsed": 164476,
     "status": "ok",
     "timestamp": 1596614573950,
     "user": {
      "displayName": "Маргарита Александровна Котова",
      "photoUrl": "",
      "userId": "10449559957278129373"
     },
     "user_tz": -180
    },
    "id": "sYK390unFxfA"
   },
   "outputs": [],
   "source": [
    "data.replace('', np.nan, inplace=True)\n",
    "data.dropna(axis=0,inplace=True)"
   ]
  },
  {
   "cell_type": "markdown",
   "metadata": {
    "colab_type": "text",
    "id": "Vm8Fk2TCL7Sp"
   },
   "source": [
    "### Understanding the distribution of the sequences\n",
    "\n",
    "Here is an analysis of the length of the reviews and the summary to get an overall idea about the distribution of length of the text. This will help to fix the maximum length of the sequence:"
   ]
  },
  {
   "cell_type": "code",
   "execution_count": 33,
   "metadata": {
    "colab": {},
    "colab_type": "code",
    "executionInfo": {
     "elapsed": 164839,
     "status": "ok",
     "timestamp": 1596614576384,
     "user": {
      "displayName": "Маргарита Александровна Котова",
      "photoUrl": "",
      "userId": "10449559957278129373"
     },
     "user_tz": -180
    },
    "id": "MdF76AHHFxgw"
   },
   "outputs": [],
   "source": [
    "import matplotlib.pyplot as plt\n",
    "\n",
    "text_word_count = []\n",
    "summary_word_count = []\n",
    "\n",
    "# populate the lists with sentence lengths\n",
    "for i in data['cleaned_text']:\n",
    "      text_word_count.append(len(i.split()))\n",
    "\n",
    "for i in data['cleaned_summary']:\n",
    "      summary_word_count.append(len(i.split()))\n",
    "\n",
    "length_df = pd.DataFrame({'text':text_word_count, 'summary':summary_word_count})"
   ]
  },
  {
   "cell_type": "code",
   "execution_count": 34,
   "metadata": {
    "colab": {
     "base_uri": "https://localhost:8080/",
     "height": 195
    },
    "colab_type": "code",
    "executionInfo": {
     "elapsed": 164088,
     "status": "ok",
     "timestamp": 1596614576385,
     "user": {
      "displayName": "Маргарита Александровна Котова",
      "photoUrl": "",
      "userId": "10449559957278129373"
     },
     "user_tz": -180
    },
    "id": "2c2IqK13UUcX",
    "outputId": "c316183c-16fe-4795-9fd8-b59d613fcc02"
   },
   "outputs": [
    {
     "data": {
      "text/html": [
       "<div>\n",
       "<style scoped>\n",
       "    .dataframe tbody tr th:only-of-type {\n",
       "        vertical-align: middle;\n",
       "    }\n",
       "\n",
       "    .dataframe tbody tr th {\n",
       "        vertical-align: top;\n",
       "    }\n",
       "\n",
       "    .dataframe thead th {\n",
       "        text-align: right;\n",
       "    }\n",
       "</style>\n",
       "<table border=\"1\" class=\"dataframe\">\n",
       "  <thead>\n",
       "    <tr style=\"text-align: right;\">\n",
       "      <th></th>\n",
       "      <th>text</th>\n",
       "      <th>summary</th>\n",
       "    </tr>\n",
       "  </thead>\n",
       "  <tbody>\n",
       "    <tr>\n",
       "      <th>0</th>\n",
       "      <td>899</td>\n",
       "      <td>51</td>\n",
       "    </tr>\n",
       "    <tr>\n",
       "      <th>1</th>\n",
       "      <td>309</td>\n",
       "      <td>26</td>\n",
       "    </tr>\n",
       "    <tr>\n",
       "      <th>2</th>\n",
       "      <td>556</td>\n",
       "      <td>37</td>\n",
       "    </tr>\n",
       "    <tr>\n",
       "      <th>3</th>\n",
       "      <td>531</td>\n",
       "      <td>45</td>\n",
       "    </tr>\n",
       "    <tr>\n",
       "      <th>4</th>\n",
       "      <td>166</td>\n",
       "      <td>32</td>\n",
       "    </tr>\n",
       "  </tbody>\n",
       "</table>\n",
       "</div>"
      ],
      "text/plain": [
       "   text  summary\n",
       "0   899       51\n",
       "1   309       26\n",
       "2   556       37\n",
       "3   531       45\n",
       "4   166       32"
      ]
     },
     "execution_count": 34,
     "metadata": {},
     "output_type": "execute_result"
    }
   ],
   "source": [
    "length_df.head()"
   ]
  },
  {
   "cell_type": "code",
   "execution_count": 35,
   "metadata": {
    "colab": {
     "base_uri": "https://localhost:8080/",
     "height": 281
    },
    "colab_type": "code",
    "executionInfo": {
     "elapsed": 163418,
     "status": "ok",
     "timestamp": 1596614576733,
     "user": {
      "displayName": "Маргарита Александровна Котова",
      "photoUrl": "",
      "userId": "10449559957278129373"
     },
     "user_tz": -180
    },
    "id": "kxHaCkUq8mxT",
    "outputId": "6e65dd83-bb3d-4378-9414-5071efc4b4b6"
   },
   "outputs": [
    {
     "data": {
      "image/png": "[encoded data removed]",
      "text/plain": [
       "<Figure size 432x288 with 2 Axes>"
      ]
     },
     "metadata": {
      "needs_background": "light"
     },
     "output_type": "display_data"
    }
   ],
   "source": [
    "\n",
    "\n",
    "length_df.hist(bins = 30)\n",
    "plt.show()"
   ]
  },
  {
   "cell_type": "markdown",
   "metadata": {
    "colab_type": "text",
    "id": "QwdSGIhGMEbz"
   },
   "source": [
    "We can fix the maximum length of the summary to 8 since that seems to be the majority summary length.\n",
    "\n",
    "Let us understand the proportion of the length of summaries below 8"
   ]
  },
  {
   "cell_type": "code",
   "execution_count": 36,
   "metadata": {
    "colab": {
     "base_uri": "https://localhost:8080/",
     "height": 34
    },
    "colab_type": "code",
    "executionInfo": {
     "elapsed": 969,
     "status": "ok",
     "timestamp": 1596614639706,
     "user": {
      "displayName": "Маргарита Александровна Котова",
      "photoUrl": "",
      "userId": "10449559957278129373"
     },
     "user_tz": -180
    },
    "id": "7JRjwdIOFxg3",
    "outputId": "cec3ceac-c04d-42d8-d167-0788750f8676"
   },
   "outputs": [
    {
     "name": "stdout",
     "output_type": "stream",
     "text": [
      "0.862089031131801\n"
     ]
    }
   ],
   "source": [
    "cnt=0\n",
    "for i in data['cleaned_summary']:\n",
    "    if(len(i.split())<=50):\n",
    "        cnt=cnt+1\n",
    "print(cnt/len(data['cleaned_summary']))"
   ]
  },
  {
   "cell_type": "code",
   "execution_count": 37,
   "metadata": {
    "colab": {
     "base_uri": "https://localhost:8080/",
     "height": 34
    },
    "colab_type": "code",
    "executionInfo": {
     "elapsed": 2800,
     "status": "ok",
     "timestamp": 1596614643320,
     "user": {
      "displayName": "Маргарита Александровна Котова",
      "photoUrl": "",
      "userId": "10449559957278129373"
     },
     "user_tz": -180
    },
    "id": "ndJoKv5OUUcr",
    "outputId": "3a4134a5-749a-4624-a92b-b1b5efc6fc39"
   },
   "outputs": [
    {
     "name": "stdout",
     "output_type": "stream",
     "text": [
      "0.777534074886417\n"
     ]
    }
   ],
   "source": [
    "cnt=0\n",
    "for i in data['cleaned_text']:\n",
    "    if(len(i.split())<=500):\n",
    "        cnt=cnt+1\n",
    "print(cnt/len(data['cleaned_text']))"
   ]
  },
  {
   "cell_type": "markdown",
   "metadata": {
    "colab_type": "text",
    "id": "yYB4Ga9KMjEu"
   },
   "source": [
    "Let us fix the maximum length of review to 30 and length of summary to 8."
   ]
  },
  {
   "cell_type": "code",
   "execution_count": 38,
   "metadata": {
    "colab": {},
    "colab_type": "code",
    "executionInfo": {
     "elapsed": 2000,
     "status": "ok",
     "timestamp": 1596615779949,
     "user": {
      "displayName": "Маргарита Александровна Котова",
      "photoUrl": "",
      "userId": "10449559957278129373"
     },
     "user_tz": -180
    },
    "id": "ZKD5VOWqFxhC"
   },
   "outputs": [],
   "source": [
    "max_text_len=30 #60\n",
    "max_summary_len=8 #10"
   ]
  },
  {
   "cell_type": "markdown",
   "metadata": {
    "colab_type": "text",
    "id": "E6d48E-8M4VO"
   },
   "source": [
    "Let us select the reviews and summaries whose length falls below or equal to **max_text_len** and **max_summary_len**"
   ]
  },
  {
   "cell_type": "code",
   "execution_count": 39,
   "metadata": {
    "colab": {},
    "colab_type": "code",
    "executionInfo": {
     "elapsed": 1071,
     "status": "ok",
     "timestamp": 1596615780577,
     "user": {
      "displayName": "Маргарита Александровна Котова",
      "photoUrl": "",
      "userId": "10449559957278129373"
     },
     "user_tz": -180
    },
    "id": "YZftRJDw8mxc"
   },
   "outputs": [],
   "source": [
    "cleaned_text =np.array(data['cleaned_text'])\n",
    "cleaned_summary=np.array(data['cleaned_summary'])\n"
   ]
  },
  {
   "cell_type": "code",
   "execution_count": 41,
   "metadata": {
    "colab": {
     "base_uri": "https://localhost:8080/",
     "height": 34
    },
    "colab_type": "code",
    "executionInfo": {
     "elapsed": 1597,
     "status": "ok",
     "timestamp": 1596615782629,
     "user": {
      "displayName": "Маргарита Александровна Котова",
      "photoUrl": "",
      "userId": "10449559957278129373"
     },
     "user_tz": -180
    },
    "id": "LYfNXFYz8mxj",
    "outputId": "bfd02072-a67d-47d2-b306-119765540e27"
   },
   "outputs": [
    {
     "data": {
      "text/plain": [
       "89362"
      ]
     },
     "execution_count": 41,
     "metadata": {},
     "output_type": "execute_result"
    }
   ],
   "source": [
    "len(cleaned_text)"
   ]
  },
  {
   "cell_type": "code",
   "execution_count": 42,
   "metadata": {
    "colab": {
     "base_uri": "https://localhost:8080/",
     "height": 34
    },
    "colab_type": "code",
    "executionInfo": {
     "elapsed": 2302,
     "status": "ok",
     "timestamp": 1596615784810,
     "user": {
      "displayName": "Маргарита Александровна Котова",
      "photoUrl": "",
      "userId": "10449559957278129373"
     },
     "user_tz": -180
    },
    "id": "mWRA-oS6qcGZ",
    "outputId": "4ac96c85-1bc6-4a72-e14b-2c90c2352798"
   },
   "outputs": [
    {
     "data": {
      "text/plain": [
       "30"
      ]
     },
     "execution_count": 42,
     "metadata": {},
     "output_type": "execute_result"
    }
   ],
   "source": [
    "max_text_len"
   ]
  },
  {
   "cell_type": "code",
   "execution_count": 43,
   "metadata": {
    "colab": {},
    "colab_type": "code",
    "executionInfo": {
     "elapsed": 5815,
     "status": "ok",
     "timestamp": 1596615789097,
     "user": {
      "displayName": "Маргарита Александровна Котова",
      "photoUrl": "",
      "userId": "10449559957278129373"
     },
     "user_tz": -180
    },
    "id": "yY0tEJP0FxhI"
   },
   "outputs": [],
   "source": [
    "short_text=[]\n",
    "short_summary=[]\n",
    "\n",
    "for i in range(len(cleaned_text)):\n",
    "    if (len(cleaned_summary[i].split())>max_summary_len):\n",
    "        short_summary.append(\" \".join(cleaned_summary[i].split()[:8]))\n",
    "    else:\n",
    "        short_summary.append(cleaned_summary[i])\n",
    "    \n",
    "    if(len(cleaned_text[i].split())>max_text_len):\n",
    "        short_text.append(\" \".join(cleaned_text[i].split()[:30]))\n",
    "    else:\n",
    "        short_text.append(cleaned_text[i])\n",
    "       \n",
    "#     if(len(cleaned_summary[i].split())<=max_summary_len and len(cleaned_text[i].split())<=max_text_len):\n",
    "#         short_text.append(cleaned_text[i])\n",
    "#         short_summary.append(cleaned_summary[i])\n",
    "        \n",
    "df=pd.DataFrame({'text':short_text,'summary':short_summary})"
   ]
  },
  {
   "cell_type": "markdown",
   "metadata": {
    "colab_type": "text",
    "id": "tR1uh8xSNUma"
   },
   "source": [
    "adding the **START** and **END** special tokens at the beginning and end of the summary."
   ]
  },
  {
   "cell_type": "code",
   "execution_count": 47,
   "metadata": {
    "colab": {},
    "colab_type": "code",
    "executionInfo": {
     "elapsed": 1767,
     "status": "ok",
     "timestamp": 1596615789105,
     "user": {
      "displayName": "Маргарита Александровна Котова",
      "photoUrl": "",
      "userId": "10449559957278129373"
     },
     "user_tz": -180
    },
    "id": "EwLUH78CFxhg"
   },
   "outputs": [],
   "source": [
    "df['summary'] = df['summary'].apply(lambda x : 'xl '+ x + ' xy')"
   ]
  },
  {
   "cell_type": "markdown",
   "metadata": {
    "colab_type": "text",
    "id": "1GlcX4RFOh13"
   },
   "source": [
    "We’ll use 90% of the dataset as the training data and evaluate the performance on the remaining 10% (holdout set):"
   ]
  },
  {
   "cell_type": "code",
   "execution_count": 48,
   "metadata": {
    "colab": {},
    "colab_type": "code",
    "executionInfo": {
     "elapsed": 633,
     "status": "ok",
     "timestamp": 1596615789106,
     "user": {
      "displayName": "Маргарита Александровна Котова",
      "photoUrl": "",
      "userId": "10449559957278129373"
     },
     "user_tz": -180
    },
    "id": "RakakKHcFxhl"
   },
   "outputs": [],
   "source": [
    "from sklearn.model_selection import train_test_split\n",
    "x_tr1,x_val,y_tr1,y_val=train_test_split(np.array(df['text']),np.array(df['summary']),test_size=0.1,random_state=0,shuffle=False) "
   ]
  },
  {
   "cell_type": "markdown",
   "metadata": {
    "colab_type": "text",
    "id": "Vq1mqyOHOtIl"
   },
   "source": [
    "### Preparing the Tokenizer\n",
    "\n",
    "A tokenizer builds the vocabulary and converts a word sequence to an integer sequence. Go ahead and build tokenizers for text and summary:\n",
    "\n",
    "### Text Tokenizer"
   ]
  },
  {
   "cell_type": "code",
   "execution_count": 53,
   "metadata": {
    "colab": {
     "base_uri": "https://localhost:8080/",
     "height": 121
    },
    "colab_type": "code",
    "executionInfo": {
     "elapsed": 8055,
     "status": "ok",
     "timestamp": 1596615799185,
     "user": {
      "displayName": "Маргарита Александровна Котова",
      "photoUrl": "",
      "userId": "10449559957278129373"
     },
     "user_tz": -180
    },
    "id": "He5KLv_vRfAs",
    "outputId": "74da84bf-4c78-4604-8c4c-cb6670405037"
   },
   "outputs": [
    {
     "name": "stdout",
     "output_type": "stream",
     "text": [
      "Requirement already satisfied: tokenizers in c:\\users\\margarita\\appdata\\roaming\\python\\python37\\site-packages (0.5.2)\n",
      "Note: you may need to restart the kernel to use updated packages.\n"
     ]
    }
   ],
   "source": [
    "pip install tokenizers"
   ]
  },
  {
   "cell_type": "code",
   "execution_count": 54,
   "metadata": {
    "colab": {},
    "colab_type": "code",
    "executionInfo": {
     "elapsed": 7308,
     "status": "ok",
     "timestamp": 1596615799187,
     "user": {
      "displayName": "Маргарита Александровна Котова",
      "photoUrl": "",
      "userId": "10449559957278129373"
     },
     "user_tz": -180
    },
    "id": "iWnbwL9_8mxv"
   },
   "outputs": [],
   "source": [
    "from pathlib import Path\n",
    "\n",
    "from tokenizers import ByteLevelBPETokenizer"
   ]
  },
  {
   "cell_type": "code",
   "execution_count": 55,
   "metadata": {
    "colab": {
     "base_uri": "https://localhost:8080/",
     "height": 118
    },
    "colab_type": "code",
    "executionInfo": {
     "elapsed": 8287,
     "status": "ok",
     "timestamp": 1596615800646,
     "user": {
      "displayName": "Маргарита Александровна Котова",
      "photoUrl": "",
      "userId": "10449559957278129373"
     },
     "user_tz": -180
    },
    "id": "ri0Hka7n8mxx",
    "outputId": "7ff0283a-05c3-4493-f6c7-6428043f577b",
    "scrolled": true
   },
   "outputs": [
    {
     "name": "stdout",
     "output_type": "stream",
     "text": [
      "dropout = 0.1\n",
      "['There', 'Ġare', 'Ġa', 'Ġlot', 'Ġof', 'Ġapples', 'Ġin', 'Ġth', 'e', 'Ġgarden']\n",
      "['There', 'Ġar', 'e', 'Ġa', 'Ġlot', 'Ġo', 'f', 'Ġapples', 'Ġi', 'n', 'Ġthe', 'Ġgard', 'en']\n",
      "['There', 'Ġare', 'Ġ', 'a', 'Ġlot', 'Ġ', 'of', 'Ġapple', 's', 'Ġin', 'Ġthe', 'Ġgarden']\n",
      "['There', 'Ġare', 'Ġa', 'Ġlot', 'Ġof', 'Ġapples', 'Ġin', 'Ġthe', 'Ġgarden']\n",
      "['There', 'Ġare', 'Ġa', 'Ġlot', 'Ġof', 'Ġapples', 'Ġin', 'Ġthe', 'Ġgarden']\n"
     ]
    }
   ],
   "source": [
    "bpe_tokeniser_from_files = ByteLevelBPETokenizer(\n",
    "    vocab_file='C:/Users/Margarita/Documents/bpe_dropout/english/vocab.json',\n",
    "    merges_file='C:/Users/Margarita/Documents/bpe_dropout/english/merges.txt',\n",
    "    dropout=0.1,\n",
    ")\n",
    "#example\n",
    "print('dropout =', bpe_tokeniser_from_files._parameters['dropout'])\n",
    "for _ in range(5):\n",
    "    print(bpe_tokeniser_from_files.encode('There are a lot of apples in the garden').tokens)"
   ]
  },
  {
   "cell_type": "code",
   "execution_count": 56,
   "metadata": {
    "colab": {},
    "colab_type": "code",
    "executionInfo": {
     "elapsed": 7922,
     "status": "ok",
     "timestamp": 1596615800648,
     "user": {
      "displayName": "Маргарита Александровна Котова",
      "photoUrl": "",
      "userId": "10449559957278129373"
     },
     "user_tz": -180
    },
    "id": "G2_9m9uKRusZ"
   },
   "outputs": [],
   "source": [
    "#x_tokenizer=load(\"/content/drive/My Drive/my-bpe.tokenizer.json\")"
   ]
  },
  {
   "cell_type": "code",
   "execution_count": 57,
   "metadata": {
    "colab": {},
    "colab_type": "code",
    "executionInfo": {
     "elapsed": 7552,
     "status": "ok",
     "timestamp": 1596615800649,
     "user": {
      "displayName": "Маргарита Александровна Котова",
      "photoUrl": "",
      "userId": "10449559957278129373"
     },
     "user_tz": -180
    },
    "id": "3y3te_iY8mx0"
   },
   "outputs": [],
   "source": [
    "x_tokenizer = ByteLevelBPETokenizer(\n",
    "    vocab_file='C:/Users/Margarita/Documents/bpe_dropout/english/vocab.json',\n",
    "    merges_file='C:/Users/Margarita/Documents/bpe_dropout/english/merges.txt',\n",
    "    dropout=0.1,\n",
    ")"
   ]
  },
  {
   "cell_type": "code",
   "execution_count": 58,
   "metadata": {
    "colab": {
     "base_uri": "https://localhost:8080/",
     "height": 54
    },
    "colab_type": "code",
    "executionInfo": {
     "elapsed": 7173,
     "status": "ok",
     "timestamp": 1596615800651,
     "user": {
      "displayName": "Маргарита Александровна Котова",
      "photoUrl": "",
      "userId": "10449559957278129373"
     },
     "user_tz": -180
    },
    "id": "gBznVNcZ8mx2",
    "outputId": "db6691b4-c8ca-4c91-b328-1183c62e4daf"
   },
   "outputs": [
    {
     "name": "stdout",
     "output_type": "stream",
     "text": [
      "['official', 'Ġus', 'Ġpresident', 'Ġbar', 'ack', 'Ġob', 'ama', 'Ġwants', 'Ġlawmakers', 'Ġweigh', 'Ġwhether', 'Ġu', 'se', 'Ġm', 'ilitary', 'Ġforce', 'Ġsy', 'ria', 'Ġob', 'ama', 'Ġsent', 'Ġl', 'etter', 'Ġheads', 'Ġhouse', 'Ġs', 'en', 'ate', 'Ġs', 'aturday', 'Ġnight', 'Ġhours', 'Ġannouncing', 'Ġbelieves', 'Ġmilitary', 'Ġaction', 'Ġsy', 'rian', 'Ġtargets', 'Ġright', 'Ġstep']\n"
     ]
    }
   ],
   "source": [
    "print(bpe_tokeniser_from_files.encode(x_tr1[0]).tokens)"
   ]
  },
  {
   "cell_type": "code",
   "execution_count": 59,
   "metadata": {
    "colab": {},
    "colab_type": "code",
    "executionInfo": {
     "elapsed": 6780,
     "status": "ok",
     "timestamp": 1596615800653,
     "user": {
      "displayName": "Маргарита Александровна Котова",
      "photoUrl": "",
      "userId": "10449559957278129373"
     },
     "user_tz": -180
    },
    "id": "qrhUvJNAKxKU"
   },
   "outputs": [],
   "source": [
    "#x_tokenizer.save(\"/content/drive/My Drive/my-bpe.tokenizer.json\")"
   ]
  },
  {
   "cell_type": "code",
   "execution_count": 60,
   "metadata": {
    "colab": {},
    "colab_type": "code",
    "executionInfo": {
     "elapsed": 15071,
     "status": "ok",
     "timestamp": 1596615809315,
     "user": {
      "displayName": "Маргарита Александровна Котова",
      "photoUrl": "",
      "userId": "10449559957278129373"
     },
     "user_tz": -180
    },
    "id": "4Q9AYlju8mx4"
   },
   "outputs": [],
   "source": [
    "x_token = x_tokenizer.encode_batch(list(x_tr1))            "
   ]
  },
  {
   "cell_type": "code",
   "execution_count": 64,
   "metadata": {
    "colab": {
     "base_uri": "https://localhost:8080/",
     "height": 34
    },
    "colab_type": "code",
    "executionInfo": {
     "elapsed": 13674,
     "status": "ok",
     "timestamp": 1596615809318,
     "user": {
      "displayName": "Маргарита Александровна Котова",
      "photoUrl": "",
      "userId": "10449559957278129373"
     },
     "user_tz": -180
    },
    "id": "ZNoGQvQFXhNE",
    "outputId": "ec6fde46-b482-45bf-a08b-0e23b7ca4bff"
   },
   "outputs": [
    {
     "data": {
      "text/plain": [
       "55"
      ]
     },
     "execution_count": 64,
     "metadata": {},
     "output_type": "execute_result"
    }
   ],
   "source": [
    "len(x_token[1].tokens)"
   ]
  },
  {
   "cell_type": "markdown",
   "metadata": {
    "colab_type": "text",
    "id": "jJK4Rn0dUUeL"
   },
   "source": [
    "remove word with big length (they are rare)"
   ]
  },
  {
   "cell_type": "code",
   "execution_count": 65,
   "metadata": {
    "colab": {
     "base_uri": "https://localhost:8080/",
     "height": 34
    },
    "colab_type": "code",
    "executionInfo": {
     "elapsed": 12899,
     "status": "ok",
     "timestamp": 1596615809319,
     "user": {
      "displayName": "Маргарита Александровна Котова",
      "photoUrl": "",
      "userId": "10449559957278129373"
     },
     "user_tz": -180
    },
    "id": "LQX01omA8myK",
    "outputId": "4cb2636e-96d7-4ec4-a7ee-6393ca301f67"
   },
   "outputs": [
    {
     "name": "stdout",
     "output_type": "stream",
     "text": [
      "80\n"
     ]
    }
   ],
   "source": [
    "max=0\n",
    "for x in x_token:\n",
    "    if len(x)>max:\n",
    "        max=len(x)\n",
    "        \n",
    "print(max) \n",
    "max_text_len=max"
   ]
  },
  {
   "cell_type": "markdown",
   "metadata": {
    "colab_type": "text",
    "id": "So-J-5kzQIeO"
   },
   "source": [
    "\n",
    "\n",
    "Let us define the tokenizer "
   ]
  },
  {
   "cell_type": "code",
   "execution_count": 68,
   "metadata": {
    "colab": {},
    "colab_type": "code",
    "executionInfo": {
     "elapsed": 20671,
     "status": "ok",
     "timestamp": 1596615818441,
     "user": {
      "displayName": "Маргарита Александровна Котова",
      "photoUrl": "",
      "userId": "10449559957278129373"
     },
     "user_tz": -180
    },
    "id": "J2giEsF3Fxh3"
   },
   "outputs": [],
   "source": [
    "#convert text sequences into integer sequences\n",
    "x_tr_seq    =   x_tokenizer.encode_batch(list(x_tr1))\n",
    "x_val_seq   =   x_tokenizer.encode_batch(list(x_val))"
   ]
  },
  {
   "cell_type": "code",
   "execution_count": 69,
   "metadata": {
    "colab": {},
    "colab_type": "code",
    "executionInfo": {
     "elapsed": 21547,
     "status": "ok",
     "timestamp": 1596615819701,
     "user": {
      "displayName": "Маргарита Александровна Котова",
      "photoUrl": "",
      "userId": "10449559957278129373"
     },
     "user_tz": -180
    },
    "id": "DCbGMsm4FxiA"
   },
   "outputs": [],
   "source": [
    "#padding zero upto maximum length\n",
    "x_tr    =   pad_sequences([x.ids for x in x_tr_seq],  maxlen=max_text_len, padding='post')\n",
    "x_val   =   pad_sequences([x.ids for x in x_val_seq], maxlen=max_text_len, padding='post')"
   ]
  },
  {
   "cell_type": "code",
   "execution_count": 70,
   "metadata": {
    "colab": {},
    "colab_type": "code",
    "executionInfo": {
     "elapsed": 24024,
     "status": "ok",
     "timestamp": 1596615822544,
     "user": {
      "displayName": "Маргарита Александровна Котова",
      "photoUrl": "",
      "userId": "10449559957278129373"
     },
     "user_tz": -180
    },
    "id": "8xltItaM8myh"
   },
   "outputs": [],
   "source": [
    "dic={}\n",
    "for x in x_tr:\n",
    "    \n",
    "    for word in x:\n",
    "        if word in dic:\n",
    "            dic[word]+=1\n",
    "        else:\n",
    "            dic[word]=1\n",
    "            \n",
    "for x in x_val:\n",
    "    \n",
    "    for word in x:\n",
    "        if word in dic:\n",
    "            dic[word]+=1\n",
    "        else:\n",
    "            dic[word]=1           "
   ]
  },
  {
   "cell_type": "code",
   "execution_count": 71,
   "metadata": {
    "colab": {
     "base_uri": "https://localhost:8080/",
     "height": 34
    },
    "colab_type": "code",
    "executionInfo": {
     "elapsed": 23648,
     "status": "ok",
     "timestamp": 1596615822546,
     "user": {
      "displayName": "Маргарита Александровна Котова",
      "photoUrl": "",
      "userId": "10449559957278129373"
     },
     "user_tz": -180
    },
    "id": "rZGSL96j8myj",
    "outputId": "9117082d-525a-407d-e69a-5bf27ef774f1"
   },
   "outputs": [
    {
     "data": {
      "text/plain": [
       "23685"
      ]
     },
     "execution_count": 71,
     "metadata": {},
     "output_type": "execute_result"
    }
   ],
   "source": [
    "len(dic)"
   ]
  },
  {
   "cell_type": "markdown",
   "metadata": {
    "colab_type": "text",
    "id": "iVj0dI-DUUet"
   },
   "source": [
    "define max integer representation of tokens"
   ]
  },
  {
   "cell_type": "code",
   "execution_count": 72,
   "metadata": {
    "colab": {
     "base_uri": "https://localhost:8080/",
     "height": 34
    },
    "colab_type": "code",
    "executionInfo": {
     "elapsed": 24114,
     "status": "ok",
     "timestamp": 1596615823816,
     "user": {
      "displayName": "Маргарита Александровна Котова",
      "photoUrl": "",
      "userId": "10449559957278129373"
     },
     "user_tz": -180
    },
    "id": "grAPwOVl8myo",
    "outputId": "390fff27-6eb6-4c6b-bd9f-24dc27390ad9"
   },
   "outputs": [
    {
     "name": "stdout",
     "output_type": "stream",
     "text": [
      "51998\n"
     ]
    }
   ],
   "source": [
    "max=0\n",
    "for x in x_tr:\n",
    "    \n",
    "    for word in x:\n",
    "        \n",
    "        if (word > max):\n",
    "            max = word\n",
    "for x in x_val:\n",
    "    \n",
    "    for word in x:\n",
    "        \n",
    "        if (word > max):\n",
    "            max = word            \n",
    "print(max)        "
   ]
  },
  {
   "cell_type": "code",
   "execution_count": 73,
   "metadata": {
    "colab": {},
    "colab_type": "code",
    "executionInfo": {
     "elapsed": 23772,
     "status": "ok",
     "timestamp": 1596615823817,
     "user": {
      "displayName": "Маргарита Александровна Котова",
      "photoUrl": "",
      "userId": "10449559957278129373"
     },
     "user_tz": -180
    },
    "id": "vdqGrc8v8myr"
   },
   "outputs": [],
   "source": [
    "#size of vocabulary ( +1 for padding token)\n",
    "x_voc   =  max + 1"
   ]
  },
  {
   "cell_type": "markdown",
   "metadata": {
    "colab_type": "text",
    "id": "uQfKP3sqRxi9"
   },
   "source": [
    "### Summary Tokenizer"
   ]
  },
  {
   "cell_type": "markdown",
   "metadata": {
    "colab_type": "text",
    "id": "0PBhzKuRSw_9"
   },
   "source": [
    "Let us define the tokenizer with top most common words for summary."
   ]
  },
  {
   "cell_type": "code",
   "execution_count": 74,
   "metadata": {
    "colab": {},
    "colab_type": "code",
    "executionInfo": {
     "elapsed": 22581,
     "status": "ok",
     "timestamp": 1596615823818,
     "user": {
      "displayName": "Маргарита Александровна Котова",
      "photoUrl": "",
      "userId": "10449559957278129373"
     },
     "user_tz": -180
    },
    "id": "eRHqyBkBFxiJ"
   },
   "outputs": [],
   "source": [
    "#prepare a tokenizer for reviews on training data\n",
    "y_tokenizer = ByteLevelBPETokenizer(\n",
    "    vocab_file='C:/Users/Margarita/Documents/bpe_dropout/english/vocab.json',\n",
    "    merges_file='C:/Users/Margarita/Documents/bpe_dropout/english/merges.txt',\n",
    "    dropout=0.1,\n",
    ")"
   ]
  },
  {
   "cell_type": "code",
   "execution_count": 75,
   "metadata": {
    "colab": {},
    "colab_type": "code",
    "executionInfo": {
     "elapsed": 22145,
     "status": "ok",
     "timestamp": 1596615823818,
     "user": {
      "displayName": "Маргарита Александровна Котова",
      "photoUrl": "",
      "userId": "10449559957278129373"
     },
     "user_tz": -180
    },
    "id": "o2ImXCSALRnu"
   },
   "outputs": [],
   "source": [
    "#y_tokenizer.save(\"/content/drive/My Drive/my-bpe.y_tokenizer.json\")"
   ]
  },
  {
   "cell_type": "code",
   "execution_count": 76,
   "metadata": {
    "colab": {},
    "colab_type": "code",
    "executionInfo": {
     "elapsed": 25769,
     "status": "ok",
     "timestamp": 1596615827874,
     "user": {
      "displayName": "Маргарита Александровна Котова",
      "photoUrl": "",
      "userId": "10449559957278129373"
     },
     "user_tz": -180
    },
    "id": "-fswLvIgFxiR"
   },
   "outputs": [],
   "source": [
    "#convert text sequences into integer sequences\n",
    "y_tr_seq    =   y_tokenizer.encode_batch(list(y_tr1))\n",
    "y_val_seq   =   y_tokenizer.encode_batch(list(y_val))"
   ]
  },
  {
   "cell_type": "code",
   "execution_count": 77,
   "metadata": {
    "colab": {
     "base_uri": "https://localhost:8080/",
     "height": 34
    },
    "colab_type": "code",
    "executionInfo": {
     "elapsed": 25347,
     "status": "ok",
     "timestamp": 1596615827876,
     "user": {
      "displayName": "Маргарита Александровна Котова",
      "photoUrl": "",
      "userId": "10449559957278129373"
     },
     "user_tz": -180
    },
    "id": "aECmPseg8my5",
    "outputId": "b81a4379-2dfc-495a-da28-2b25b0fa365c"
   },
   "outputs": [
    {
     "name": "stdout",
     "output_type": "stream",
     "text": [
      "30\n"
     ]
    }
   ],
   "source": [
    "max=0\n",
    "for x in y_tr_seq:\n",
    "    if len(x)>max:\n",
    "        max=len(x)\n",
    "print(max) \n",
    "max_summary_len=max"
   ]
  },
  {
   "cell_type": "code",
   "execution_count": 79,
   "metadata": {
    "colab": {},
    "colab_type": "code",
    "executionInfo": {
     "elapsed": 24725,
     "status": "ok",
     "timestamp": 1596615828244,
     "user": {
      "displayName": "Маргарита Александровна Котова",
      "photoUrl": "",
      "userId": "10449559957278129373"
     },
     "user_tz": -180
    },
    "id": "XilAkupR8my9"
   },
   "outputs": [],
   "source": [
    "#padding zero upto maximum length\n",
    "y_tr    =   pad_sequences([y.ids for y in y_tr_seq],  maxlen=max_summary_len, padding='post')\n",
    "y_val   =   pad_sequences([y.ids for y in y_val_seq], maxlen=max_summary_len, padding='post')"
   ]
  },
  {
   "cell_type": "code",
   "execution_count": 80,
   "metadata": {
    "colab": {},
    "colab_type": "code",
    "executionInfo": {
     "elapsed": 24665,
     "status": "ok",
     "timestamp": 1596615828245,
     "user": {
      "displayName": "Маргарита Александровна Котова",
      "photoUrl": "",
      "userId": "10449559957278129373"
     },
     "user_tz": -180
    },
    "id": "keMltdrO8my_"
   },
   "outputs": [],
   "source": [
    "dicy={}\n",
    "for y in y_tr_seq:\n",
    "    \n",
    "    for word in y.tokens:\n",
    "        if word in dicy:\n",
    "            dicy[word]+=1\n",
    "        else:\n",
    "            dicy[word]=1\n",
    "\n",
    "for y in y_val_seq:\n",
    "    \n",
    "    for word in y.tokens:\n",
    "        if word in dicy:\n",
    "            dicy[word]+=1\n",
    "        else:\n",
    "            dicy[word]=1            "
   ]
  },
  {
   "cell_type": "code",
   "execution_count": 81,
   "metadata": {
    "colab": {
     "base_uri": "https://localhost:8080/",
     "height": 34
    },
    "colab_type": "code",
    "executionInfo": {
     "elapsed": 24576,
     "status": "ok",
     "timestamp": 1596615828246,
     "user": {
      "displayName": "Маргарита Александровна Котова",
      "photoUrl": "",
      "userId": "10449559957278129373"
     },
     "user_tz": -180
    },
    "id": "d7IznpyP8mzB",
    "outputId": "cb6f1c08-5754-4684-e1a2-4d000223b996"
   },
   "outputs": [
    {
     "data": {
      "text/plain": [
       "19739"
      ]
     },
     "execution_count": 81,
     "metadata": {},
     "output_type": "execute_result"
    }
   ],
   "source": [
    "\n",
    "len(dicy)"
   ]
  },
  {
   "cell_type": "code",
   "execution_count": 82,
   "metadata": {
    "colab": {
     "base_uri": "https://localhost:8080/",
     "height": 34
    },
    "colab_type": "code",
    "executionInfo": {
     "elapsed": 25189,
     "status": "ok",
     "timestamp": 1596615828934,
     "user": {
      "displayName": "Маргарита Александровна Котова",
      "photoUrl": "",
      "userId": "10449559957278129373"
     },
     "user_tz": -180
    },
    "id": "PPGr3Z5o8mzD",
    "outputId": "6651b6ea-96c2-4e49-9c2b-2638cf3fa2be"
   },
   "outputs": [
    {
     "name": "stdout",
     "output_type": "stream",
     "text": [
      "51997\n"
     ]
    }
   ],
   "source": [
    "max=0\n",
    "for x in y_tr:\n",
    "    \n",
    "    for word in x:\n",
    "        \n",
    "        if (word > max):\n",
    "            max = word\n",
    "for x in y_val:\n",
    "    \n",
    "    for word in x:\n",
    "        \n",
    "        if (word > max):\n",
    "            max = word            \n",
    "print(max)       "
   ]
  },
  {
   "cell_type": "code",
   "execution_count": 83,
   "metadata": {
    "colab": {},
    "colab_type": "code",
    "executionInfo": {
     "elapsed": 24767,
     "status": "ok",
     "timestamp": 1596615828935,
     "user": {
      "displayName": "Маргарита Александровна Котова",
      "photoUrl": "",
      "userId": "10449559957278129373"
     },
     "user_tz": -180
    },
    "id": "uzHBlfw58mzE"
   },
   "outputs": [],
   "source": [
    "#size of vocabulary\n",
    "y_voc  =   max +1"
   ]
  },
  {
   "cell_type": "code",
   "execution_count": 84,
   "metadata": {
    "colab": {
     "base_uri": "https://localhost:8080/",
     "height": 34
    },
    "colab_type": "code",
    "executionInfo": {
     "elapsed": 24194,
     "status": "ok",
     "timestamp": 1596615828936,
     "user": {
      "displayName": "Маргарита Александровна Котова",
      "photoUrl": "",
      "userId": "10449559957278129373"
     },
     "user_tz": -180
    },
    "id": "FU0KooAK8mzG",
    "outputId": "1c158027-ca29-4d38-a773-e96798dbf8b9"
   },
   "outputs": [
    {
     "data": {
      "text/plain": [
       "51998"
      ]
     },
     "execution_count": 84,
     "metadata": {},
     "output_type": "execute_result"
    }
   ],
   "source": [
    "y_voc"
   ]
  },
  {
   "cell_type": "markdown",
   "metadata": {
    "colab_type": "text",
    "id": "LVFhFVguTTtw"
   },
   "source": [
    "Here, I am deleting the rows that contain only **START** and **END** tokens"
   ]
  },
  {
   "cell_type": "code",
   "execution_count": 85,
   "metadata": {
    "colab": {},
    "colab_type": "code",
    "executionInfo": {
     "elapsed": 27405,
     "status": "ok",
     "timestamp": 1596615833160,
     "user": {
      "displayName": "Маргарита Александровна Котова",
      "photoUrl": "",
      "userId": "10449559957278129373"
     },
     "user_tz": -180
    },
    "id": "kZ-vW82sFxih"
   },
   "outputs": [],
   "source": [
    "ind=[]\n",
    "for i in range(len(y_tr)):\n",
    "    cnt=0\n",
    "    for j in y_tr[i]:\n",
    "        if j!=0:\n",
    "            cnt=cnt+1\n",
    "    if(cnt==2):\n",
    "        ind.append(i)\n",
    "\n",
    "y_tr=np.delete(y_tr,ind, axis=0)\n",
    "x_tr=np.delete(x_tr,ind, axis=0)"
   ]
  },
  {
   "cell_type": "code",
   "execution_count": 86,
   "metadata": {
    "colab": {},
    "colab_type": "code",
    "executionInfo": {
     "elapsed": 27511,
     "status": "ok",
     "timestamp": 1596615833774,
     "user": {
      "displayName": "Маргарита Александровна Котова",
      "photoUrl": "",
      "userId": "10449559957278129373"
     },
     "user_tz": -180
    },
    "id": "cx5NISuMFxik"
   },
   "outputs": [],
   "source": [
    "ind=[]\n",
    "for i in range(len(y_val)):\n",
    "    cnt=0\n",
    "    for j in y_val[i]:\n",
    "        if j!=0:\n",
    "            cnt=cnt+1\n",
    "    if(cnt==2):\n",
    "        ind.append(i)\n",
    "\n",
    "y_val=np.delete(y_val,ind, axis=0)\n",
    "x_val=np.delete(x_val,ind, axis=0)"
   ]
  },
  {
   "cell_type": "markdown",
   "metadata": {
    "colab_type": "text",
    "id": "wOtlDcthFxip"
   },
   "source": [
    "# Model building\n",
    "\n",
    "We are finally at the model building part. But before we do that, we need to familiarize ourselves with a few terms which are required prior to building the model.\n",
    "\n",
    "**Return Sequences = True**: When the return sequences parameter is set to True, LSTM produces the hidden state and cell state for every timestep\n",
    "\n",
    "**Return State = True**: When return state = True, LSTM produces the hidden state and cell state of the last timestep only\n",
    "\n",
    "**Initial State**: This is used to initialize the internal states of the LSTM for the first timestep\n",
    "\n",
    "**Stacked LSTM**: Stacked LSTM has multiple layers of LSTM stacked on top of each other. \n",
    "This leads to a better representation of the sequence. I encourage you to experiment with the multiple layers of the LSTM stacked on top of each other (it’s a great way to learn this)\n",
    "\n",
    "Here, we are building a 3 stacked LSTM for the encoder:"
   ]
  },
  {
   "cell_type": "code",
   "execution_count": 61,
   "metadata": {
    "colab": {
     "base_uri": "https://localhost:8080/",
     "height": 675
    },
    "colab_type": "code",
    "id": "zXef38nBFxir",
    "outputId": "80c885fe-7fef-4972-b062-5b00802b2566"
   },
   "outputs": [
    {
     "name": "stdout",
     "output_type": "stream",
     "text": [
      "Model: \"model\"\n",
      "__________________________________________________________________________________________________\n",
      "Layer (type)                    Output Shape         Param #     Connected to                     \n",
      "==================================================================================================\n",
      "input_1 (InputLayer)            [(None, 77)]         0                                            \n",
      "__________________________________________________________________________________________________\n",
      "embedding (Embedding)           (None, 77, 100)      5199700     input_1[0][0]                    \n",
      "__________________________________________________________________________________________________\n",
      "lstm (LSTM)                     [(None, 77, 300), (N 481200      embedding[0][0]                  \n",
      "__________________________________________________________________________________________________\n",
      "input_2 (InputLayer)            [(None, None)]       0                                            \n",
      "__________________________________________________________________________________________________\n",
      "lstm_1 (LSTM)                   [(None, 77, 300), (N 721200      lstm[0][0]                       \n",
      "__________________________________________________________________________________________________\n",
      "embedding_1 (Embedding)         (None, None, 100)    5197300     input_2[0][0]                    \n",
      "__________________________________________________________________________________________________\n",
      "lstm_2 (LSTM)                   [(None, 77, 300), (N 721200      lstm_1[0][0]                     \n",
      "__________________________________________________________________________________________________\n",
      "lstm_3 (LSTM)                   [(None, None, 300),  481200      embedding_1[0][0]                \n",
      "                                                                 lstm_2[0][1]                     \n",
      "                                                                 lstm_2[0][2]                     \n",
      "__________________________________________________________________________________________________\n",
      "attention_layer (AttentionLayer ((None, None, 300),  180300      lstm_2[0][0]                     \n",
      "                                                                 lstm_3[0][0]                     \n",
      "__________________________________________________________________________________________________\n",
      "concat_layer (Concatenate)      (None, None, 600)    0           lstm_3[0][0]                     \n",
      "                                                                 attention_layer[0][0]            \n",
      "__________________________________________________________________________________________________\n",
      "time_distributed (TimeDistribut (None, None, 51973)  31235773    concat_layer[0][0]               \n",
      "==================================================================================================\n",
      "Total params: 44,217,873\n",
      "Trainable params: 44,217,873\n",
      "Non-trainable params: 0\n",
      "__________________________________________________________________________________________________\n"
     ]
    }
   ],
   "source": [
    "from keras import backend as K \n",
    "K.clear_session()\n",
    "\n",
    "latent_dim = 300\n",
    "embedding_dim=100\n",
    "\n",
    "# Encoder\n",
    "encoder_inputs = Input(shape=(max_text_len,))\n",
    "\n",
    "#embedding layer\n",
    "enc_emb =  Embedding(x_voc, embedding_dim,trainable=True)(encoder_inputs)\n",
    "\n",
    "#encoder lstm 1\n",
    "encoder_lstm1 = LSTM(latent_dim,return_sequences=True,return_state=True,dropout=0.4,recurrent_dropout=0.4)\n",
    "encoder_output1, state_h1, state_c1 = encoder_lstm1(enc_emb)\n",
    "\n",
    "#encoder lstm 2\n",
    "encoder_lstm2 = LSTM(latent_dim,return_sequences=True,return_state=True,dropout=0.4,recurrent_dropout=0.4)\n",
    "encoder_output2, state_h2, state_c2 = encoder_lstm2(encoder_output1)\n",
    "\n",
    "#encoder lstm 3\n",
    "encoder_lstm3=LSTM(latent_dim, return_state=True, return_sequences=True,dropout=0.4,recurrent_dropout=0.4)\n",
    "encoder_outputs, state_h, state_c= encoder_lstm3(encoder_output2)\n",
    "\n",
    "# Set up the decoder, using `encoder_states` as initial state.\n",
    "decoder_inputs = Input(shape=(None,))\n",
    "\n",
    "#embedding layer\n",
    "dec_emb_layer = Embedding(y_voc, embedding_dim,trainable=True)\n",
    "dec_emb = dec_emb_layer(decoder_inputs)\n",
    "\n",
    "decoder_lstm = LSTM(latent_dim, return_sequences=True, return_state=True,dropout=0.4,recurrent_dropout=0.2)\n",
    "decoder_outputs,decoder_fwd_state, decoder_back_state = decoder_lstm(dec_emb,initial_state=[state_h, state_c])\n",
    "\n",
    "# Attention layer\n",
    "attn_layer = AttentionLayer(name='attention_layer')\n",
    "attn_out, attn_states = attn_layer([encoder_outputs, decoder_outputs])\n",
    "\n",
    "# Concat attention input and decoder LSTM output\n",
    "decoder_concat_input = Concatenate(axis=-1, name='concat_layer')([decoder_outputs, attn_out])\n",
    "\n",
    "#dense layer\n",
    "decoder_dense =  TimeDistributed(Dense(y_voc, activation='softmax'))\n",
    "decoder_outputs = decoder_dense(decoder_concat_input)\n",
    "\n",
    "# Define the model \n",
    "model = Model([encoder_inputs, decoder_inputs], decoder_outputs)\n",
    "\n",
    "model.summary() "
   ]
  },
  {
   "cell_type": "markdown",
   "metadata": {
    "colab_type": "text",
    "id": "0ZVlfRuMUcoP"
   },
   "source": [
    "I am using sparse categorical cross-entropy as the loss function since it converts the integer sequence to a one-hot vector on the fly. This overcomes any memory issues."
   ]
  },
  {
   "cell_type": "code",
   "execution_count": 62,
   "metadata": {
    "colab": {},
    "colab_type": "code",
    "id": "Lwfi1Fm8Fxiz"
   },
   "outputs": [],
   "source": [
    "model.compile(optimizer='rmsprop', loss='sparse_categorical_crossentropy')"
   ]
  },
  {
   "cell_type": "markdown",
   "metadata": {
    "colab_type": "text",
    "id": "p0ykDbxfUhyw"
   },
   "source": [
    "The concept of early stopping is used to stop training the neural network at the right time by monitoring a user-specified metric. Here, I am monitoring the validation loss (val_loss). Our model will stop training once the validation loss increases:\n"
   ]
  },
  {
   "cell_type": "code",
   "execution_count": 64,
   "metadata": {
    "colab": {},
    "colab_type": "code",
    "id": "s-A3J92MUljB"
   },
   "outputs": [],
   "source": [
    "#es = EarlyStopping(monitor='val_loss', mode='min', verbose=1,patience=2)"
   ]
  },
  {
   "cell_type": "code",
   "execution_count": 91,
   "metadata": {
    "colab": {},
    "colab_type": "code",
    "executionInfo": {
     "elapsed": 1817,
     "status": "ok",
     "timestamp": 1596616558072,
     "user": {
      "displayName": "Маргарита Александровна Котова",
      "photoUrl": "",
      "userId": "10449559957278129373"
     },
     "user_tz": -180
    },
    "id": "CuXTfXtYnwv-"
   },
   "outputs": [],
   "source": [
    "# checkpoint_path = \"training_1/cp.ckpt\"\n",
    "# checkpoint_dir = os.path.dirname(checkpoint_path)"
   ]
  },
  {
   "cell_type": "code",
   "execution_count": 92,
   "metadata": {
    "colab": {},
    "colab_type": "code",
    "executionInfo": {
     "elapsed": 1159,
     "status": "ok",
     "timestamp": 1596616559678,
     "user": {
      "displayName": "Маргарита Александровна Котова",
      "photoUrl": "",
      "userId": "10449559957278129373"
     },
     "user_tz": -180
    },
    "id": "h0tRqh9FnyJN"
   },
   "outputs": [],
   "source": [
    "# Создаем коллбек сохраняющий веса модели\n",
    "cp_callback = tf.keras.callbacks.ModelCheckpoint(filepath=checkpoint_path,\n",
    "                                                 save_weights_only=True,\n",
    "                                                 verbose=1)"
   ]
  },
  {
   "cell_type": "markdown",
   "metadata": {
    "colab_type": "text",
    "id": "Mw6CVECaUq5b"
   },
   "source": [
    "We’ll train the model on a batch size of 128 and validate it on the holdout set (which is 10% of our dataset):"
   ]
  },
  {
   "cell_type": "code",
   "execution_count": 94,
   "metadata": {
    "colab": {
     "base_uri": "https://localhost:8080/",
     "height": 235
    },
    "colab_type": "code",
    "executionInfo": {
     "elapsed": 4224217,
     "status": "ok",
     "timestamp": 1596620785290,
     "user": {
      "displayName": "Маргарита Александровна Котова",
      "photoUrl": "",
      "userId": "10449559957278129373"
     },
     "user_tz": -180
    },
    "id": "ETnPzA4OFxi3",
    "outputId": "01952913-527c-4443-bb6c-5e14d27a51fd"
   },
   "outputs": [],
   "source": [
    "#history = model.fit([x_tr,y_tr[:,:-1]], y_tr.reshape(y_tr.shape[0],y_tr.shape[1], 1)[:,1:] ,epochs=5,callbacks=[es, cp_callback],batch_size=128, validation_data=([x_val,y_val[:,:-1]], y_val.reshape(y_val.shape[0],y_val.shape[1], 1)[:,1:]))"
   ]
  },
  {
   "cell_type": "code",
   "execution_count": 95,
   "metadata": {
    "colab": {},
    "colab_type": "code",
    "executionInfo": {
     "elapsed": 4222613,
     "status": "ok",
     "timestamp": 1596620785647,
     "user": {
      "displayName": "Маргарита Александровна Котова",
      "photoUrl": "",
      "userId": "10449559957278129373"
     },
     "user_tz": -180
    },
    "id": "hYSV57W7odPy"
   },
   "outputs": [],
   "source": [
    "#model.save_weights(\"bpe_model_short_30.h5\")"
   ]
  },
  {
   "cell_type": "code",
   "execution_count": 96,
   "metadata": {
    "colab": {
     "base_uri": "https://localhost:8080/",
     "height": 17
    },
    "colab_type": "code",
    "executionInfo": {
     "elapsed": 4221964,
     "status": "ok",
     "timestamp": 1596620785648,
     "user": {
      "displayName": "Маргарита Александровна Котова",
      "photoUrl": "",
      "userId": "10449559957278129373"
     },
     "user_tz": -180
    },
    "id": "VoWrHWaaoiNe",
    "outputId": "a1884b10-dc7b-4622-c79b-ca937509c5a4"
   },
   "outputs": [],
   "source": [
    "# from google.colab import files\n",
    "# files.download( \"/content/bpe_model_short_30.h5\" )"
   ]
  },
  {
   "cell_type": "markdown",
   "metadata": {},
   "source": [
    "Load weights of already trained model"
   ]
  },
  {
   "cell_type": "code",
   "execution_count": 89,
   "metadata": {
    "colab": {},
    "colab_type": "code",
    "executionInfo": {
     "elapsed": 5108,
     "status": "ok",
     "timestamp": 1596616558068,
     "user": {
      "displayName": "Маргарита Александровна Котова",
      "photoUrl": "",
      "userId": "10449559957278129373"
     },
     "user_tz": -180
    },
    "id": "WiiaIundHz0a"
   },
   "outputs": [],
   "source": [
    "model.load_weights(\"bpe_model_short_30.h5\")"
   ]
  },
  {
   "cell_type": "markdown",
   "metadata": {
    "colab_type": "text",
    "id": "0ezKYOp2UxG5"
   },
   "source": [
    "#Diagnostic plot\n"
   ]
  },
  {
   "cell_type": "code",
   "execution_count": 97,
   "metadata": {
    "colab": {
     "base_uri": "https://localhost:8080/",
     "height": 265
    },
    "colab_type": "code",
    "executionInfo": {
     "elapsed": 1491,
     "status": "ok",
     "timestamp": 1596623248929,
     "user": {
      "displayName": "Маргарита Александровна Котова",
      "photoUrl": "",
      "userId": "10449559957278129373"
     },
     "user_tz": -180
    },
    "id": "tDTNLAURFxjE",
    "outputId": "cdb9ee34-8590-40b7-b2f5-a87cfdfa03c7"
   },
   "outputs": [],
   "source": [
    "# from matplotlib import pyplot\n",
    "# pyplot.plot(history.history['loss'], label='train')\n",
    "# pyplot.plot(history.history['val_loss'], label='test')\n",
    "# pyplot.legend()\n",
    "# pyplot.show()"
   ]
  },
  {
   "cell_type": "markdown",
   "metadata": {
    "colab_type": "text",
    "id": "HSyx-HvpUz2o"
   },
   "source": [
    "Next, let’s build the dictionary to convert the index to word for target and source vocabulary:"
   ]
  },
  {
   "cell_type": "code",
   "execution_count": 180,
   "metadata": {
    "colab": {
     "base_uri": "https://localhost:8080/",
     "height": 54
    },
    "colab_type": "code",
    "executionInfo": {
     "elapsed": 2289,
     "status": "ok",
     "timestamp": 1596623269154,
     "user": {
      "displayName": "Маргарита Александровна Котова",
      "photoUrl": "",
      "userId": "10449559957278129373"
     },
     "user_tz": -180
    },
    "id": "Mmeru5UlGmML",
    "outputId": "f4b97fb9-d954-4f47-bb2e-5b26fb6f4333"
   },
   "outputs": [],
   "source": [
    "dic={}\n",
    "\n",
    "for i,v in zip(y_tr_seq, y_tr_seq):\n",
    "    for x,y in zip(i.ids,v.tokens):\n",
    "       if x not in dic:\n",
    "          dic[x] = y\n",
    "\n",
    "for i,v in zip(y_val_seq, y_val_seq):\n",
    "    for x,y in zip(i.ids,v.tokens):\n",
    "       if x not in dic:\n",
    "          dic[x] = y"
   ]
  },
  {
   "cell_type": "code",
   "execution_count": 175,
   "metadata": {
    "colab": {
     "base_uri": "https://localhost:8080/",
     "height": 54
    },
    "colab_type": "code",
    "executionInfo": {
     "elapsed": 1818,
     "status": "ok",
     "timestamp": 1596623270198,
     "user": {
      "displayName": "Маргарита Александровна Котова",
      "photoUrl": "",
      "userId": "10449559957278129373"
     },
     "user_tz": -180
    },
    "id": "XvK5hxLVASxS",
    "outputId": "2ece3a72-7813-4408-95df-bd26780cc010"
   },
   "outputs": [],
   "source": [
    "reverse_target_word_index={}\n",
    "list_keys = list(dic.keys())\n",
    "list_keys.sort()\n",
    "for i in list_keys:\n",
    "  reverse_target_word_index[i]=dic[i]"
   ]
  },
  {
   "cell_type": "code",
   "execution_count": 176,
   "metadata": {
    "colab": {
     "base_uri": "https://localhost:8080/",
     "height": 54
    },
    "colab_type": "code",
    "executionInfo": {
     "elapsed": 5873,
     "status": "ok",
     "timestamp": 1596623276606,
     "user": {
      "displayName": "Маргарита Александровна Котова",
      "photoUrl": "",
      "userId": "10449559957278129373"
     },
     "user_tz": -180
    },
    "id": "O74Jsk-q8mzn",
    "outputId": "f6a90db5-42be-48f3-f9da-785543048c72"
   },
   "outputs": [],
   "source": [
    "dicx={}\n",
    "\n",
    "for i,v in zip(x_tr_seq, x_tr_seq):\n",
    "    for x,y in zip(i.ids,v.tokens):\n",
    "       if x not in dicx:\n",
    "          dicx[x] = y\n",
    "\n",
    "for i,v in zip(x_val_seq, x_val_seq):\n",
    "    for x,y in zip(i.ids,v.tokens):\n",
    "       if x not in dicx:\n",
    "          dicx[x] = y"
   ]
  },
  {
   "cell_type": "code",
   "execution_count": 177,
   "metadata": {
    "colab": {
     "base_uri": "https://localhost:8080/",
     "height": 54
    },
    "colab_type": "code",
    "executionInfo": {
     "elapsed": 4483,
     "status": "ok",
     "timestamp": 1596623276610,
     "user": {
      "displayName": "Маргарита Александровна Котова",
      "photoUrl": "",
      "userId": "10449559957278129373"
     },
     "user_tz": -180
    },
    "id": "jDFPrqAeCQC6",
    "outputId": "a45bd0e4-fc14-4988-e804-101b0e235bcb"
   },
   "outputs": [],
   "source": [
    "reverse_source_word_index={}\n",
    "list_keys = list(dicx.keys())\n",
    "list_keys.sort()\n",
    "for i in list_keys:\n",
    "  reverse_source_word_index[i]=dicx[i]\n"
   ]
  },
  {
   "cell_type": "code",
   "execution_count": 178,
   "metadata": {
    "colab": {
     "base_uri": "https://localhost:8080/",
     "height": 54
    },
    "colab_type": "code",
    "executionInfo": {
     "elapsed": 3572,
     "status": "ok",
     "timestamp": 1596623276614,
     "user": {
      "displayName": "Маргарита Александровна Котова",
      "photoUrl": "",
      "userId": "10449559957278129373"
     },
     "user_tz": -180
    },
    "id": "DQZRGVmlCxLa",
    "outputId": "ee6025a5-bb93-4a99-d6d4-43b3891401f2"
   },
   "outputs": [],
   "source": [
    "dic={}\n",
    "\n",
    "for i,v in zip(y_tr_seq, y_tr_seq):\n",
    "    for x,y in zip(i.ids,v.tokens):\n",
    "       if y not in dic:\n",
    "          dic[y] = x\n",
    "\n",
    "for i,v in zip(y_val_seq, y_val_seq):\n",
    "    for x,y in zip(i.ids,v.tokens):\n",
    "       if y not in dic:\n",
    "          dic[y] = x"
   ]
  },
  {
   "cell_type": "code",
   "execution_count": 179,
   "metadata": {
    "colab": {
     "base_uri": "https://localhost:8080/",
     "height": 54
    },
    "colab_type": "code",
    "executionInfo": {
     "elapsed": 2754,
     "status": "ok",
     "timestamp": 1596623276618,
     "user": {
      "displayName": "Маргарита Александровна Котова",
      "photoUrl": "",
      "userId": "10449559957278129373"
     },
     "user_tz": -180
    },
    "id": "cTLMNJ-dDBTb",
    "outputId": "89506ce8-15ce-4b69-b543-872e18a36b66"
   },
   "outputs": [],
   "source": [
    "target_word_index={}\n",
    "list_d = list(dic.items())\n",
    "list_d.sort(key=lambda i: i[1])\n",
    "\n",
    "for i in list_d:\n",
    "      target_word_index[i[0]]=i[1]\n"
   ]
  },
  {
   "cell_type": "markdown",
   "metadata": {
    "colab_type": "text",
    "id": "eM_nU_VvFxjq"
   },
   "source": [
    "# Inference\n",
    "\n",
    "Set up the inference for the encoder and decoder:"
   ]
  },
  {
   "cell_type": "code",
   "execution_count": 73,
   "metadata": {
    "colab": {},
    "colab_type": "code",
    "id": "9QkrNV-4Fxjt"
   },
   "outputs": [],
   "source": [
    "# Encode the input sequence to get the feature vector\n",
    "encoder_model = Model(inputs=encoder_inputs,outputs=[encoder_outputs, state_h, state_c])\n",
    "\n",
    "# Decoder setup\n",
    "# Below tensors will hold the states of the previous time step\n",
    "decoder_state_input_h = Input(shape=(latent_dim,))\n",
    "decoder_state_input_c = Input(shape=(latent_dim,))\n",
    "decoder_hidden_state_input = Input(shape=(max_text_len,latent_dim))\n",
    "\n",
    "# Get the embeddings of the decoder sequence\n",
    "dec_emb2= dec_emb_layer(decoder_inputs) \n",
    "# To predict the next word in the sequence, set the initial states to the states from the previous time step\n",
    "decoder_outputs2, state_h2, state_c2 = decoder_lstm(dec_emb2, initial_state=[decoder_state_input_h, decoder_state_input_c])\n",
    "\n",
    "#attention inference\n",
    "attn_out_inf, attn_states_inf = attn_layer([decoder_hidden_state_input, decoder_outputs2])\n",
    "decoder_inf_concat = Concatenate(axis=-1, name='concat')([decoder_outputs2, attn_out_inf])\n",
    "\n",
    "# A dense softmax layer to generate prob dist. over the target vocabulary\n",
    "decoder_outputs2 = decoder_dense(decoder_inf_concat) \n",
    "\n",
    "# Final decoder model\n",
    "decoder_model = Model(\n",
    "    [decoder_inputs] + [decoder_hidden_state_input,decoder_state_input_h, decoder_state_input_c],\n",
    "    [decoder_outputs2] + [state_h2, state_c2])"
   ]
  },
  {
   "cell_type": "markdown",
   "metadata": {
    "colab_type": "text",
    "id": "zOiyk4ToWe74"
   },
   "source": [
    "We are defining a function below which is the implementation of the inference process, using y_tokenizer.decode()"
   ]
  },
  {
   "cell_type": "code",
   "execution_count": 120,
   "metadata": {},
   "outputs": [],
   "source": [
    "def decode_sequence(input_seq):\n",
    "    # Encode the input as state vectors.\n",
    "    e_out, e_h, e_c = encoder_model.predict(input_seq)\n",
    "    \n",
    "    # Generate empty target sequence of length 1.\n",
    "    target_seq = np.zeros((1,1))\n",
    "    test=[]\n",
    "    # Populate the first word of target sequence with the start word.\n",
    "    #target_seq[0, 0] = target_word_index['x']\n",
    "\n",
    "    stop_condition = False\n",
    "    decoded_sentence = ''\n",
    "    decoded_sentence_test = ''\n",
    "    while not stop_condition:\n",
    "      \n",
    "        output_tokens, h, c = decoder_model.predict([target_seq] + [e_out, e_h, e_c])\n",
    "        \n",
    "        # Sample a token\n",
    "        sampled_token_index = np.argmax(output_tokens[0, -1, :])\n",
    "        \n",
    "        test.append(sampled_token_index)\n",
    "        \n",
    "        sampled_token = reverse_target_word_index[sampled_token_index]\n",
    "        #print(sampled_token)\n",
    "        if(sampled_token!='y') or (sampled_token!='Ġx'):\n",
    "            decoded_sentence += sampled_token + ' '\n",
    "        \n",
    "        # Exit condition: either hit max length or find stop word.\n",
    "        if (sampled_token == 'Ġx' or sampled_token == 'xy' or sampled_token == '' or len(decoded_sentence.split()) >= (max_summary_len-1)):\n",
    "            stop_condition = True\n",
    "\n",
    "        # Update the target sequence (of length 1).\n",
    "        target_seq = np.zeros((1,1))\n",
    "        target_seq[0, 0] = sampled_token_index\n",
    "\n",
    "        # Update internal states\n",
    "        e_h, e_c = h, c\n",
    "      \n",
    "    decoded_sentence_test = y_tokenizer.decode(test[1:len(test)-1]) \n",
    "    return decoded_sentence_test"
   ]
  },
  {
   "cell_type": "markdown",
   "metadata": {
    "colab_type": "text",
    "id": "6GuDf4TPWt6_"
   },
   "source": [
    "Let us define the functions to convert an integer sequence to a word sequence for summary as well as the reviews:"
   ]
  },
  {
   "cell_type": "code",
   "execution_count": 108,
   "metadata": {},
   "outputs": [],
   "source": [
    "def seq2summary(input_seq):\n",
    "#    return y_tokenizer.decode(input_seq)[2:len(input_seq)-1] \n",
    "     return y_tokenizer.decode(input_seq)[2:len(input_seq)+1]  \n",
    "\n",
    "def seq2text(input_seq):\n",
    "    return x_tokenizer.decode(input_seq) "
   ]
  },
  {
   "cell_type": "markdown",
   "metadata": {
    "colab_type": "text",
    "id": "9gM4ALyfWwA9"
   },
   "source": [
    "Here are a few summaries generated by the model:"
   ]
  },
  {
   "cell_type": "code",
   "execution_count": 109,
   "metadata": {
    "colab": {},
    "colab_type": "code",
    "executionInfo": {
     "elapsed": 1062,
     "status": "ok",
     "timestamp": 1596623287992,
     "user": {
      "displayName": "Маргарита Александровна Котова",
      "photoUrl": "",
      "userId": "10449559957278129373"
     },
     "user_tz": -180
    },
    "id": "5szYnARcH3oA"
   },
   "outputs": [],
   "source": [
    "reverse_target_word_index[0]=''"
   ]
  },
  {
   "cell_type": "code",
   "execution_count": 121,
   "metadata": {
    "colab": {
     "base_uri": "https://localhost:8080/",
     "height": 1000
    },
    "colab_type": "code",
    "executionInfo": {
     "elapsed": 17899,
     "status": "error",
     "timestamp": 1596623306318,
     "user": {
      "displayName": "Маргарита Александровна Котова",
      "photoUrl": "",
      "userId": "10449559957278129373"
     },
     "user_tz": -180
    },
    "id": "BUtQmQTmFxkI",
    "outputId": "50266e77-eb9f-419b-e857-c3510400b364"
   },
   "outputs": [
    {
     "name": "stdout",
     "output_type": "stream",
     "text": [
      "Review: official us president barack obama wants lawmakers weigh whether use military force syria obama sent letter heads house senate saturday night hours announcing believes military action syrian targets right step<s><s><s><s><s><s><s><s><s><s><s><s><s><s><s><s><s><s><s><s><s><s><s><s><s><s><s><s>\n",
      "Original summary:  syrian official obama clim\n",
      "Predicted summary:  obama says he will not be the\n",
      "\n",
      "\n",
      "Review: usain bolt rounded world championships sunday claiming third gold moscow anchored jamaica victory mens relay fastest man world charged clear united states rival justin gatlin jamaican quartet nesta carter kemar<s><s><s><s><s><s><s><s><s><s><s><s><s><s><s><s><s><s><s><s><s><s><s><s><s><s>\n",
      "Original summary:  usain bolt wins third gold\n",
      "Predicted summary:  usain bolt wins the world cup final\n",
      "\n",
      "\n",
      "Review: general services administration already investigation lavish spending allowed employee telecommute hawaii even though based gsas kansas city missouri office cnn investigation found cost business development specialist travel mainland united states<s><s><s><s><s><s><s><s><s><s><s><s><s><s><s><s><s><s><s><s><s><s><s><s>\n",
      "Original summary:  the employee in agencys ka\n",
      "Predicted summary:  new york city council says the country\n",
      "\n",
      "\n",
      "Review: medical doctor vancouver british columbia said thursday california arson suspect harry burkhart suffered severe mental illness examined part team doctors dr blaga stancheva family physician specialist obstetrics said burkhart mother<s><s><s><s><s><s><s><s><s><s><s><s><s><s><s><s><s><s><s><s><s><s><s><s>\n",
      "Original summary:  new canadian doctor says s\n",
      "Predicted summary:  john avlon jr was found dead in\n",
      "\n",
      "\n",
      "Review: police arrested another teen thursday sixth suspect jailed connection gang rape girl northern california high school campus jose carlos montano arrested charges felony rape rape concert force penetration foreign object<s><s><s><s><s><s><s><s><s><s><s><s><s><s><s><s><s><s><s><s><s><s><s><s><s><s><s><s><s><s><s>\n",
      "Original summary:  another arrest made in gan\n",
      "Predicted summary:  new police say they are arrested in\n",
      "\n",
      "\n",
      "Review: thousands saturday fled area southwestern ivory coast attacks left seven un peacekeepers eight civilians dead according un official one attack occurred late thursday friday near para village far westcentral african<s><s><s><s><s><s><s><s><s><s><s><s><s><s><s><s><s><s><s>\n",
      "Original summary:  humanitarian groups expect\n",
      "Predicted summary: \n",
      "\n",
      "\n",
      "Review: four groups advocate immigrant rights said thursday challenge arizonas new immigration law allows police ask anyone proof legal us residency mexican american legal defense educational fund american civil liberties union<s><s><s><s><s><s><s><s><s><s><s><s><s><s><s><s><s><s><s><s><s><s><s>\n",
      "Original summary:  new groups announce legal \n",
      "Predicted summary:  the supreme court has been by the\n",
      "\n",
      "\n",
      "Review: labor day unofficial end summer also unofficial start campaign season means politicking rise especially control senate stake well control state houses turn tv expect see nastier political advertisements fact elizabeth<s><s><s><s><s><s><s><s><s><s><s><s><s><s><s><s><s><s><s><s><s><s><s><s><s><s><s><s><s><s>\n",
      "Original summary:  labor day is the unofficia\n",
      "Predicted summary:  new conservative party says hes been trying\n",
      "\n",
      "\n",
      "Review: italian humanitarian activist journalist kidnapped gaza found dead one person custody hamas interior ministry said friday statement police investigating case learned vittorio arrigoni held went location found body statement said<s><s><s><s><s><s><s><s><s><s><s><s><s><s><s><s><s><s><s><s><s><s><s><s><s><s><s><s><s><s><s>\n",
      "Original summary:  new autopsy indicates he h\n",
      "Predicted summary:  mohammed ali ali was arrested in the\n",
      "\n",
      "\n",
      "Review: renowned radio personality casey kasem critical condition hospital western washington spokesman st anthony hospital told cnn written statement thursday mr kasem alert appears comfortable time scott thompson spokesman facility gig<s><s><s><s><s><s><s><s><s><s><s><s><s><s><s><s><s><s><s><s>\n",
      "Original summary:  the radio personality was \n",
      "Predicted summary: \n",
      "\n",
      "\n"
     ]
    }
   ],
   "source": [
    "for i in range(0,10):\n",
    "    print(\"Review:\",seq2text(x_tr[i]))\n",
    "    print(\"Original summary:\",seq2summary(y_tr[i]))\n",
    "    print(\"Predicted summary:\",decode_sequence(x_tr[i].reshape(1,max_text_len)))\n",
    "    print(\"\\n\")"
   ]
  },
  {
   "cell_type": "markdown",
   "metadata": {
    "colab_type": "text",
    "id": "OTkaYNjHW4lC"
   },
   "source": [
    "### Preparation for using metric Rouge"
   ]
  },
  {
   "cell_type": "markdown",
   "metadata": {},
   "source": [
    "Make the dataframe with original and predicted summaries"
   ]
  },
  {
   "cell_type": "code",
   "execution_count": 127,
   "metadata": {},
   "outputs": [],
   "source": [
    "original_summary = []\n",
    "predicted_summary = []"
   ]
  },
  {
   "cell_type": "code",
   "execution_count": 128,
   "metadata": {
    "colab": {
     "base_uri": "https://localhost:8080/",
     "height": 162
    },
    "colab_type": "code",
    "id": "hWpTL3sxwV3F",
    "outputId": "f2b1a8bb-c0db-4459-acc3-bd59a4f59e69"
   },
   "outputs": [],
   "source": [
    "for i in range(len(y_tr)):\n",
    "    original_summary.append(seq2summary(y_tr[i]))"
   ]
  },
  {
   "cell_type": "code",
   "execution_count": 136,
   "metadata": {},
   "outputs": [],
   "source": [
    "for i in range(len(original_summary)):\n",
    "    original_summary[i] = re.sub('<s>','', original_summary[i])\n",
    "    original_summary[i] = re.sub('<s','', original_summary[i])\n",
    "    original_summary[i] = re.sub('xy','', original_summary[i])\n",
    "    original_summary[i] = re.sub('<','', original_summary[i])\n",
    "    original_summary[i] = original_summary[i].strip()"
   ]
  },
  {
   "cell_type": "code",
   "execution_count": 181,
   "metadata": {},
   "outputs": [
    {
     "data": {
      "text/plain": [
       "['syrian official obama clim',\n",
       " 'usain bolt wins third gold',\n",
       " 'the employee in agencys ka',\n",
       " 'new canadian doctor says s',\n",
       " 'another arrest made in gan']"
      ]
     },
     "execution_count": 181,
     "metadata": {},
     "output_type": "execute_result"
    }
   ],
   "source": [
    "original_summary[:5]"
   ]
  },
  {
   "cell_type": "code",
   "execution_count": 137,
   "metadata": {},
   "outputs": [],
   "source": [
    "for i in range(len(y_tr)):\n",
    "    predicted_summary.append(decode_sequence(x_tr[i].reshape(1,max_text_len)))"
   ]
  },
  {
   "cell_type": "code",
   "execution_count": 134,
   "metadata": {},
   "outputs": [],
   "source": [
    "for i in range(len(predicted_summary)):\n",
    "    predicted_summary[i] = re.sub('<s>','', predicted_summary[i])\n",
    "    predicted_summary[i] = re.sub('<s','', predicted_summary[i])\n",
    "    predicted_summary[i] = re.sub('xy','', predicted_summary[i])\n",
    "    predicted_summary[i] = re.sub('<','', predicted_summary[i])\n",
    "    predicted_summary[i] = predicted_summary[i].strip()"
   ]
  },
  {
   "cell_type": "code",
   "execution_count": 182,
   "metadata": {},
   "outputs": [
    {
     "data": {
      "text/plain": [
       "['obama says he will not be the',\n",
       " 'usain bolt wins the world cup final',\n",
       " 'new york city council says the country',\n",
       " 'john avlon jr was found dead in',\n",
       " 'new police say they are arrested in']"
      ]
     },
     "execution_count": 182,
     "metadata": {},
     "output_type": "execute_result"
    }
   ],
   "source": [
    "predicted_summary[:5]"
   ]
  },
  {
   "cell_type": "code",
   "execution_count": 138,
   "metadata": {},
   "outputs": [],
   "source": [
    "dataframe = pd.DataFrame({'original_summary': original_summary, 'predicted_summary':predicted_summary})"
   ]
  },
  {
   "cell_type": "markdown",
   "metadata": {},
   "source": [
    "Delete empty predictions"
   ]
  },
  {
   "cell_type": "code",
   "execution_count": 143,
   "metadata": {},
   "outputs": [
    {
     "data": {
      "text/plain": [
       "(array([    5,     9,    12, ..., 80413, 80421, 80422], dtype=int64),)"
      ]
     },
     "execution_count": 143,
     "metadata": {},
     "output_type": "execute_result"
    }
   ],
   "source": [
    "np.where(dataframe['predicted_summary']=='')"
   ]
  },
  {
   "cell_type": "code",
   "execution_count": 140,
   "metadata": {},
   "outputs": [
    {
     "data": {
      "text/plain": [
       "(array([], dtype=int64),)"
      ]
     },
     "execution_count": 140,
     "metadata": {},
     "output_type": "execute_result"
    }
   ],
   "source": [
    "np.where(dataframe['original_summary']=='')"
   ]
  },
  {
   "cell_type": "code",
   "execution_count": 149,
   "metadata": {},
   "outputs": [],
   "source": [
    "dataframe = dataframe.drop(np.where(dataframe['predicted_summary']=='')[0])"
   ]
  },
  {
   "cell_type": "code",
   "execution_count": 150,
   "metadata": {},
   "outputs": [],
   "source": [
    "dataframe = dataframe.reset_index(drop=True)"
   ]
  },
  {
   "cell_type": "code",
   "execution_count": 151,
   "metadata": {},
   "outputs": [
    {
     "data": {
      "text/plain": [
       "(57726, 2)"
      ]
     },
     "execution_count": 151,
     "metadata": {},
     "output_type": "execute_result"
    }
   ],
   "source": [
    "dataframe.shape"
   ]
  },
  {
   "cell_type": "code",
   "execution_count": 152,
   "metadata": {},
   "outputs": [],
   "source": [
    "dataframe.to_csv('predictions_cnn_without_empty.csv')"
   ]
  },
  {
   "cell_type": "markdown",
   "metadata": {},
   "source": [
    "Create two folders with txt original and predicted summaries"
   ]
  },
  {
   "cell_type": "code",
   "execution_count": 153,
   "metadata": {},
   "outputs": [],
   "source": [
    "for i in range(len(dataframe)):\n",
    "    \n",
    "    f = open('original_cnn/original' + str(i) + '.txt', 'w', encoding=\"utf-8\")\n",
    "    f.write(dataframe['original_summary'][i])"
   ]
  },
  {
   "cell_type": "code",
   "execution_count": 163,
   "metadata": {},
   "outputs": [],
   "source": [
    "for i in range(len(dataframe)):\n",
    "    \n",
    "    f = open('predicted_cnn/predicted' + str(i) + '.txt', 'w', encoding=\"utf-8\")\n",
    "    f.write(dataframe['predicted_summary'][i])"
   ]
  },
  {
   "cell_type": "markdown",
   "metadata": {},
   "source": [
    "Import pyrouge"
   ]
  },
  {
   "cell_type": "code",
   "execution_count": 189,
   "metadata": {},
   "outputs": [],
   "source": [
    "from pyrouge import Rouge155"
   ]
  },
  {
   "cell_type": "code",
   "execution_count": 190,
   "metadata": {
    "scrolled": true
   },
   "outputs": [
    {
     "name": "stderr",
     "output_type": "stream",
     "text": [
      "2020-08-11 13:45:30,235 [MainThread  ] [INFO ]  Set ROUGE home directory to C:/Users/Margarita/pyrouge/rouge/tools/ROUGE-1.5.5.\n"
     ]
    }
   ],
   "source": [
    "r = Rouge155('C:/Users/Margarita/pyrouge/rouge/tools/ROUGE-1.5.5')\n",
    "    "
   ]
  },
  {
   "cell_type": "code",
   "execution_count": 192,
   "metadata": {},
   "outputs": [],
   "source": [
    "r.system_dir = 'C:/Users/Margarita/Documents/bpe_dropout/How-to-build-own-text-summarizer-using-deep-learning-master/original' # Summaries to score against.\n",
    "r.model_dir = 'C:/Users/Margarita/Documents/bpe_dropout/How-to-build-own-text-summarizer-using-deep-learning-master/predicted'  # Summaries generated by the model"
   ]
  },
  {
   "cell_type": "code",
   "execution_count": 192,
   "metadata": {},
   "outputs": [],
   "source": [
    "r.system_filename_pattern = 'original_summary(\\d+).txt'\n",
    "r.model_filename_pattern = 'predicted_summary#ID#.txt'"
   ]
  },
  {
   "cell_type": "code",
   "execution_count": 195,
   "metadata": {},
   "outputs": [
    {
     "name": "stdout",
     "output_type": "stream",
     "text": [
      "---------------------------------------------\r\n",
      "1 ROUGE-1 Average_R: 0.13240 (95%-conf.int. 0.12982 - 0.13498)\r\n",
      "1 ROUGE-1 Average_P: 0.10272 (95%-conf.int. 0.10063 - 0.10493)\r\n",
      "1 ROUGE-1 Average_F: 0.10960 (95%-conf.int. 0.10751 - 0.11176)\r\n",
      "---------------------------------------------\r\n",
      "1 ROUGE-2 Average_R: 0.03601 (95%-conf.int. 0.03428 - 0.03763)\r\n",
      "1 ROUGE-2 Average_P: 0.02926 (95%-conf.int. 0.02781 - 0.03072)\r\n",
      "1 ROUGE-2 Average_F: 0.03040 (95%-conf.int. 0.02891 - 0.03183)\r\n",
      "---------------------------------------------\r\n",
      "1 ROUGE-3 Average_R: 0.00677 (95%-conf.int. 0.00609 - 0.00746)\r\n",
      "1 ROUGE-3 Average_P: 0.00665 (95%-conf.int. 0.00596 - 0.00735)\r\n",
      "1 ROUGE-3 Average_F: 0.00652 (95%-conf.int. 0.00586 - 0.00719)\r\n",
      "---------------------------------------------\r\n",
      "1 ROUGE-4 Average_R: 0.00298 (95%-conf.int. 0.00250 - 0.00349)\r\n",
      "1 ROUGE-4 Average_P: 0.00274 (95%-conf.int. 0.00228 - 0.00324)\r\n",
      "1 ROUGE-4 Average_F: 0.00281 (95%-conf.int. 0.00235 - 0.00332)\r\n",
      "---------------------------------------------\r\n",
      "1 ROUGE-L Average_R: 0.13165 (95%-conf.int. 0.12910 - 0.13420)\r\n",
      "1 ROUGE-L Average_P: 0.10230 (95%-conf.int. 0.10019 - 0.10445)\r\n",
      "1 ROUGE-L Average_F: 0.10908 (95%-conf.int. 0.10703 - 0.11120)\r\n",
      "---------------------------------------------\r\n",
      "1 ROUGE-W-1.2 Average_R: 0.11311 (95%-conf.int. 0.11086 - 0.11544)\r\n",
      "1 ROUGE-W-1.2 Average_P: 0.10197 (95%-conf.int. 0.09987 - 0.10414)\r\n",
      "1 ROUGE-W-1.2 Average_F: 0.10039 (95%-conf.int. 0.09846 - 0.10238)\r\n",
      "---------------------------------------------\r\n",
      "1 ROUGE-S* Average_R: 0.03752 (95%-conf.int. 0.03580 - 0.03915)\r\n",
      "1 ROUGE-S* Average_P: 0.02655 (95%-conf.int. 0.02524 - 0.02796)\r\n",
      "1 ROUGE-S* Average_F: 0.02719 (95%-conf.int. 0.02584 - 0.02853)\r\n",
      "---------------------------------------------\r\n",
      "1 ROUGE-SU* Average_R: 0.06930 (95%-conf.int. 0.06730 - 0.07133)\r\n",
      "1 ROUGE-SU* Average_P: 0.04817 (95%-conf.int. 0.04662 - 0.04980)\r\n",
      "1 ROUGE-SU* Average_F: 0.04920 (95%-conf.int. 0.04768 - 0.05076)\r\n",
      "\n"
     ]
    }
   ],
   "source": [
    "output = r.convert_and_evaluate()\n",
    "print(output)"
   ]
  },
  {
   "cell_type": "code",
   "execution_count": 196,
   "metadata": {},
   "outputs": [],
   "source": [
    "dict_output = r.output_to_dict(output)\n"
   ]
  }
 ],
 "metadata": {
  "accelerator": "GPU",
  "colab": {
   "collapsed_sections": [],
   "name": "Копия text_summarizer-with_bpe-dropout.ipynb",
   "provenance": [],
   "toc_visible": true
  },
  "kernelspec": {
   "display_name": "Python 3",
   "language": "python",
   "name": "python3"
  },
  "language_info": {
   "codemirror_mode": {
    "name": "ipython",
    "version": 3
   },
   "file_extension": ".py",
   "mimetype": "text/x-python",
   "name": "python",
   "nbconvert_exporter": "python",
   "pygments_lexer": "ipython3",
   "version": "3.7.7"
  }
 },
 "nbformat": 4,
 "nbformat_minor": 1
}
