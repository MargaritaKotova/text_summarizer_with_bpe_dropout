{
 "cells": [
  {
   "cell_type": "code",
   "execution_count": 1,
   "metadata": {
    "colab": {
     "base_uri": "https://localhost:8080/"
    },
    "id": "k200sBXmWaUB",
    "outputId": "e90c972e-0df1-42a5-e10c-d4d21f24b2b1"
   },
   "outputs": [
    {
     "name": "stdout",
     "output_type": "stream",
     "text": [
      "Mounted at /content/drive/\n"
     ]
    }
   ],
   "source": [
    "# from google.colab import drive\n",
    "# drive.mount('/content/drive/')"
   ]
  },
  {
   "cell_type": "code",
   "execution_count": 2,
   "metadata": {
    "colab": {
     "base_uri": "https://localhost:8080/"
    },
    "id": "4fgjYheOWcXv",
    "outputId": "48c3006d-3568-4c2a-e4c8-00b425f26b80"
   },
   "outputs": [
    {
     "name": "stdout",
     "output_type": "stream",
     "text": [
      "/bin/bash: google-drive-ocamlfuse: command not found\n"
     ]
    }
   ],
   "source": [
    "# !mkdir -p drive\n",
    "# !google-drive-ocamlfuse drive"
   ]
  },
  {
   "cell_type": "code",
   "execution_count": 3,
   "metadata": {
    "id": "mFEhO9clWg7N"
   },
   "outputs": [],
   "source": [
    "#!cp \"/content/drive/My Drive/Colab Notebooks/attention_keras/src/layers/attention.py\" ."
   ]
  },
  {
   "cell_type": "code",
   "execution_count": 4,
   "metadata": {
    "id": "JNiDGgv1Vds1"
   },
   "outputs": [],
   "source": [
    "#import attention"
   ]
  },
  {
   "cell_type": "markdown",
   "metadata": {
    "id": "oAUmg9QpUUZ9"
   },
   "source": [
    "AttentionLayer was taken from here https://github.com/thushv89/attention_keras"
   ]
  },
  {
   "cell_type": "code",
   "execution_count": 5,
   "metadata": {
    "id": "kRbQbqsU59R7"
   },
   "outputs": [],
   "source": [
    "from attention import AttentionLayer"
   ]
  },
  {
   "cell_type": "code",
   "execution_count": 6,
   "metadata": {
    "_cell_guid": "b1076dfc-b9ad-4769-8c92-a6c4dae69d19",
    "_uuid": "8f2839f25d086af736a60e9eeb907d3b93b6e0e5",
    "id": "_Jpu8qLEFxcY"
   },
   "outputs": [],
   "source": [
    "import numpy as np\n",
    "import pandas as pd \n",
    "import re\n",
    "from bs4 import BeautifulSoup\n",
    "from keras.preprocessing.text import Tokenizer \n",
    "from keras.preprocessing.sequence import pad_sequences\n",
    "from nltk.corpus import stopwords\n",
    "from tensorflow.keras.layers import Input, LSTM, Embedding, Dense, Concatenate, TimeDistributed, Bidirectional\n",
    "from tensorflow.keras.models import Model\n",
    "from tensorflow.keras.callbacks import EarlyStopping\n",
    "import warnings\n",
    "pd.set_option(\"display.max_colwidth\", 200)\n",
    "warnings.filterwarnings(\"ignore\")\n",
    "from os import listdir"
   ]
  },
  {
   "cell_type": "code",
   "execution_count": 7,
   "metadata": {
    "colab": {
     "base_uri": "https://localhost:8080/",
     "height": 35
    },
    "id": "E2zwYkd48mwk",
    "outputId": "37d675bd-f7ae-4734-dd9e-c548674e87c0"
   },
   "outputs": [
    {
     "data": {
      "application/vnd.google.colaboratory.intrinsic+json": {
       "type": "string"
      },
      "text/plain": [
       "'2.3.0'"
      ]
     },
     "execution_count": 7,
     "metadata": {
      "tags": []
     },
     "output_type": "execute_result"
    }
   ],
   "source": [
    "import tensorflow as tf\n",
    "tf.__version__"
   ]
  },
  {
   "cell_type": "markdown",
   "metadata": {
    "id": "UVakjZ3oICgx"
   },
   "source": [
    "#Read the dataset\n",
    "\n",
    "CNN daily mail dataset consists of long news articles(an average of ~800 words). It consists of both articles and summaries of those articles."
   ]
  },
  {
   "cell_type": "code",
   "execution_count": 8,
   "metadata": {
    "id": "VevOwSP3_alh"
   },
   "outputs": [],
   "source": [
    "import zipfile\n",
    "import os"
   ]
  },
  {
   "cell_type": "code",
   "execution_count": null,
   "metadata": {
    "id": "AfXrIG65JMW_"
   },
   "outputs": [],
   "source": [
    "zpfile = 'cnn_stories.zip'\n",
    "z = zipfile.ZipFile(zpfile, 'r')\n",
    "z.extractall()"
   ]
  },
  {
   "cell_type": "code",
   "execution_count": null,
   "metadata": {
    "colab": {
     "base_uri": "https://localhost:8080/",
     "height": 33
    },
    "id": "iFsMuSP9UUae",
    "outputId": "5a4cd9f8-cdd6-4671-8f17-d505287a7d17"
   },
   "outputs": [
    {
     "name": "stdout",
     "output_type": "stream",
     "text": [
      "Loaded Stories 92579\n"
     ]
    }
   ],
   "source": [
    "# load doc into memory\n",
    "def load_doc(filename):\n",
    "\t# open the file as read only\n",
    "\n",
    "\tfile = open(filename, encoding='utf-8')\n",
    "\t# read all text\n",
    "\ttext = file.read()\n",
    "\t# close the file\n",
    "\tfile.close()\n",
    "\treturn text\n",
    " \n",
    "# split a document into news story and highlights\n",
    "def split_story(doc):\n",
    "\t# find first highlight\n",
    "\tindex = doc.find('@highlight')\n",
    "\t# split into story and highlights\n",
    "\tstory, highlights = doc[:index], doc[index:].split('@highlight')\n",
    "\t# strip extra white space around each highlight\n",
    "\thighlights = [h.strip() for h in highlights if len(h) > 0]\n",
    "\treturn story, highlights\n",
    " \n",
    "# load all stories in a directory\n",
    "def load_stories(directory):\n",
    "\tstories = list()\n",
    "\tfor name in listdir(directory):\n",
    "\t\tfilename = directory + '/' + name\n",
    "\t\t# load document\n",
    "\t\tdoc = load_doc(filename)\n",
    "\t\t# split into story and highlights\n",
    "\t\tstory, highlights = split_story(doc)\n",
    "\t\t# store\n",
    "\t\tstories.append({'story':story, 'highlights':highlights})\n",
    "\treturn stories\n",
    " \n",
    "# load stories\n",
    "directory = 'cnn_stories/cnn/stories/'\n",
    "stories = load_stories(directory)\n",
    "print('Loaded Stories %d' % len(stories))"
   ]
  },
  {
   "cell_type": "code",
   "execution_count": null,
   "metadata": {
    "id": "h4n4H9tj7o-o"
   },
   "outputs": [],
   "source": [
    "zpfile_1 = 'dailymail_stories.zip'\n",
    "z = zipfile.ZipFile(zpfile_1, 'r')\n",
    "z.extractall()"
   ]
  },
  {
   "cell_type": "code",
   "execution_count": null,
   "metadata": {
    "colab": {
     "base_uri": "https://localhost:8080/",
     "height": 33
    },
    "id": "H1lkur7w7kXj",
    "outputId": "f997efb0-f065-487b-d5e5-974671219068"
   },
   "outputs": [
    {
     "name": "stdout",
     "output_type": "stream",
     "text": [
      "Loaded Stories 219506\n"
     ]
    }
   ],
   "source": [
    "directory = 'dailymail_stories/dailymail/stories/'\n",
    "stories_dailymail = load_stories(directory)\n",
    "print('Loaded Stories %d' % len(stories_dailymail))"
   ]
  },
  {
   "cell_type": "code",
   "execution_count": null,
   "metadata": {
    "id": "p4J_ZQc6UUal"
   },
   "outputs": [],
   "source": [
    "import string\n",
    "\n",
    "\n",
    "# clean a list of lines\n",
    "def clean_lines(lines):\n",
    "\tcleaned = list()\n",
    "\t# prepare a translation table to remove punctuation\n",
    "\ttable = str.maketrans('', '', string.punctuation)\n",
    "\tfor line in lines:\n",
    "\t\t# strip source cnn office if it exists\n",
    "\t\tindex = line.find('(CNN) -- ')\n",
    "\t\tif index > -1:\n",
    "\t\t\tline = line[index+len('(CNN)'):]\n",
    "\t\t# tokenize on white space\n",
    "\t\tline = line.split()\n",
    "\t\t# convert to lower case\n",
    "\t\tline = [word.lower() for word in line]\n",
    "\t\t# remove punctuation from each token\n",
    "\t\tline = [w.translate(table) for w in line]\n",
    "\t\t# remove tokens with numbers in them\n",
    "\t\tline = [word for word in line if word.isalpha()]\n",
    "\t\t# store as string\n",
    "\t\tcleaned.append(' '.join(line))\n",
    "\t# remove empty strings\n",
    "\tcleaned = [c for c in cleaned if len(c) > 0]\n",
    "\treturn cleaned\n",
    "\n",
    "# clean stories\n",
    "for example in stories:\n",
    "\texample['story'] = clean_lines(example['story'].split('\\n'))\n",
    "\texample['highlights'] = clean_lines(example['highlights'])"
   ]
  },
  {
   "cell_type": "code",
   "execution_count": null,
   "metadata": {
    "id": "Gfi7Th6J02v8"
   },
   "outputs": [],
   "source": [
    "data_cnn= pd.DataFrame(stories)"
   ]
  },
  {
   "cell_type": "code",
   "execution_count": null,
   "metadata": {
    "id": "poQvLW6ZDVs3"
   },
   "outputs": [],
   "source": [
    "# clean stories\n",
    "for example in stories_dailymail:\n",
    "\texample['story'] = clean_lines(example['story'].split('\\n'))\n",
    "\texample['highlights'] = clean_lines(example['highlights'])"
   ]
  },
  {
   "cell_type": "code",
   "execution_count": null,
   "metadata": {
    "id": "__z3oDlZDm9s"
   },
   "outputs": [],
   "source": [
    "data_dailymail= pd.DataFrame(stories_dailymail)"
   ]
  },
  {
   "cell_type": "code",
   "execution_count": null,
   "metadata": {
    "colab": {
     "base_uri": "https://localhost:8080/",
     "height": 274
    },
    "id": "ZKFUdb4oEJ46",
    "outputId": "5b58a941-9f88-47df-cd2c-49062699768e"
   },
   "outputs": [
    {
     "data": {
      "text/html": [
       "<div>\n",
       "<style scoped>\n",
       "    .dataframe tbody tr th:only-of-type {\n",
       "        vertical-align: middle;\n",
       "    }\n",
       "\n",
       "    .dataframe tbody tr th {\n",
       "        vertical-align: top;\n",
       "    }\n",
       "\n",
       "    .dataframe thead th {\n",
       "        text-align: right;\n",
       "    }\n",
       "</style>\n",
       "<table border=\"1\" class=\"dataframe\">\n",
       "  <thead>\n",
       "    <tr style=\"text-align: right;\">\n",
       "      <th></th>\n",
       "      <th>story</th>\n",
       "      <th>highlights</th>\n",
       "    </tr>\n",
       "  </thead>\n",
       "  <tbody>\n",
       "    <tr>\n",
       "      <th>0</th>\n",
       "      <td>[a former gymnast who represented her country numerous times and won medals for her skills has now been exposed as a highclass prostitute who earns a night, florica leonida from the romanian capit...</td>\n",
       "      <td>[florica leonida from bucharest is a former silver world medallist, but she said becoming a prostitute was the only way to make ends meet, she works under a different name currently residing in a ...</td>\n",
       "    </tr>\n",
       "    <tr>\n",
       "      <th>1</th>\n",
       "      <td>[by, daily mail reporter, published, est april, updated, est september, a champion swimmer spied on a woman using a pair of mirrored goggles to peek under a changing room cubicle a court heard fre...</td>\n",
       "      <td>[married james mackay used goggles to watch same woman in cubicle three times, he set the british freestyle record in, update since publication of this article mr mackay successfully appealed agai...</td>\n",
       "    </tr>\n",
       "    <tr>\n",
       "      <th>2</th>\n",
       "      <td>[liverpool cruised to a win over swansea to ease the pressure on brendan rodgers at anfield, alberto moreno fired the hosts ahead before a brace from adam lallana either side of gylfi sigurdssons ...</td>\n",
       "      <td>[former southampton midfielder adam lallana scored a brace in win, jonjo shelvey who used to play for liverpool endured a miserable game, the win pushes liverpool level on points but above swansea...</td>\n",
       "    </tr>\n",
       "    <tr>\n",
       "      <th>3</th>\n",
       "      <td>[by, daily mail reporter, published, est december, updated, est december, anderson cooper shocked viewers on thursday night by discussing his mother and oral sex in one outrageous anecdote, the cn...</td>\n",
       "      <td>[the cnn anchor was hosting his review of the year show when he made the shocking remark]</td>\n",
       "    </tr>\n",
       "    <tr>\n",
       "      <th>4</th>\n",
       "      <td>[wasps fans have been told to accept the reality of professional sport following the watershed purchase of ricoh arena in a move which paves the way for nflstyle franchises in rugby union, the two...</td>\n",
       "      <td>[wasps came close to going bankrupt two years ago and confirmed on wednesday that they have agreed a deal to move to the ricoh arena, coventry city council have sold the club a per cent share in t...</td>\n",
       "    </tr>\n",
       "  </tbody>\n",
       "</table>\n",
       "</div>"
      ],
      "text/plain": [
       "                                                                                                                                                                                                     story                                                                                                                                                                                               highlights\n",
       "0  [a former gymnast who represented her country numerous times and won medals for her skills has now been exposed as a highclass prostitute who earns a night, florica leonida from the romanian capit...  [florica leonida from bucharest is a former silver world medallist, but she said becoming a prostitute was the only way to make ends meet, she works under a different name currently residing in a ...\n",
       "1  [by, daily mail reporter, published, est april, updated, est september, a champion swimmer spied on a woman using a pair of mirrored goggles to peek under a changing room cubicle a court heard fre...  [married james mackay used goggles to watch same woman in cubicle three times, he set the british freestyle record in, update since publication of this article mr mackay successfully appealed agai...\n",
       "2  [liverpool cruised to a win over swansea to ease the pressure on brendan rodgers at anfield, alberto moreno fired the hosts ahead before a brace from adam lallana either side of gylfi sigurdssons ...  [former southampton midfielder adam lallana scored a brace in win, jonjo shelvey who used to play for liverpool endured a miserable game, the win pushes liverpool level on points but above swansea...\n",
       "3  [by, daily mail reporter, published, est december, updated, est december, anderson cooper shocked viewers on thursday night by discussing his mother and oral sex in one outrageous anecdote, the cn...                                                                                                                [the cnn anchor was hosting his review of the year show when he made the shocking remark]\n",
       "4  [wasps fans have been told to accept the reality of professional sport following the watershed purchase of ricoh arena in a move which paves the way for nflstyle franchises in rugby union, the two...  [wasps came close to going bankrupt two years ago and confirmed on wednesday that they have agreed a deal to move to the ricoh arena, coventry city council have sold the club a per cent share in t..."
      ]
     },
     "execution_count": 18,
     "metadata": {
      "tags": []
     },
     "output_type": "execute_result"
    }
   ],
   "source": [
    "data_dailymail.head()"
   ]
  },
  {
   "cell_type": "code",
   "execution_count": null,
   "metadata": {
    "id": "urHhig88G6AW"
   },
   "outputs": [],
   "source": [
    "data = data_cnn.append(data_dailymail, ignore_index=True)"
   ]
  },
  {
   "cell_type": "code",
   "execution_count": null,
   "metadata": {
    "colab": {
     "base_uri": "https://localhost:8080/",
     "height": 274
    },
    "id": "cE0c_Zby8mwr",
    "outputId": "c22c2cc1-1a35-434e-9ac0-f02704ae13f4"
   },
   "outputs": [
    {
     "data": {
      "text/html": [
       "<div>\n",
       "<style scoped>\n",
       "    .dataframe tbody tr th:only-of-type {\n",
       "        vertical-align: middle;\n",
       "    }\n",
       "\n",
       "    .dataframe tbody tr th {\n",
       "        vertical-align: top;\n",
       "    }\n",
       "\n",
       "    .dataframe thead th {\n",
       "        text-align: right;\n",
       "    }\n",
       "</style>\n",
       "<table border=\"1\" class=\"dataframe\">\n",
       "  <thead>\n",
       "    <tr style=\"text-align: right;\">\n",
       "      <th></th>\n",
       "      <th>story</th>\n",
       "      <th>highlights</th>\n",
       "    </tr>\n",
       "  </thead>\n",
       "  <tbody>\n",
       "    <tr>\n",
       "      <th>312080</th>\n",
       "      <td>[by, louise eccles and becky barrow, last updated at am on january, hundreds of railway staff will be paid simply for agreeing to work without disruption during the olympics, it also emerged yeste...</td>\n",
       "      <td>[workers on driverless dlr network offered per cent overtime increase during the games, union describes pay deal as truly groundbreaking, critics accuse rail bosses of bribing staff not to strike]</td>\n",
       "    </tr>\n",
       "    <tr>\n",
       "      <th>312081</th>\n",
       "      <td>[by, ellie zolfagharifard, published, est october, updated, est october, a powerful solar flare directed at earth has put on majestic display of the northern lights across parts of canada the us a...</td>\n",
       "      <td>[a solar explosion crashed into earths magnetic field on tuesday allowing photographers to capture these images, solar flares create auroras when radiation from the sun reaches earth and mixes wit...</td>\n",
       "    </tr>\n",
       "    <tr>\n",
       "      <th>312082</th>\n",
       "      <td>[by, louise saunders, published, est august, updated, est august, when the only way is essexs tom kilbey started dating lydia bright it was clear he was never going to be best pals with her exboyf...</td>\n",
       "      <td>[lucy mecklenburgh vs sam faiers, gemma collins vs charlie king and bobby cole norris, joey essex vs jamie reed]</td>\n",
       "    </tr>\n",
       "    <tr>\n",
       "      <th>312083</th>\n",
       "      <td>[by, steve doughty social affairs correspondent, fortnightly rubbish collections are a threat to public health government guidance warned yesterday, it said that no longer picking up bins from hom...</td>\n",
       "      <td>[guidance was issued yesterday by department led by eric pickles, he has pushed councils to make weekly bin collections with grant, surprise announcement puts mr pickles on collision course with d...</td>\n",
       "    </tr>\n",
       "    <tr>\n",
       "      <th>312084</th>\n",
       "      <td>[the remains of two dinosaurs that were perfectly preserved in a bitter fight to the death are to be sold for a record million, the fossil of the tyrannosaurus and a triceratops locked in mortal c...</td>\n",
       "      <td>[tyrannosaurus and triceretops were found in, perfectly preserved fossils show them embraced in a fight to the death, chance discovery is thought to be among the most important of all time, expert...</td>\n",
       "    </tr>\n",
       "  </tbody>\n",
       "</table>\n",
       "</div>"
      ],
      "text/plain": [
       "                                                                                                                                                                                                          story                                                                                                                                                                                               highlights\n",
       "312080  [by, louise eccles and becky barrow, last updated at am on january, hundreds of railway staff will be paid simply for agreeing to work without disruption during the olympics, it also emerged yeste...     [workers on driverless dlr network offered per cent overtime increase during the games, union describes pay deal as truly groundbreaking, critics accuse rail bosses of bribing staff not to strike]\n",
       "312081  [by, ellie zolfagharifard, published, est october, updated, est october, a powerful solar flare directed at earth has put on majestic display of the northern lights across parts of canada the us a...  [a solar explosion crashed into earths magnetic field on tuesday allowing photographers to capture these images, solar flares create auroras when radiation from the sun reaches earth and mixes wit...\n",
       "312082  [by, louise saunders, published, est august, updated, est august, when the only way is essexs tom kilbey started dating lydia bright it was clear he was never going to be best pals with her exboyf...                                                                                         [lucy mecklenburgh vs sam faiers, gemma collins vs charlie king and bobby cole norris, joey essex vs jamie reed]\n",
       "312083  [by, steve doughty social affairs correspondent, fortnightly rubbish collections are a threat to public health government guidance warned yesterday, it said that no longer picking up bins from hom...  [guidance was issued yesterday by department led by eric pickles, he has pushed councils to make weekly bin collections with grant, surprise announcement puts mr pickles on collision course with d...\n",
       "312084  [the remains of two dinosaurs that were perfectly preserved in a bitter fight to the death are to be sold for a record million, the fossil of the tyrannosaurus and a triceratops locked in mortal c...  [tyrannosaurus and triceretops were found in, perfectly preserved fossils show them embraced in a fight to the death, chance discovery is thought to be among the most important of all time, expert..."
      ]
     },
     "execution_count": 20,
     "metadata": {
      "tags": []
     },
     "output_type": "execute_result"
    }
   ],
   "source": [
    "data.tail()"
   ]
  },
  {
   "cell_type": "code",
   "execution_count": null,
   "metadata": {
    "id": "sAQigq6PUUa2"
   },
   "outputs": [],
   "source": [
    "data.rename(columns={\"highlights\": \"Summary\", \"story\": \"Text\"}, inplace=True)"
   ]
  },
  {
   "cell_type": "code",
   "execution_count": null,
   "metadata": {
    "id": "nS4z4q_9UUa7"
   },
   "outputs": [],
   "source": [
    "data['Text'] = data['Text'].apply(lambda x: ' '.join(x) )"
   ]
  },
  {
   "cell_type": "code",
   "execution_count": null,
   "metadata": {
    "id": "NNWwloWfzxSR"
   },
   "outputs": [],
   "source": [
    "for i in range(len(data['Summary'])):\n",
    "  data['Summary'][i]=data['Summary'][i][0]"
   ]
  },
  {
   "cell_type": "code",
   "execution_count": null,
   "metadata": {
    "colab": {
     "base_uri": "https://localhost:8080/",
     "height": 190
    },
    "id": "esUFFkjPUUbD",
    "outputId": "96a81015-b884-49d2-fc90-ca2b5c449a5a"
   },
   "outputs": [
    {
     "data": {
      "text/html": [
       "<div>\n",
       "<style scoped>\n",
       "    .dataframe tbody tr th:only-of-type {\n",
       "        vertical-align: middle;\n",
       "    }\n",
       "\n",
       "    .dataframe tbody tr th {\n",
       "        vertical-align: top;\n",
       "    }\n",
       "\n",
       "    .dataframe thead th {\n",
       "        text-align: right;\n",
       "    }\n",
       "</style>\n",
       "<table border=\"1\" class=\"dataframe\">\n",
       "  <thead>\n",
       "    <tr style=\"text-align: right;\">\n",
       "      <th></th>\n",
       "      <th>Text</th>\n",
       "      <th>Summary</th>\n",
       "    </tr>\n",
       "  </thead>\n",
       "  <tbody>\n",
       "    <tr>\n",
       "      <th>0</th>\n",
       "      <td>for architects perfection is necessary said japanese architect kengo kuma it is my mission to use the kindness and delicateness that old architecture had i believe that this mission is not easy to...</td>\n",
       "      <td>japanese architect has popularized sensitive japanese traditions in buildings</td>\n",
       "    </tr>\n",
       "    <tr>\n",
       "      <th>1</th>\n",
       "      <td>the trial of former egyptian president mohamed morsy on charges of inciting the murders of at least three protesters in has been postponed until february because he did not appear in court wednesd...</td>\n",
       "      <td>the second session in the trial of mohamed morsy is postponed until february</td>\n",
       "    </tr>\n",
       "    <tr>\n",
       "      <th>2</th>\n",
       "      <td>cnn toyota motor corp has recently been in the hot seat after issuing massive recalls because of problems related to the accelerator pedal in several of its auto models to date million vehicles wo...</td>\n",
       "      <td>million vehicles worldwide have been recalled by toyota</td>\n",
       "    </tr>\n",
       "    <tr>\n",
       "      <th>3</th>\n",
       "      <td>mexicos international image may be taking hits because of the violence produced by drug cartels but it hasnt hurt its tourism industry officials say international tourism to mexico has increased i...</td>\n",
       "      <td>mexico remains the no destination for americans traveling abroad</td>\n",
       "    </tr>\n",
       "    <tr>\n",
       "      <th>4</th>\n",
       "      <td>thai scrapyard workers accidentally detonated a suspected world war iiera bomb wednesday killing seven and injuring after attempting to cut into it with a blowtorch the device was discovered at a ...</td>\n",
       "      <td>suspected wwiiera aerial bomb explodes in bangkok neighborhood killing seven</td>\n",
       "    </tr>\n",
       "  </tbody>\n",
       "</table>\n",
       "</div>"
      ],
      "text/plain": [
       "                                                                                                                                                                                                      Text                                                                        Summary\n",
       "0  for architects perfection is necessary said japanese architect kengo kuma it is my mission to use the kindness and delicateness that old architecture had i believe that this mission is not easy to...  japanese architect has popularized sensitive japanese traditions in buildings\n",
       "1  the trial of former egyptian president mohamed morsy on charges of inciting the murders of at least three protesters in has been postponed until february because he did not appear in court wednesd...   the second session in the trial of mohamed morsy is postponed until february\n",
       "2  cnn toyota motor corp has recently been in the hot seat after issuing massive recalls because of problems related to the accelerator pedal in several of its auto models to date million vehicles wo...                        million vehicles worldwide have been recalled by toyota\n",
       "3  mexicos international image may be taking hits because of the violence produced by drug cartels but it hasnt hurt its tourism industry officials say international tourism to mexico has increased i...               mexico remains the no destination for americans traveling abroad\n",
       "4  thai scrapyard workers accidentally detonated a suspected world war iiera bomb wednesday killing seven and injuring after attempting to cut into it with a blowtorch the device was discovered at a ...   suspected wwiiera aerial bomb explodes in bangkok neighborhood killing seven"
      ]
     },
     "execution_count": 24,
     "metadata": {
      "tags": []
     },
     "output_type": "execute_result"
    }
   ],
   "source": [
    "data.head()"
   ]
  },
  {
   "cell_type": "markdown",
   "metadata": {
    "id": "kGNQKvCaISIn"
   },
   "source": [
    "### Drop Duplicates and NA values"
   ]
  },
  {
   "cell_type": "code",
   "execution_count": 10,
   "metadata": {
    "id": "Cjul88oOFxcr"
   },
   "outputs": [],
   "source": [
    "data.drop_duplicates(subset=['Text'],inplace=True)#dropping duplicates\n",
    "data.dropna(axis=0,inplace=True)#dropping na"
   ]
  },
  {
   "cell_type": "markdown",
   "metadata": {
    "id": "qi0xD6BkIWAm"
   },
   "source": [
    "### Information about dataset\n"
   ]
  },
  {
   "cell_type": "code",
   "execution_count": null,
   "metadata": {
    "colab": {
     "base_uri": "https://localhost:8080/",
     "height": 168
    },
    "id": "__fy-JxTFxc9",
    "outputId": "f37c3e65-b82e-479a-bb41-201fab9e76e9"
   },
   "outputs": [
    {
     "name": "stdout",
     "output_type": "stream",
     "text": [
      "<class 'pandas.core.frame.DataFrame'>\n",
      "Int64Index: 308827 entries, 0 to 312084\n",
      "Data columns (total 2 columns):\n",
      " #   Column   Non-Null Count   Dtype \n",
      "---  ------   --------------   ----- \n",
      " 0   Text     308827 non-null  object\n",
      " 1   Summary  308827 non-null  object\n",
      "dtypes: object(2)\n",
      "memory usage: 7.1+ MB\n"
     ]
    }
   ],
   "source": [
    "data.info()"
   ]
  },
  {
   "cell_type": "code",
   "execution_count": null,
   "metadata": {
    "id": "QhdnaqYQMTNP"
   },
   "outputs": [],
   "source": [
    "data.to_csv(\"cnn_dailymail_before_processing_2510.csv\")"
   ]
  },
  {
   "cell_type": "code",
   "execution_count": 9,
   "metadata": {
    "id": "eVMoIHFp_QFv"
   },
   "outputs": [],
   "source": [
    "data = pd.read_csv(\"cnn_dailymail_before_processing_2510.csv\")"
   ]
  },
  {
   "cell_type": "code",
   "execution_count": null,
   "metadata": {
    "colab": {
     "base_uri": "https://localhost:8080/",
     "height": 16
    },
    "id": "jOe1JHfHPh1B",
    "outputId": "ee689ed8-0df8-4581-9c4e-8850547cbfda"
   },
   "outputs": [
    {
     "data": {
      "application/javascript": [
       "\n",
       "    async function download(id, filename, size) {\n",
       "      if (!google.colab.kernel.accessAllowed) {\n",
       "        return;\n",
       "      }\n",
       "      const div = document.createElement('div');\n",
       "      const label = document.createElement('label');\n",
       "      label.textContent = `Downloading \"${filename}\": `;\n",
       "      div.appendChild(label);\n",
       "      const progress = document.createElement('progress');\n",
       "      progress.max = size;\n",
       "      div.appendChild(progress);\n",
       "      document.body.appendChild(div);\n",
       "\n",
       "      const buffers = [];\n",
       "      let downloaded = 0;\n",
       "\n",
       "      const channel = await google.colab.kernel.comms.open(id);\n",
       "      // Send a message to notify the kernel that we're ready.\n",
       "      channel.send({})\n",
       "\n",
       "      for await (const message of channel.messages) {\n",
       "        // Send a message to notify the kernel that we're ready.\n",
       "        channel.send({})\n",
       "        if (message.buffers) {\n",
       "          for (const buffer of message.buffers) {\n",
       "            buffers.push(buffer);\n",
       "            downloaded += buffer.byteLength;\n",
       "            progress.value = downloaded;\n",
       "          }\n",
       "        }\n",
       "      }\n",
       "      const blob = new Blob(buffers, {type: 'application/binary'});\n",
       "      const a = document.createElement('a');\n",
       "      a.href = window.URL.createObjectURL(blob);\n",
       "      a.download = filename;\n",
       "      div.appendChild(a);\n",
       "      a.click();\n",
       "      div.remove();\n",
       "    }\n",
       "  "
      ],
      "text/plain": [
       "<IPython.core.display.Javascript object>"
      ]
     },
     "metadata": {
      "tags": []
     },
     "output_type": "display_data"
    },
    {
     "data": {
      "application/javascript": [
       "download(\"download_189fbafb-95ff-415b-8fa4-9a471c79fb37\", \"cnn_dailymail_before_processing_2510.csv\", 1198520707)"
      ],
      "text/plain": [
       "<IPython.core.display.Javascript object>"
      ]
     },
     "metadata": {
      "tags": []
     },
     "output_type": "display_data"
    }
   ],
   "source": [
    "from google.colab import files\n",
    "files.download(\"cnn_dailymail_before_processing_2510.csv\")"
   ]
  },
  {
   "cell_type": "markdown",
   "metadata": {
    "id": "r0xLYACiFxdJ"
   },
   "source": [
    "### Preprocessing"
   ]
  },
  {
   "cell_type": "markdown",
   "metadata": {
    "id": "2JFRXFHmI7Mj"
   },
   "source": [
    "We will perform the below preprocessing tasks for our data:\n",
    "\n",
    "1.Convert everything to lowercase\n",
    "\n",
    "2.Remove HTML tags\n",
    "\n",
    "3.Eliminate punctuations and special characters\n",
    "\n",
    "\n",
    "Let’s define the function:"
   ]
  },
  {
   "cell_type": "code",
   "execution_count": 11,
   "metadata": {
    "colab": {
     "base_uri": "https://localhost:8080/"
    },
    "id": "JNcu4_DQq6bq",
    "outputId": "f40d7e15-2f36-4858-d05b-6f7a03e6ea36"
   },
   "outputs": [
    {
     "name": "stdout",
     "output_type": "stream",
     "text": [
      "[nltk_data] Downloading package stopwords to /root/nltk_data...\n",
      "[nltk_data]   Unzipping corpora/stopwords.zip.\n"
     ]
    },
    {
     "data": {
      "text/plain": [
       "True"
      ]
     },
     "execution_count": 11,
     "metadata": {
      "tags": []
     },
     "output_type": "execute_result"
    }
   ],
   "source": [
    "import nltk\n",
    "nltk.download('stopwords')"
   ]
  },
  {
   "cell_type": "code",
   "execution_count": 12,
   "metadata": {
    "id": "AN8HHUtZEI4d"
   },
   "outputs": [],
   "source": [
    "import string"
   ]
  },
  {
   "cell_type": "code",
   "execution_count": 13,
   "metadata": {
    "id": "XZr-u3OEFxdT"
   },
   "outputs": [],
   "source": [
    "stop_words = set(stopwords.words('english')) "
   ]
  },
  {
   "cell_type": "code",
   "execution_count": 14,
   "metadata": {
    "id": "JSs72ewB8mw9"
   },
   "outputs": [],
   "source": [
    "def text_cleaner(text,num):\n",
    "    \n",
    "    newString = text.lower()\n",
    "    newString = BeautifulSoup(newString, \"lxml\").text\n",
    "    newString = re.sub(r'\\([^)]*\\)', '', newString)\n",
    "    newString = re.sub('\"','', newString)\n",
    "    for c in string.punctuation:\n",
    "      newString = newString.replace(c,\"\")\n",
    "       \n",
    "    newString = re.sub(r\"'s\\b\",\"\",newString)\n",
    "    \n",
    "    newString = re.sub('[m]{2,}', 'mm', newString)\n",
    "    if(num==0):\n",
    "        tokens = [w for w in newString.split() if not w in stop_words]\n",
    "    else:\n",
    "        tokens=newString.split()\n",
    "    long_words=[]\n",
    "    for i in tokens:\n",
    "        if len(i)>0:                                                 #removing short word\n",
    "            long_words.append(i)   \n",
    "    return (\" \".join(long_words)).strip()"
   ]
  },
  {
   "cell_type": "code",
   "execution_count": 15,
   "metadata": {
    "id": "A2QAeCHWFxdY"
   },
   "outputs": [],
   "source": [
    "cleaned_text = []\n",
    "k=0\n",
    "for t in data['Text']:\n",
    "    cleaned_text.append(text_cleaner(t,1)) "
   ]
  },
  {
   "cell_type": "markdown",
   "metadata": {
    "id": "snRZY8wjLao2"
   },
   "source": [
    "Let us look at the first five preprocessed reviews"
   ]
  },
  {
   "cell_type": "code",
   "execution_count": 16,
   "metadata": {
    "id": "GsRXocxoFxd-"
   },
   "outputs": [],
   "source": [
    "cleaned_summary = []\n",
    "for t in data['Summary']:\n",
    "    cleaned_summary.append(text_cleaner(t,1))"
   ]
  },
  {
   "cell_type": "markdown",
   "metadata": {
    "id": "oZeD0gs6Lnb-"
   },
   "source": [
    "Let us look at the first 10 preprocessed summaries"
   ]
  },
  {
   "cell_type": "code",
   "execution_count": 34,
   "metadata": {
    "colab": {
     "base_uri": "https://localhost:8080/"
    },
    "id": "jQJdZcAzFxee",
    "outputId": "46fd9cf9-afc3-441c-8b6d-0316593ed212"
   },
   "outputs": [
    {
     "data": {
      "text/plain": [
       "array(['japanese architect has popularized sensitive japanese traditions in buildings',\n",
       "       'the second session in the trial of mohamed morsy is postponed until february',\n",
       "       'million vehicles worldwide have been recalled by toyota',\n",
       "       'mexico remains the no destination for americans traveling abroad',\n",
       "       'suspected wwiiera aerial bomb explodes in bangkok neighborhood killing seven'],\n",
       "      dtype=object)"
      ]
     },
     "execution_count": 34,
     "metadata": {
      "tags": []
     },
     "output_type": "execute_result"
    }
   ],
   "source": [
    "cleaned_summary[:5]"
   ]
  },
  {
   "cell_type": "code",
   "execution_count": 18,
   "metadata": {
    "id": "L1zLpnqsFxey"
   },
   "outputs": [],
   "source": [
    "data['cleaned_text']=cleaned_text\n",
    "data['cleaned_summary']=cleaned_summary"
   ]
  },
  {
   "cell_type": "markdown",
   "metadata": {
    "id": "KT_D2cLiLy77"
   },
   "source": [
    "#Drop empty rows"
   ]
  },
  {
   "cell_type": "code",
   "execution_count": 19,
   "metadata": {
    "id": "sYK390unFxfA"
   },
   "outputs": [],
   "source": [
    "data.replace('', np.nan, inplace=True)\n",
    "data.dropna(axis=0,inplace=True)"
   ]
  },
  {
   "cell_type": "markdown",
   "metadata": {
    "id": "Vm8Fk2TCL7Sp"
   },
   "source": [
    "### Understanding the distribution of the sequences\n",
    "\n",
    "Here is an analysis of the length of the reviews and the summary to get an overall idea about the distribution of length of the text. This will help to fix the maximum length of the sequence:"
   ]
  },
  {
   "cell_type": "code",
   "execution_count": 20,
   "metadata": {
    "id": "MdF76AHHFxgw"
   },
   "outputs": [],
   "source": [
    "import matplotlib.pyplot as plt\n",
    "\n",
    "text_word_count = []\n",
    "summary_word_count = []\n",
    "\n",
    "# populate the lists with sentence lengths\n",
    "for i in data['cleaned_text']:\n",
    "      text_word_count.append(len(i.split()))\n",
    "\n",
    "for i in data['cleaned_summary']:\n",
    "      summary_word_count.append(len(i.split()))\n",
    "\n",
    "length_df = pd.DataFrame({'text':text_word_count, 'summary':summary_word_count})"
   ]
  },
  {
   "cell_type": "code",
   "execution_count": 21,
   "metadata": {
    "colab": {
     "base_uri": "https://localhost:8080/",
     "height": 197
    },
    "id": "2c2IqK13UUcX",
    "outputId": "ce501091-d418-45b3-813a-861d1e44551f"
   },
   "outputs": [
    {
     "data": {
      "text/html": [
       "<div>\n",
       "<style scoped>\n",
       "    .dataframe tbody tr th:only-of-type {\n",
       "        vertical-align: middle;\n",
       "    }\n",
       "\n",
       "    .dataframe tbody tr th {\n",
       "        vertical-align: top;\n",
       "    }\n",
       "\n",
       "    .dataframe thead th {\n",
       "        text-align: right;\n",
       "    }\n",
       "</style>\n",
       "<table border=\"1\" class=\"dataframe\">\n",
       "  <thead>\n",
       "    <tr style=\"text-align: right;\">\n",
       "      <th></th>\n",
       "      <th>text</th>\n",
       "      <th>summary</th>\n",
       "    </tr>\n",
       "  </thead>\n",
       "  <tbody>\n",
       "    <tr>\n",
       "      <th>0</th>\n",
       "      <td>689</td>\n",
       "      <td>9</td>\n",
       "    </tr>\n",
       "    <tr>\n",
       "      <th>1</th>\n",
       "      <td>553</td>\n",
       "      <td>13</td>\n",
       "    </tr>\n",
       "    <tr>\n",
       "      <th>2</th>\n",
       "      <td>440</td>\n",
       "      <td>8</td>\n",
       "    </tr>\n",
       "    <tr>\n",
       "      <th>3</th>\n",
       "      <td>893</td>\n",
       "      <td>9</td>\n",
       "    </tr>\n",
       "    <tr>\n",
       "      <th>4</th>\n",
       "      <td>252</td>\n",
       "      <td>10</td>\n",
       "    </tr>\n",
       "  </tbody>\n",
       "</table>\n",
       "</div>"
      ],
      "text/plain": [
       "   text  summary\n",
       "0   689        9\n",
       "1   553       13\n",
       "2   440        8\n",
       "3   893        9\n",
       "4   252       10"
      ]
     },
     "execution_count": 21,
     "metadata": {
      "tags": []
     },
     "output_type": "execute_result"
    }
   ],
   "source": [
    "length_df.head()"
   ]
  },
  {
   "cell_type": "code",
   "execution_count": 22,
   "metadata": {
    "colab": {
     "base_uri": "https://localhost:8080/",
     "height": 280
    },
    "id": "kxHaCkUq8mxT",
    "outputId": "57e8ad0c-522a-45cb-a622-20344c567ab4"
   },
   "outputs": [
    {
     "data": {
      "image/png": "[encoded data removed]",
      "text/plain": [
       "<Figure size 432x288 with 2 Axes>"
      ]
     },
     "metadata": {
      "needs_background": "light",
      "tags": []
     },
     "output_type": "display_data"
    }
   ],
   "source": [
    "length_df.hist(bins = 30)\n",
    "plt.show()"
   ]
  },
  {
   "cell_type": "markdown",
   "metadata": {
    "id": "QwdSGIhGMEbz"
   },
   "source": [
    "We can fix the maximum length of the summary to 17 since that seems to be the majority summary length.\n",
    "\n",
    "Let us understand the proportion of the length of summaries below 17"
   ]
  },
  {
   "cell_type": "code",
   "execution_count": 23,
   "metadata": {
    "colab": {
     "base_uri": "https://localhost:8080/"
    },
    "id": "7JRjwdIOFxg3",
    "outputId": "506c11aa-b5cc-4fad-f00f-198269ac8751"
   },
   "outputs": [
    {
     "name": "stdout",
     "output_type": "stream",
     "text": [
      "0.8897923102329467\n"
     ]
    }
   ],
   "source": [
    "cnt=0\n",
    "for i in data['cleaned_summary']:\n",
    "    if(len(i.split())<=17):\n",
    "        cnt=cnt+1\n",
    "print(cnt/len(data['cleaned_summary']))"
   ]
  },
  {
   "cell_type": "code",
   "execution_count": 24,
   "metadata": {
    "colab": {
     "base_uri": "https://localhost:8080/"
    },
    "id": "ndJoKv5OUUcr",
    "outputId": "7e6251df-ad76-4fd6-fbf0-d3180fccec93"
   },
   "outputs": [
    {
     "name": "stdout",
     "output_type": "stream",
     "text": [
      "0.009066594133913594\n"
     ]
    }
   ],
   "source": [
    "cnt=0\n",
    "for i in data['cleaned_text']:\n",
    "    if(len(i.split())<=150):\n",
    "        cnt=cnt+1\n",
    "print(cnt/len(data['cleaned_text']))"
   ]
  },
  {
   "cell_type": "markdown",
   "metadata": {
    "id": "yYB4Ga9KMjEu"
   },
   "source": [
    "Let us fix the maximum length of review to 120 and length of summary to 17.\n"
   ]
  },
  {
   "cell_type": "code",
   "execution_count": 25,
   "metadata": {
    "id": "ZKD5VOWqFxhC"
   },
   "outputs": [],
   "source": [
    "max_text_len=120\n",
    "max_summary_len=17"
   ]
  },
  {
   "cell_type": "markdown",
   "metadata": {
    "id": "E6d48E-8M4VO"
   },
   "source": [
    "Let us select the reviews and summaries whose length falls below or equal to **max_text_len** and **max_summary_len**"
   ]
  },
  {
   "cell_type": "code",
   "execution_count": 26,
   "metadata": {
    "id": "YZftRJDw8mxc"
   },
   "outputs": [],
   "source": [
    "cleaned_text =np.array(data['cleaned_text'])\n",
    "cleaned_summary=np.array(data['cleaned_summary'])\n"
   ]
  },
  {
   "cell_type": "code",
   "execution_count": 27,
   "metadata": {
    "colab": {
     "base_uri": "https://localhost:8080/"
    },
    "id": "LYfNXFYz8mxj",
    "outputId": "272d92c8-fb21-40e0-db5e-00b568106190"
   },
   "outputs": [
    {
     "data": {
      "text/plain": [
       "308826"
      ]
     },
     "execution_count": 27,
     "metadata": {
      "tags": []
     },
     "output_type": "execute_result"
    }
   ],
   "source": [
    "len(cleaned_text)"
   ]
  },
  {
   "cell_type": "code",
   "execution_count": 28,
   "metadata": {
    "colab": {
     "base_uri": "https://localhost:8080/"
    },
    "id": "mWRA-oS6qcGZ",
    "outputId": "f0af6673-d47a-4f4e-8a19-a6aecfb12bf6"
   },
   "outputs": [
    {
     "data": {
      "text/plain": [
       "120"
      ]
     },
     "execution_count": 28,
     "metadata": {
      "tags": []
     },
     "output_type": "execute_result"
    }
   ],
   "source": [
    "max_text_len"
   ]
  },
  {
   "cell_type": "code",
   "execution_count": 29,
   "metadata": {
    "id": "yY0tEJP0FxhI"
   },
   "outputs": [],
   "source": [
    "short_text=[]\n",
    "short_summary=[]\n",
    "\n",
    "for i in range(len(cleaned_text)):\n",
    "    if (len(cleaned_summary[i].split())>max_summary_len):\n",
    "        short_summary.append(\" \".join(cleaned_summary[i].split()[:17]))\n",
    "    else:\n",
    "        short_summary.append(cleaned_summary[i])\n",
    "    \n",
    "    if(len(cleaned_text[i].split())>max_text_len):\n",
    "        short_text.append(\" \".join(cleaned_text[i].split()[:120]))\n",
    "    else:\n",
    "        short_text.append(cleaned_text[i])\n",
    "       \n",
    "        \n",
    "df=pd.DataFrame({'text':short_text,'summary':short_summary})"
   ]
  },
  {
   "cell_type": "markdown",
   "metadata": {
    "id": "tR1uh8xSNUma"
   },
   "source": [
    "adding the **START** and **END** special tokens at the beginning and end of the summary."
   ]
  },
  {
   "cell_type": "code",
   "execution_count": 30,
   "metadata": {
    "id": "EwLUH78CFxhg"
   },
   "outputs": [],
   "source": [
    "df['summary'] = df['summary'].apply(lambda x : 'xl '+ x + ' xy')"
   ]
  },
  {
   "cell_type": "code",
   "execution_count": 31,
   "metadata": {
    "colab": {
     "base_uri": "https://localhost:8080/"
    },
    "id": "C4LjiyrtQt66",
    "outputId": "e1a5b433-fd93-4cc3-e185-b8f9ab0aa962"
   },
   "outputs": [
    {
     "data": {
      "text/plain": [
       "(308826, 2)"
      ]
     },
     "execution_count": 31,
     "metadata": {
      "tags": []
     },
     "output_type": "execute_result"
    }
   ],
   "source": [
    "df.shape"
   ]
  },
  {
   "cell_type": "code",
   "execution_count": 32,
   "metadata": {
    "colab": {
     "base_uri": "https://localhost:8080/",
     "height": 282
    },
    "id": "f1w3V5JsVRzZ",
    "outputId": "bad9070f-2aab-4066-ded1-f70be5bf75d3"
   },
   "outputs": [
    {
     "data": {
      "text/html": [
       "<div>\n",
       "<style scoped>\n",
       "    .dataframe tbody tr th:only-of-type {\n",
       "        vertical-align: middle;\n",
       "    }\n",
       "\n",
       "    .dataframe tbody tr th {\n",
       "        vertical-align: top;\n",
       "    }\n",
       "\n",
       "    .dataframe thead th {\n",
       "        text-align: right;\n",
       "    }\n",
       "</style>\n",
       "<table border=\"1\" class=\"dataframe\">\n",
       "  <thead>\n",
       "    <tr style=\"text-align: right;\">\n",
       "      <th></th>\n",
       "      <th>text</th>\n",
       "      <th>summary</th>\n",
       "    </tr>\n",
       "  </thead>\n",
       "  <tbody>\n",
       "    <tr>\n",
       "      <th>0</th>\n",
       "      <td>for architects perfection is necessary said japanese architect kengo kuma it is my mission to use the kindness and delicateness that old architecture had i believe that this mission is not easy to...</td>\n",
       "      <td>xl japanese architect has popularized sensitive japanese traditions in buildings xy</td>\n",
       "    </tr>\n",
       "    <tr>\n",
       "      <th>1</th>\n",
       "      <td>the trial of former egyptian president mohamed morsy on charges of inciting the murders of at least three protesters in has been postponed until february because he did not appear in court wednesd...</td>\n",
       "      <td>xl the second session in the trial of mohamed morsy is postponed until february xy</td>\n",
       "    </tr>\n",
       "    <tr>\n",
       "      <th>2</th>\n",
       "      <td>cnn toyota motor corp has recently been in the hot seat after issuing massive recalls because of problems related to the accelerator pedal in several of its auto models to date million vehicles wo...</td>\n",
       "      <td>xl million vehicles worldwide have been recalled by toyota xy</td>\n",
       "    </tr>\n",
       "    <tr>\n",
       "      <th>3</th>\n",
       "      <td>mexicos international image may be taking hits because of the violence produced by drug cartels but it hasnt hurt its tourism industry officials say international tourism to mexico has increased i...</td>\n",
       "      <td>xl mexico remains the no destination for americans traveling abroad xy</td>\n",
       "    </tr>\n",
       "    <tr>\n",
       "      <th>4</th>\n",
       "      <td>thai scrapyard workers accidentally detonated a suspected world war iiera bomb wednesday killing seven and injuring after attempting to cut into it with a blowtorch the device was discovered at a ...</td>\n",
       "      <td>xl suspected wwiiera aerial bomb explodes in bangkok neighborhood killing seven xy</td>\n",
       "    </tr>\n",
       "  </tbody>\n",
       "</table>\n",
       "</div>"
      ],
      "text/plain": [
       "                                                                                                                                                                                                      text                                                                              summary\n",
       "0  for architects perfection is necessary said japanese architect kengo kuma it is my mission to use the kindness and delicateness that old architecture had i believe that this mission is not easy to...  xl japanese architect has popularized sensitive japanese traditions in buildings xy\n",
       "1  the trial of former egyptian president mohamed morsy on charges of inciting the murders of at least three protesters in has been postponed until february because he did not appear in court wednesd...   xl the second session in the trial of mohamed morsy is postponed until february xy\n",
       "2  cnn toyota motor corp has recently been in the hot seat after issuing massive recalls because of problems related to the accelerator pedal in several of its auto models to date million vehicles wo...                        xl million vehicles worldwide have been recalled by toyota xy\n",
       "3  mexicos international image may be taking hits because of the violence produced by drug cartels but it hasnt hurt its tourism industry officials say international tourism to mexico has increased i...               xl mexico remains the no destination for americans traveling abroad xy\n",
       "4  thai scrapyard workers accidentally detonated a suspected world war iiera bomb wednesday killing seven and injuring after attempting to cut into it with a blowtorch the device was discovered at a ...   xl suspected wwiiera aerial bomb explodes in bangkok neighborhood killing seven xy"
      ]
     },
     "execution_count": 32,
     "metadata": {
      "tags": []
     },
     "output_type": "execute_result"
    }
   ],
   "source": [
    "df.head()"
   ]
  },
  {
   "cell_type": "code",
   "execution_count": null,
   "metadata": {
    "id": "HDPAcoqoWSSS"
   },
   "outputs": [],
   "source": [
    "# df.to_csv(\"cnn_dailymail_after_processing_long.csv\")"
   ]
  },
  {
   "cell_type": "code",
   "execution_count": null,
   "metadata": {
    "id": "lTY3EdQeWgjP"
   },
   "outputs": [],
   "source": [
    "#files.download(\"cnn_dailymail_after_processing_long.csv\")"
   ]
  },
  {
   "cell_type": "markdown",
   "metadata": {
    "id": "1GlcX4RFOh13"
   },
   "source": [
    "We’ll use 90% of the dataset as the training data and evaluate the performance on the remaining 10% (holdout set):"
   ]
  },
  {
   "cell_type": "code",
   "execution_count": 33,
   "metadata": {
    "id": "RakakKHcFxhl"
   },
   "outputs": [],
   "source": [
    "from sklearn.model_selection import train_test_split\n",
    "x_tr1,x_val1,y_tr1,y_val1=train_test_split(np.array(df['text']),np.array(df['summary']),test_size=0.1,random_state=0,shuffle=False) "
   ]
  },
  {
   "cell_type": "markdown",
   "metadata": {
    "id": "Vq1mqyOHOtIl"
   },
   "source": [
    "### Preparing the Tokenizer\n",
    "\n",
    "A tokenizer builds the vocabulary and converts a word sequence to an integer sequence. Go ahead and build tokenizers for text and summary:\n",
    "\n",
    "### Text Tokenizer"
   ]
  },
  {
   "cell_type": "code",
   "execution_count": 35,
   "metadata": {
    "colab": {
     "base_uri": "https://localhost:8080/"
    },
    "id": "He5KLv_vRfAs",
    "outputId": "125647fc-cdde-4cf4-e1ed-6ec83ecae482"
   },
   "outputs": [
    {
     "name": "stdout",
     "output_type": "stream",
     "text": [
      "Collecting youtokentome\n",
      "\u001b[?25l  Downloading https://files.pythonhosted.org/packages/a3/65/4a86cf99da3f680497ae132329025b291e2fda22327e8da6a9476e51acb1/youtokentome-1.0.6-cp36-cp36m-manylinux2010_x86_64.whl (1.7MB)\n",
      "\u001b[K     |████████████████████████████████| 1.7MB 2.7MB/s \n",
      "\u001b[?25hRequirement already satisfied: Click>=7.0 in /usr/local/lib/python3.6/dist-packages (from youtokentome) (7.1.2)\n",
      "Installing collected packages: youtokentome\n",
      "Successfully installed youtokentome-1.0.6\n"
     ]
    }
   ],
   "source": [
    "!pip install youtokentome "
   ]
  },
  {
   "cell_type": "code",
   "execution_count": 36,
   "metadata": {
    "id": "iWnbwL9_8mxv"
   },
   "outputs": [],
   "source": [
    "import youtokentome as yttm"
   ]
  },
  {
   "cell_type": "code",
   "execution_count": 37,
   "metadata": {
    "id": "ri0Hka7n8mxx",
    "scrolled": true
   },
   "outputs": [],
   "source": [
    "x_tokenizer = yttm.BPE(model='bpe_addit.model')"
   ]
  },
  {
   "cell_type": "code",
   "execution_count": 38,
   "metadata": {
    "colab": {
     "base_uri": "https://localhost:8080/"
    },
    "id": "4Q9AYlju8mx4",
    "outputId": "c0e120e8-603a-4977-8d9e-c9cc270baf1d"
   },
   "outputs": [
    {
     "name": "stdout",
     "output_type": "stream",
     "text": [
      "[['▁for', '▁arch', 'it', 'ect', 's', '▁perfection', '▁i', 's', '▁necessary', '▁said', '▁japanese', '▁arch', 'it', 'ect', '▁ken', 'go', '▁kum', 'a', '▁it', '▁is', '▁my', '▁mission', '▁', 'to', '▁use', '▁the', '▁kindness', '▁and', '▁delicat', 'eness', '▁that', '▁old', '▁arch', 'it', 'ecture', '▁had', '▁i', '▁believe', '▁that', '▁this', '▁mission', '▁is', '▁not', '▁easy', '▁to', '▁complete', '▁so', '▁i', '▁am', '▁planning', '▁to', '▁work', '▁un', 't', 'il', '▁i', '▁fall', '▁down', '▁with', '▁nearly', '▁projects', '▁o', 'n', '▁', 'the', '▁', 'go', '▁across', '▁the', '▁world', '▁kum', 'as', '▁search', '▁for', '▁perfection', '▁is', '▁all', '▁consuming', '▁he', '▁rarely', '▁takes', '▁a', '▁day', '▁off', '▁from', '▁work', '▁and', '▁sometimes', '▁even', '▁finished', '▁projects', '▁are', '▁analyzed', '▁and', '▁amend', 'ed', '▁', 'the', '▁f', 'ro', 'm', '▁t', 'ok', 'yo', '▁has', '▁become', '▁synonymous', '▁with', '▁delicate', '▁simplicity', '▁and', '▁sensitivity', '▁to', '▁a', '▁bu', 'il', 'd', 'ings', '▁surrounding', '▁from', '▁', 'the', '▁great', '▁bamboo', '▁wal', 'l', '▁house', '▁located', '▁nea', 'r', '▁the', '▁great', '▁wall', '▁', 'of', '▁china', '▁', 'out', 'side', '▁of', '▁be', 'ij', 'ing', '▁to', '▁the', '▁sunt', 'ory', '▁mu', 'se', 'um', '▁of', '▁art', '▁', 'in', '▁to', 'ky', 'o', '▁kum', 'a', '▁has', '▁employed', '▁natural']]\n"
     ]
    }
   ],
   "source": [
    "print(x_tokenizer.encode([x_tr1[0]], output_type=yttm.OutputType.SUBWORD, dropout_prob=0.1))     "
   ]
  },
  {
   "cell_type": "code",
   "execution_count": 39,
   "metadata": {
    "id": "ZtxJkL3XKr68"
   },
   "outputs": [],
   "source": [
    "from nltk.stem.snowball import SnowballStemmer"
   ]
  },
  {
   "cell_type": "code",
   "execution_count": 40,
   "metadata": {
    "id": "elJ3aldFKv8U"
   },
   "outputs": [],
   "source": [
    "s_stemmer = SnowballStemmer(language='english')"
   ]
  },
  {
   "cell_type": "code",
   "execution_count": 41,
   "metadata": {
    "id": "mi8gfNMhyr4f"
   },
   "outputs": [],
   "source": [
    "from collections import defaultdict"
   ]
  },
  {
   "cell_type": "code",
   "execution_count": 42,
   "metadata": {
    "id": "M-21wZMiy9zn"
   },
   "outputs": [],
   "source": [
    "stemm_dict = defaultdict(list)"
   ]
  },
  {
   "cell_type": "code",
   "execution_count": 43,
   "metadata": {
    "id": "szQheXsEK0td"
   },
   "outputs": [],
   "source": [
    "def suffix_divide(words):\n",
    "  x_tr_seq_tokens_my_v=[]\n",
    "  \n",
    "  for word in words.split(' '):\n",
    "    \n",
    "    new_word = s_stemmer.stem(word)\n",
    "    \n",
    "    i=0\n",
    "    itog=[]\n",
    "    suffix=[]\n",
    "    for char in new_word:\n",
    "        \n",
    "        while i<len(word):\n",
    "            \n",
    "            \n",
    "            if (word[i] == char):\n",
    "                itog.append(word[i])                \n",
    "                i+=1\n",
    "                break                  \n",
    "              \n",
    "            i+=1\n",
    "    \n",
    "    if (len(word)>len(itog)):\n",
    "        for i in range(len(itog),len(word)):\n",
    "          \n",
    "            suffix.append(word[i])\n",
    "\n",
    "    str1 =''.join(itog)\n",
    "    str2 = ''.join(suffix)\n",
    "    \n",
    "    x_tr_seq_tokens_my_v.append(str1)\n",
    "    if (str2!=''):\n",
    "    \n",
    "       if str2 not in stemm_dict[str1]:\n",
    "          stemm_dict[str1].append(str2)\n",
    "       x_tr_seq_tokens_my_v.append(str2)\n",
    "\n",
    "  return x_tr_seq_tokens_my_v "
   ]
  },
  {
   "cell_type": "code",
   "execution_count": 44,
   "metadata": {
    "id": "Ea0oc3FMVxwu"
   },
   "outputs": [],
   "source": [
    "x_tr_seq_tokens=[]\n",
    "\n",
    "for it in range(len(x_tr1)):\n",
    "\n",
    "      result = suffix_divide(x_tr1[it])\n",
    "      \n",
    "      x_tr_seq_tokens.append(result)\n",
    "      "
   ]
  },
  {
   "cell_type": "code",
   "execution_count": 45,
   "metadata": {
    "id": "q5RdNYx5WdI3"
   },
   "outputs": [],
   "source": [
    "x_val_seq_tokens=[]\n",
    "\n",
    "for it in range(len(x_val1)):\n",
    "      \n",
    "      result = suffix_divide(x_val1[it])\n",
    "      \n",
    "      x_val_seq_tokens.append(result)"
   ]
  },
  {
   "cell_type": "code",
   "execution_count": 46,
   "metadata": {
    "id": "SUHyPkyCeDtv"
   },
   "outputs": [],
   "source": [
    "def new_data(x_seq_tokens): \n",
    "  new_list=[]\n",
    "  for i in range(len(x_seq_tokens)):\n",
    "    new_list.append(' '.join( x_seq_tokens[i]))\n",
    "    new_list[i] = new_list[i].replace(\"▁\",\"\")\n",
    "    new_list[i] = new_list[i].strip()\n",
    "  x_tr_new = np.array(new_list)  \n",
    "  return x_tr_new"
   ]
  },
  {
   "cell_type": "code",
   "execution_count": 47,
   "metadata": {
    "id": "WA-A-l9oeJR3"
   },
   "outputs": [],
   "source": [
    "x_tr_new = new_data(x_tr_seq_tokens)\n",
    "x_val_new =  new_data(x_val_seq_tokens)"
   ]
  },
  {
   "cell_type": "code",
   "execution_count": 48,
   "metadata": {
    "id": "DCbGMsm4FxiA"
   },
   "outputs": [],
   "source": [
    "x_tr_seq_ids = x_tokenizer.encode(list(x_tr_new), output_type=yttm.OutputType.ID)\n",
    "x_val_seq_ids = x_tokenizer.encode(list(x_val_new), output_type=yttm.OutputType.ID)"
   ]
  },
  {
   "cell_type": "code",
   "execution_count": 49,
   "metadata": {
    "colab": {
     "base_uri": "https://localhost:8080/"
    },
    "id": "V_5Kow9ne3UQ",
    "outputId": "e5e3bc69-b238-462c-e5c2-d77b23fab9d1"
   },
   "outputs": [
    {
     "name": "stdout",
     "output_type": "stream",
     "text": [
      "369\n"
     ]
    }
   ],
   "source": [
    "max=0\n",
    "for x in x_tr_seq_ids:\n",
    "    if len(x)>max:\n",
    "        max=len(x)\n",
    "        \n",
    "print(max) \n",
    "max_text_len=max"
   ]
  },
  {
   "cell_type": "code",
   "execution_count": 50,
   "metadata": {
    "id": "XjyOgItze-2x"
   },
   "outputs": [],
   "source": [
    "#padding zero upto maximum length\n",
    "x_tr    =   pad_sequences([x for x in x_tr_seq_ids],  maxlen=max_text_len, padding='post')\n",
    "x_val   =   pad_sequences([x for x in x_val_seq_ids], maxlen=max_text_len, padding='post')"
   ]
  },
  {
   "cell_type": "code",
   "execution_count": 51,
   "metadata": {
    "id": "8xltItaM8myh"
   },
   "outputs": [],
   "source": [
    "dic={}\n",
    "for x in x_tr:\n",
    "    \n",
    "    for word in x:\n",
    "        if word in dic:\n",
    "            dic[word]+=1\n",
    "        else:\n",
    "            dic[word]=1\n",
    "            \n",
    "for x in x_val:\n",
    "    \n",
    "    for word in x:\n",
    "        if word in dic:\n",
    "            dic[word]+=1\n",
    "        else:\n",
    "            dic[word]=1           "
   ]
  },
  {
   "cell_type": "code",
   "execution_count": 52,
   "metadata": {
    "colab": {
     "base_uri": "https://localhost:8080/"
    },
    "id": "rZGSL96j8myj",
    "outputId": "de97b8c4-610c-4824-b02d-1782b555fa4d"
   },
   "outputs": [
    {
     "data": {
      "text/plain": [
       "21960"
      ]
     },
     "execution_count": 52,
     "metadata": {
      "tags": []
     },
     "output_type": "execute_result"
    }
   ],
   "source": [
    "len(dic)"
   ]
  },
  {
   "cell_type": "markdown",
   "metadata": {
    "id": "iVj0dI-DUUet"
   },
   "source": [
    "define max integer representation of tokens"
   ]
  },
  {
   "cell_type": "code",
   "execution_count": 53,
   "metadata": {
    "colab": {
     "base_uri": "https://localhost:8080/"
    },
    "id": "grAPwOVl8myo",
    "outputId": "8bc668fa-8d92-4b44-e341-bb6d4253b211"
   },
   "outputs": [
    {
     "name": "stdout",
     "output_type": "stream",
     "text": [
      "51996\n"
     ]
    }
   ],
   "source": [
    "max=0\n",
    "for x in x_tr:\n",
    "    \n",
    "    for word in x:\n",
    "        \n",
    "        if (word > max):\n",
    "            max = word\n",
    "for x in x_val:\n",
    "    \n",
    "    for word in x:\n",
    "        \n",
    "        if (word > max):\n",
    "            max = word            \n",
    "print(max)        "
   ]
  },
  {
   "cell_type": "code",
   "execution_count": 54,
   "metadata": {
    "id": "vdqGrc8v8myr"
   },
   "outputs": [],
   "source": [
    "#size of vocabulary ( +1 for padding token)\n",
    "x_voc   =  max + 1"
   ]
  },
  {
   "cell_type": "markdown",
   "metadata": {
    "id": "uQfKP3sqRxi9"
   },
   "source": [
    "### Summary Tokenizer"
   ]
  },
  {
   "cell_type": "markdown",
   "metadata": {
    "id": "0PBhzKuRSw_9"
   },
   "source": [
    "Let us define the tokenizer with top most common words for summary."
   ]
  },
  {
   "cell_type": "code",
   "execution_count": 55,
   "metadata": {
    "id": "eRHqyBkBFxiJ"
   },
   "outputs": [],
   "source": [
    "#prepare a tokenizer for reviews on training data\n",
    "y_tokenizer = yttm.BPE(model='bpe_addit.model')"
   ]
  },
  {
   "cell_type": "code",
   "execution_count": 56,
   "metadata": {
    "id": "aECmPseg8my5"
   },
   "outputs": [],
   "source": [
    "y_tr_seq_tokens=[]\n",
    "for it in range(len(y_tr1)):\n",
    "      \n",
    "      result = suffix_divide(y_tr1[it])\n",
    "      \n",
    "      y_tr_seq_tokens.append(result)"
   ]
  },
  {
   "cell_type": "code",
   "execution_count": 57,
   "metadata": {
    "id": "Rl_Qe9PlgKNT"
   },
   "outputs": [],
   "source": [
    "y_val_seq_tokens=[]\n",
    "for it in range(len(y_val1)):\n",
    "      \n",
    "      result = suffix_divide(y_val1[it])\n",
    "      \n",
    "      y_val_seq_tokens.append(result)"
   ]
  },
  {
   "cell_type": "code",
   "execution_count": 58,
   "metadata": {
    "id": "fNgBVkrUgkhH"
   },
   "outputs": [],
   "source": [
    "y_tr_new = new_data(y_tr_seq_tokens)\n",
    "y_val_new = new_data(y_val_seq_tokens)"
   ]
  },
  {
   "cell_type": "code",
   "execution_count": 59,
   "metadata": {
    "colab": {
     "base_uri": "https://localhost:8080/"
    },
    "id": "ePDyEXoXgtVT",
    "outputId": "30f52233-56a7-48a5-9b99-d71c7333739f"
   },
   "outputs": [
    {
     "data": {
      "text/plain": [
       "array(['xl japanes e architect has popular ized sensit ive japanes e tradit ions in build ings xy',\n",
       "       'xl the second session in the trial of moham ed mors y is postpon ed until februar y xy',\n",
       "       'xl million vehicl es worldwid e have been recal led by toyota xy',\n",
       "       ...,\n",
       "       'xl frog s from the seychell es island s are just long and can croak and hear each other without possess ing xy',\n",
       "       'xl eagl e piggyback s on the top of hang glider abov e stanwel l park australia xy',\n",
       "       'xl siobhan field s from hamilton scotland want ed screen legend on her arm xy'],\n",
       "      dtype='<U157')"
      ]
     },
     "execution_count": 59,
     "metadata": {
      "tags": []
     },
     "output_type": "execute_result"
    }
   ],
   "source": [
    "y_tr_new"
   ]
  },
  {
   "cell_type": "code",
   "execution_count": 60,
   "metadata": {
    "id": "9bvjTdO_hCUX"
   },
   "outputs": [],
   "source": [
    "y_tr_seq_ids    =   y_tokenizer.encode(list(y_tr_new), output_type=yttm.OutputType.ID, dropout_prob=0.1)\n",
    "y_val_seq_ids   =   y_tokenizer.encode(list(y_val_new), output_type=yttm.OutputType.ID, dropout_prob=0.1)"
   ]
  },
  {
   "cell_type": "code",
   "execution_count": 61,
   "metadata": {
    "colab": {
     "base_uri": "https://localhost:8080/"
    },
    "id": "p5SgL2VEhDmJ",
    "outputId": "d32e10c0-fb75-40c5-fb9f-3709047d55b2"
   },
   "outputs": [
    {
     "data": {
      "text/plain": [
       "277943"
      ]
     },
     "execution_count": 61,
     "metadata": {
      "tags": []
     },
     "output_type": "execute_result"
    }
   ],
   "source": [
    " len(y_tr_seq_ids)"
   ]
  },
  {
   "cell_type": "code",
   "execution_count": 62,
   "metadata": {
    "colab": {
     "base_uri": "https://localhost:8080/"
    },
    "id": "0oYaHYDnhLTt",
    "outputId": "baa82fab-2105-4154-fce5-ff5769865598"
   },
   "outputs": [
    {
     "name": "stdout",
     "output_type": "stream",
     "text": [
      "48\n"
     ]
    }
   ],
   "source": [
    "max=0\n",
    "for x in y_val_seq_ids:\n",
    "    if len(x)>max:\n",
    "        max=len(x)\n",
    "print(max) \n",
    "max_summary_len=max"
   ]
  },
  {
   "cell_type": "code",
   "execution_count": 63,
   "metadata": {
    "colab": {
     "base_uri": "https://localhost:8080/"
    },
    "id": "km4bw4p4hGdP",
    "outputId": "f8fe9501-025f-41cb-8d22-913c7c45d42a"
   },
   "outputs": [
    {
     "name": "stdout",
     "output_type": "stream",
     "text": [
      "50\n"
     ]
    }
   ],
   "source": [
    "max=0\n",
    "for x in y_tr_seq_ids:\n",
    "    if len(x)>max:\n",
    "        max=len(x)\n",
    "print(max) \n",
    "max_summary_len=max"
   ]
  },
  {
   "cell_type": "code",
   "execution_count": 64,
   "metadata": {
    "id": "XilAkupR8my9"
   },
   "outputs": [],
   "source": [
    "#padding zero upto maximum length\n",
    "#padding zero upto maximum length\n",
    "y_tr    =   pad_sequences([y for y in y_tr_seq_ids],  maxlen=max_summary_len, padding='post')\n",
    "y_val   =   pad_sequences([y for y in y_val_seq_ids], maxlen=max_summary_len, padding='post')"
   ]
  },
  {
   "cell_type": "code",
   "execution_count": 65,
   "metadata": {
    "colab": {
     "base_uri": "https://localhost:8080/"
    },
    "id": "PPGr3Z5o8mzD",
    "outputId": "f88acf86-f85b-4a04-d2f1-669087dda493"
   },
   "outputs": [
    {
     "name": "stdout",
     "output_type": "stream",
     "text": [
      "51996\n"
     ]
    }
   ],
   "source": [
    "max=0\n",
    "for x in y_tr:\n",
    "    \n",
    "    for word in x:\n",
    "        \n",
    "        if (word > max):\n",
    "            max = word\n",
    "for x in y_val:\n",
    "    \n",
    "    for word in x:\n",
    "        \n",
    "        if (word > max):\n",
    "            max = word            \n",
    "print(max)       "
   ]
  },
  {
   "cell_type": "code",
   "execution_count": 66,
   "metadata": {
    "id": "uzHBlfw58mzE"
   },
   "outputs": [],
   "source": [
    "#size of vocabulary\n",
    "y_voc  =   max +1"
   ]
  },
  {
   "cell_type": "code",
   "execution_count": 67,
   "metadata": {
    "colab": {
     "base_uri": "https://localhost:8080/"
    },
    "id": "FU0KooAK8mzG",
    "outputId": "e099e623-263e-4a99-bc9c-b240562d0d66"
   },
   "outputs": [
    {
     "data": {
      "text/plain": [
       "51997"
      ]
     },
     "execution_count": 67,
     "metadata": {
      "tags": []
     },
     "output_type": "execute_result"
    }
   ],
   "source": [
    "y_voc"
   ]
  },
  {
   "cell_type": "markdown",
   "metadata": {
    "id": "LVFhFVguTTtw"
   },
   "source": [
    "Here, I am deleting the rows that contain only **START** and **END** tokens"
   ]
  },
  {
   "cell_type": "code",
   "execution_count": 68,
   "metadata": {
    "id": "kZ-vW82sFxih"
   },
   "outputs": [],
   "source": [
    "ind=[]\n",
    "for i in range(len(y_tr)):\n",
    "    cnt=0\n",
    "    for j in y_tr[i]:\n",
    "        if j!=0:\n",
    "            cnt=cnt+1\n",
    "    if(cnt==2):\n",
    "        ind.append(i)\n",
    "\n",
    "y_tr=np.delete(y_tr,ind, axis=0)\n",
    "x_tr=np.delete(x_tr,ind, axis=0)"
   ]
  },
  {
   "cell_type": "code",
   "execution_count": 69,
   "metadata": {
    "id": "cx5NISuMFxik"
   },
   "outputs": [],
   "source": [
    "ind=[]\n",
    "for i in range(len(y_val)):\n",
    "    cnt=0\n",
    "    for j in y_val[i]:\n",
    "        if j!=0:\n",
    "            cnt=cnt+1\n",
    "    if(cnt==2):\n",
    "        ind.append(i)\n",
    "\n",
    "y_val=np.delete(y_val,ind, axis=0)\n",
    "x_val=np.delete(x_val,ind, axis=0)"
   ]
  },
  {
   "cell_type": "markdown",
   "metadata": {
    "id": "wOtlDcthFxip"
   },
   "source": [
    "# Model building\n",
    "\n",
    "**Return Sequences = True**: When the return sequences parameter is set to True, LSTM produces the hidden state and cell state for every timestep\n",
    "\n",
    "**Return State = True**: When return state = True, LSTM produces the hidden state and cell state of the last timestep only\n",
    "\n",
    "**Initial State**: This is used to initialize the internal states of the LSTM for the first timestep\n",
    "\n",
    "**Stacked LSTM**: Stacked LSTM has multiple layers of LSTM stacked on top of each other. \n",
    "This leads to a better representation of the sequence.\n",
    "\n",
    "Here, we are building a 3 stacked Bi-LSTM for the encoder:"
   ]
  },
  {
   "cell_type": "code",
   "execution_count": 70,
   "metadata": {
    "colab": {
     "base_uri": "https://localhost:8080/"
    },
    "id": "zXef38nBFxir",
    "outputId": "faec44e6-6087-4543-98f7-5c34e92ee2dc"
   },
   "outputs": [
    {
     "name": "stdout",
     "output_type": "stream",
     "text": [
      "WARNING:tensorflow:Layer lstm will not use cuDNN kernel since it doesn't meet the cuDNN kernel criteria. It will use generic GPU kernel as fallback when running on GPU\n",
      "WARNING:tensorflow:Layer lstm will not use cuDNN kernel since it doesn't meet the cuDNN kernel criteria. It will use generic GPU kernel as fallback when running on GPU\n",
      "WARNING:tensorflow:Layer lstm will not use cuDNN kernel since it doesn't meet the cuDNN kernel criteria. It will use generic GPU kernel as fallback when running on GPU\n",
      "WARNING:tensorflow:Layer lstm_1 will not use cuDNN kernel since it doesn't meet the cuDNN kernel criteria. It will use generic GPU kernel as fallback when running on GPU\n",
      "WARNING:tensorflow:Layer lstm_1 will not use cuDNN kernel since it doesn't meet the cuDNN kernel criteria. It will use generic GPU kernel as fallback when running on GPU\n",
      "WARNING:tensorflow:Layer lstm_1 will not use cuDNN kernel since it doesn't meet the cuDNN kernel criteria. It will use generic GPU kernel as fallback when running on GPU\n",
      "WARNING:tensorflow:Layer lstm_2 will not use cuDNN kernel since it doesn't meet the cuDNN kernel criteria. It will use generic GPU kernel as fallback when running on GPU\n",
      "WARNING:tensorflow:Layer lstm_2 will not use cuDNN kernel since it doesn't meet the cuDNN kernel criteria. It will use generic GPU kernel as fallback when running on GPU\n",
      "WARNING:tensorflow:Layer lstm_2 will not use cuDNN kernel since it doesn't meet the cuDNN kernel criteria. It will use generic GPU kernel as fallback when running on GPU\n",
      "WARNING:tensorflow:Layer lstm_3 will not use cuDNN kernel since it doesn't meet the cuDNN kernel criteria. It will use generic GPU kernel as fallback when running on GPU\n",
      "Model: \"functional_1\"\n",
      "__________________________________________________________________________________________________\n",
      "Layer (type)                    Output Shape         Param #     Connected to                     \n",
      "==================================================================================================\n",
      "input_1 (InputLayer)            [(None, 369)]        0                                            \n",
      "__________________________________________________________________________________________________\n",
      "embedding (Embedding)           (None, 369, 100)     5199700     input_1[0][0]                    \n",
      "__________________________________________________________________________________________________\n",
      "bidirectional (Bidirectional)   [(None, 369, 600), ( 962400      embedding[0][0]                  \n",
      "__________________________________________________________________________________________________\n",
      "bidirectional_1 (Bidirectional) [(None, 369, 600), ( 2162400     bidirectional[0][0]              \n",
      "__________________________________________________________________________________________________\n",
      "input_2 (InputLayer)            [(None, 369)]        0                                            \n",
      "__________________________________________________________________________________________________\n",
      "bidirectional_2 (Bidirectional) [(None, 369, 600), ( 2162400     bidirectional_1[0][0]            \n",
      "__________________________________________________________________________________________________\n",
      "embedding_1 (Embedding)         (None, 369, 100)     5199700     input_2[0][0]                    \n",
      "__________________________________________________________________________________________________\n",
      "concatenate (Concatenate)       (None, 600)          0           bidirectional_2[0][1]            \n",
      "                                                                 bidirectional_2[0][3]            \n",
      "__________________________________________________________________________________________________\n",
      "concatenate_1 (Concatenate)     (None, 600)          0           bidirectional_2[0][2]            \n",
      "                                                                 bidirectional_2[0][4]            \n",
      "__________________________________________________________________________________________________\n",
      "lstm_3 (LSTM)                   [(None, 369, 600), ( 1682400     embedding_1[0][0]                \n",
      "                                                                 concatenate[0][0]                \n",
      "                                                                 concatenate_1[0][0]              \n",
      "__________________________________________________________________________________________________\n",
      "attention_layer (AttentionLayer ((None, 369, 600), ( 720600      bidirectional_2[0][0]            \n",
      "                                                                 lstm_3[0][0]                     \n",
      "__________________________________________________________________________________________________\n",
      "concat_layer (Concatenate)      (None, 369, 1200)    0           lstm_3[0][0]                     \n",
      "                                                                 attention_layer[0][0]            \n",
      "__________________________________________________________________________________________________\n",
      "time_distributed (TimeDistribut (None, 369, 51997)   62448397    concat_layer[0][0]               \n",
      "==================================================================================================\n",
      "Total params: 80,537,997\n",
      "Trainable params: 80,537,997\n",
      "Non-trainable params: 0\n",
      "__________________________________________________________________________________________________\n"
     ]
    }
   ],
   "source": [
    "from keras import backend as K \n",
    "K.clear_session()\n",
    "\n",
    "latent_dim = 300\n",
    "embedding_dim=100\n",
    "\n",
    "# Encoder\n",
    "encoder_inputs = Input(shape=(max_text_len,))\n",
    "\n",
    "#embedding layer\n",
    "enc_emb = Embedding(x_voc, embedding_dim,trainable=True)(encoder_inputs)\n",
    "\n",
    "encoder_lstm1 = Bidirectional(LSTM(latent_dim,return_sequences=True,return_state=True,dropout=0.4,recurrent_dropout=0.4))\n",
    "encoder_output1, forward_h1, forward_c1, backward_h1, backward_c1 = encoder_lstm1(enc_emb)\n",
    "\n",
    "#encoder lstm 2\n",
    "encoder_lstm2 = Bidirectional(LSTM(latent_dim,return_sequences=True,return_state=True,dropout=0.4,recurrent_dropout=0.4))\n",
    "encoder_output2, forward_h2, forward_c2, backward_h2, backward_c2 = encoder_lstm2(encoder_output1)\n",
    "\n",
    "#encoder lstm 3\n",
    "encoder_lstm3= Bidirectional(LSTM(latent_dim, return_state=True, return_sequences=True,dropout=0.4,recurrent_dropout=0.4))\n",
    "encoder_outputs, forward_h, forward_c, backward_h, backward_c = encoder_lstm3(encoder_output2)\n",
    "\n",
    "state_h = Concatenate()([forward_h, backward_h])\n",
    "state_c = Concatenate()([forward_c, backward_c])\n",
    "encoder_states = [state_h, state_c]\n",
    "\n",
    "# Set up the decoder, using `encoder_states` as initial state.\n",
    "decoder_inputs = Input(shape=(max_text_len,))\n",
    "\n",
    "#embedding layer\n",
    "dec_emb_layer = Embedding(y_voc, embedding_dim,trainable=True)\n",
    "dec_emb = dec_emb_layer(decoder_inputs)\n",
    "# decoder   \n",
    "decoder_lstm = LSTM(600, return_sequences=True, return_state=True,dropout=0.4,recurrent_dropout=0.2)\n",
    "decoder_outputs,decoder_h, decoder_c = decoder_lstm(dec_emb,initial_state=encoder_states)\n",
    "\n",
    "# Attention layer\n",
    "attn_layer = AttentionLayer(name='attention_layer')\n",
    "attn_out, attn_states = attn_layer([encoder_outputs, decoder_outputs])\n",
    "\n",
    "# Concat attention input and decoder LSTM output\n",
    "decoder_concat_input = Concatenate(axis=-1, name='concat_layer')([decoder_outputs, attn_out])\n",
    "\n",
    "#dense layer\n",
    "decoder_dense =  TimeDistributed(Dense(y_voc, activation='softmax'))\n",
    "decoder_outputs = decoder_dense(decoder_concat_input)\n",
    "\n",
    "# Define the model \n",
    "model = Model([encoder_inputs, decoder_inputs], decoder_outputs)\n",
    "\n",
    "model.summary() "
   ]
  },
  {
   "cell_type": "markdown",
   "metadata": {
    "id": "0ZVlfRuMUcoP"
   },
   "source": [
    "I am using sparse categorical cross-entropy as the loss function since it converts the integer sequence to a one-hot vector on the fly. This overcomes any memory issues."
   ]
  },
  {
   "cell_type": "code",
   "execution_count": 71,
   "metadata": {
    "id": "Lwfi1Fm8Fxiz"
   },
   "outputs": [],
   "source": [
    "model.compile(optimizer='rmsprop', loss='sparse_categorical_crossentropy')"
   ]
  },
  {
   "cell_type": "markdown",
   "metadata": {
    "id": "p0ykDbxfUhyw"
   },
   "source": [
    "The concept of early stopping is used to stop training the neural network at the right time by monitoring a user-specified metric. Here, I am monitoring the validation loss (val_loss). Our model will stop training once the validation loss increases:\n"
   ]
  },
  {
   "cell_type": "code",
   "execution_count": 72,
   "metadata": {
    "id": "s-A3J92MUljB"
   },
   "outputs": [],
   "source": [
    "es = EarlyStopping(monitor='val_loss', mode='min', verbose=1,patience=2)"
   ]
  },
  {
   "cell_type": "code",
   "execution_count": 73,
   "metadata": {
    "id": "CuXTfXtYnwv-"
   },
   "outputs": [],
   "source": [
    "checkpoint_path = \"training_1/cp.ckpt\"\n",
    "checkpoint_dir = os.path.dirname(checkpoint_path)"
   ]
  },
  {
   "cell_type": "code",
   "execution_count": 74,
   "metadata": {
    "id": "h0tRqh9FnyJN"
   },
   "outputs": [],
   "source": [
    "# Создаем коллбек сохраняющий веса модели\n",
    "cp_callback = tf.keras.callbacks.ModelCheckpoint(filepath=checkpoint_path,\n",
    "                                                 save_weights_only=True,\n",
    "                                                 verbose=1)"
   ]
  },
  {
   "cell_type": "markdown",
   "metadata": {
    "id": "Mw6CVECaUq5b"
   },
   "source": [
    "We’ll train the model on a batch size of 128 and validate it on the holdout set (which is 10% of our dataset):"
   ]
  },
  {
   "cell_type": "code",
   "execution_count": 1,
   "metadata": {
    "id": "ETnPzA4OFxi3"
   },
   "outputs": [],
   "source": [
    "#history = model.fit([x_tr,y_tr[:,:-1]], y_tr.reshape(y_tr.shape[0],y_tr.shape[1], 1)[:,1:] ,epochs=35,callbacks=[cp_callback],batch_size=64, validation_data=([x_val,y_val[:,:-1]], y_val.reshape(y_val.shape[0],y_val.shape[1], 1)[:,1:]))"
   ]
  },
  {
   "cell_type": "code",
   "execution_count": 75,
   "metadata": {
    "id": "hYSV57W7odPy"
   },
   "outputs": [],
   "source": [
    "#model.save_weights(\"bpe_model_35.h5\")"
   ]
  },
  {
   "cell_type": "code",
   "execution_count": 77,
   "metadata": {
    "id": "VoWrHWaaoiNe"
   },
   "outputs": [],
   "source": [
    "# from google.colab import files\n",
    "# files.download( \"/content/bpe_model_35.h5\" )"
   ]
  },
  {
   "cell_type": "markdown",
   "metadata": {
    "id": "bzu_bjLWe00l"
   },
   "source": [
    "Load weights of already trained model"
   ]
  },
  {
   "cell_type": "code",
   "execution_count": 78,
   "metadata": {
    "id": "WiiaIundHz0a"
   },
   "outputs": [],
   "source": [
    "#model.load_weights(\"bpe_model_35.h5\")"
   ]
  },
  {
   "cell_type": "markdown",
   "metadata": {
    "id": "0ezKYOp2UxG5"
   },
   "source": [
    "#Diagnostic plot\n"
   ]
  },
  {
   "cell_type": "code",
   "execution_count": 81,
   "metadata": {
    "colab": {
     "base_uri": "https://localhost:8080/",
     "height": 306
    },
    "id": "b48VI6G_l0N5",
    "outputId": "627164a6-24cf-4c82-dc78-9218ef6bd3fb"
   },
   "outputs": [
    {
     "data": {
      "image/png": "[encoded data removed]",
      "text/plain": [
       "<IPython.core.display.Image object>"
      ]
     },
     "metadata": {
      "image/png": {
       "width": 450
      },
      "tags": []
     },
     "output_type": "display_data"
    }
   ],
   "source": [
    "from matplotlib import pyplot\n",
    "pyplot.plot(history.history['loss'], label='train')\n",
    "pyplot.plot(history.history['val_loss'], label='test')\n",
    "pyplot.legend()\n",
    "pyplot.show()"
   ]
  },
  {
   "cell_type": "markdown",
   "metadata": {
    "id": "eM_nU_VvFxjq"
   },
   "source": [
    "# Inference\n",
    "\n",
    "Set up the inference for the encoder and decoder:"
   ]
  },
  {
   "cell_type": "code",
   "execution_count": 82,
   "metadata": {
    "id": "wkQe_2ThwEMv"
   },
   "outputs": [],
   "source": [
    "# Encode the input sequence to get the feature vector\n",
    "encoder_model = Model(inputs=encoder_inputs,outputs=[encoder_outputs, encoder_states])\n",
    "#encoder_model = Model(inputs=encoder_inputs,outputs= encoder_states )\n",
    "\n",
    "# Decoder setup\n",
    "# Below tensors will hold the states of the previous time step\n",
    "decoder_state_input_h = Input(shape=(latent_dim*2,))\n",
    "decoder_state_input_c = Input(shape=(latent_dim*2,))\n",
    "decoder_states_inputs = [decoder_state_input_h, decoder_state_input_c]\n",
    "\n",
    "decoder_hidden_state_input = Input(shape=(max_text_len,latent_dim*2))\n",
    "\n",
    "# Get the embeddings of the decoder sequence\n",
    "dec_emb2= dec_emb_layer(decoder_inputs) \n",
    "# To predict the next word in the sequence, set the initial states to the states from the previous time step\n",
    "decoder_outputs2, state_h2, state_c2  = decoder_lstm(dec_emb2, initial_state=decoder_states_inputs)\n",
    "\n",
    "#attention inference\n",
    "attn_out_inf, attn_states_inf = attn_layer([decoder_hidden_state_input, decoder_outputs2])\n",
    "decoder_inf_concat = Concatenate(axis=-1, name='concat')([decoder_outputs2, attn_out_inf])\n",
    "decoder_states = [state_h2, state_c2]\n",
    "# A dense softmax layer to generate prob dist. over the target vocabulary\n",
    "decoder_outputs2 = decoder_dense(decoder_inf_concat) \n",
    "\n",
    "# Final decoder model\n",
    "decoder_model = Model(\n",
    "    [decoder_inputs] + [decoder_hidden_state_input,decoder_states_inputs],\n",
    "    [decoder_outputs2] + [state_h2, state_c2])"
   ]
  },
  {
   "cell_type": "markdown",
   "metadata": {
    "id": "zOiyk4ToWe74"
   },
   "source": [
    "We are defining a function below which is the implementation of the inference process:"
   ]
  },
  {
   "cell_type": "code",
   "execution_count": 83,
   "metadata": {
    "id": "o-TZTKykhMDX"
   },
   "outputs": [],
   "source": [
    "def decode_sequence(input_seq):\n",
    "    # Encode the input as state vectors.\n",
    "    e_out, e_h, e_c = encoder_model.predict(input_seq)\n",
    "    \n",
    "    # Generate empty target sequence of length 1.\n",
    "    target_seq = np.zeros((1,1))\n",
    "    test=[]\n",
    "\n",
    "    stop_condition = False\n",
    "    decoded_sentence = ''\n",
    "    decoded_sentence_test = ''\n",
    "    k=0  \n",
    "     \n",
    "    while k<max_summary_len:\n",
    "        output_tokens, h, c = decoder_model.predict([target_seq] + [e_out, e_h, e_c])\n",
    "\n",
    "        # Sample a token\n",
    "        sampled_token_index = np.argmax(output_tokens[0, -1, :])\n",
    "\n",
    "        test.append(sampled_token_index)\n",
    "\n",
    "        # Update the target sequence (of length 1).\n",
    "        target_seq = np.zeros((1,1))\n",
    "        target_seq[0, 0] = sampled_token_index\n",
    "        k+=1\n",
    "        # Update internal states\n",
    "        e_h, e_c = h, c\n",
    "     \n",
    "    #decoded_sentence_test = y_tokenizer.decode(test[1:len(test)-1]) \n",
    "    new_output=[]\n",
    "    for i in test:\n",
    "         if (i!=0 ):\n",
    "           new_output.append(i)\n",
    "    \n",
    "    output = y_tokenizer.decode([new_output])\n",
    "    \n",
    "    \n",
    "    newString=''\n",
    "    for i in output[0].split(' '):\n",
    "         \n",
    "         if (i!='xl' and i!='xy' ):\n",
    "             newString=newString+i+' '\n",
    "    \n",
    "    return newString"
   ]
  },
  {
   "cell_type": "markdown",
   "metadata": {
    "id": "YqyG9kGCSZWC"
   },
   "source": [
    "Define decoder of stemmer "
   ]
  },
  {
   "cell_type": "code",
   "execution_count": 87,
   "metadata": {
    "id": "ahAwh61Rin84"
   },
   "outputs": [],
   "source": [
    "def decode_stemmer(stroka):\n",
    "  new_stroka=''\n",
    "  word=0\n",
    "  while word < len(stroka.split(' '))-1:\n",
    "    \n",
    "    if (stemm_dict[stroka.split(' ')[word]]!=[]):\n",
    "      if (stroka.split(' ')[word+1] in stemm_dict[stroka.split(' ')[word]]):\n",
    "         \n",
    "          new_word=stroka.split(' ')[word]+stroka.split(' ')[word+1]\n",
    "          new_stroka+=' ' + new_word\n",
    "          word+=1\n",
    "      else:\n",
    "          new_stroka+=' ' + stroka.split(' ')[word]\n",
    "    else:\n",
    "        new_stroka+=' ' + stroka.split(' ')[word]  \n",
    "    if (word==len(stroka.split(' '))-2):\n",
    "      new_stroka+=' ' + stroka.split(' ')[len(stroka.split(' '))-1]   \n",
    "    word+=1 \n",
    "  if (len(stroka.split(' '))==1):\n",
    "    new_stroka=stroka  \n",
    "\n",
    "  return new_stroka  \n"
   ]
  },
  {
   "cell_type": "markdown",
   "metadata": {
    "id": "6GuDf4TPWt6_"
   },
   "source": [
    "Let us define the functions to convert an integer sequence to a word sequence for summary as well as the reviews:"
   ]
  },
  {
   "cell_type": "code",
   "execution_count": 84,
   "metadata": {
    "id": "3qQLSP23e002"
   },
   "outputs": [],
   "source": [
    "def seq2summary(input_seq):\n",
    "    \n",
    "     new_input=[]\n",
    "     for i in range(len(input_seq)):\n",
    "         if (input_seq[i]!=0 ):\n",
    "           new_input.append(input_seq[i])\n",
    "     \n",
    "     output = y_tokenizer.decode([new_input]) \n",
    "     \n",
    "     newString=''\n",
    "     for i in output[0].split(' '):\n",
    "         \n",
    "         if (i!='xl' and i!='xy' ):\n",
    "             newString=newString+i+' '\n",
    "    \n",
    "     return newString\n",
    "\n",
    "def seq2text(input_seq):\n",
    "     new_input=[]\n",
    "     for i in input_seq:\n",
    "         \n",
    "         if (i!=0 ):\n",
    "           new_input.append(i)\n",
    "     return x_tokenizer.decode([new_input])"
   ]
  },
  {
   "cell_type": "code",
   "execution_count": 138,
   "metadata": {
    "colab": {
     "base_uri": "https://localhost:8080/",
     "height": 35
    },
    "id": "V1B_4HPWHyOR",
    "outputId": "0a44fac4-31a7-4ee2-ba75-1b20b98ffd7c"
   },
   "outputs": [
    {
     "data": {
      "application/vnd.google.colaboratory.intrinsic+json": {
       "type": "string"
      },
      "text/plain": [
       "' so far victims have come forward to describe the abuse they suffered '"
      ]
     },
     "execution_count": 138,
     "metadata": {
      "tags": []
     },
     "output_type": "execute_result"
    }
   ],
   "source": [
    "decode_stemmer(seq2summary(y_val[0]))"
   ]
  },
  {
   "cell_type": "markdown",
   "metadata": {
    "id": "9gM4ALyfWwA9"
   },
   "source": [
    "Here are a few summaries generated by the model:"
   ]
  },
  {
   "cell_type": "code",
   "execution_count": 88,
   "metadata": {
    "colab": {
     "base_uri": "https://localhost:8080/"
    },
    "id": "sIxZjHtYw_cC",
    "outputId": "d6e16d9a-d515-4b43-c290-05d8ec64cd6e"
   },
   "outputs": [
    {
     "name": "stdout",
     "output_type": "stream",
     "text": [
      "Review: ['one of the larger fire s in southern california was deliber ately start ed by someon e with appar ent knowledg e of arson a fire offici al said thursday firefight er luke perisin set s a backfir e wednesday against the santiago fire in live oak canyon california the santiago fire in orang e count y was start ed in two place s along a littletravel ed road accord ing to chief chip prather of the count ys fire author ity the fire which has burn ed more than acr es was start ed in brush just off santiago canyon road not close to home s it spread rapid ly indic ating the arsonist had some knowledg e of wind s and other factor s it is a confirm ed arson there was evid ence found at the scene that is the purpos e of our earl y declar ation of']\n",
      "Original summary:  santiago fire deliberately started in two places official says \n",
      "Predicted summary: new fire started by someone\n",
      "\n",
      "\n",
      "Review: ['ew for the third time this year follow ing strong open ings from the hunger game s and snow white and the huntsman a movi e with a tough femal e protagonist top ped the box offic e in a major way disneypixar s brave was right on target in it s debut weekend open ing to million the fifthbest debut ever for a pixar film and a faster start than last year s car s which open ed with million brave continu ed pixar s streak of number one debut s as all of the studio s releas es have reach ed the peak posit ion dur ing their first weekend of wide releas e girl s kick butt say s dave holli s disney s evp of distribut ion about the rise of the femal e action protagonist at the box offic e still he believ es that']\n",
      "Original summary:  brave led the pack at the box office over the weekend \n",
      "Predicted summary: brave debutted the latest film\n",
      "\n",
      "\n",
      "Review: ['afghanistan and sever al african nation s are the most at risk to have a food shortag e an organ ization that work s with the unit ed nation s said in a report thursday afghanistan was name d as the countr y with the most vulner able food suppl y accord ing to the stud y by maplecroft a britishbas ed research agenc y after afghanistan african nation s were on the rest of the top list in order the next were the democrat ic republ ic of congo burundi eritrea sudan ethiopia angola liberia chad and zimbabw e in all african nation s were of the top on the list subsaharan africa is particular ly vulner able to food insecur ity becaus e of the frequenc y of extrem e weather event s high rate s of povert y and fail ing infrastructur es the organ ization said maplecroft said']\n",
      "Original summary:  group works with the united nations \n",
      "Predicted summary: afghanistan is the country with the food shortage\n",
      "\n",
      "\n",
      "Review: ['without fir ing a shot isra eli prime minist er benjamin netanyahu has achiev ed remark able result s in his effort s to counter iran s nuclear program in littl e more than a year the prime minist er has manag ed to move the iran nuclear issu e to the top of the intern ational agenda to toughen sanction s and in an extraordinar y move to push us presid ent barack obama to strengthen american polic y so that prevent ing iran from acquir ing nuclear weapon s becam e the focus rather than just contain ing iran and it s nuclear program inde ed if you throw in republican challeng er mitt romney s unwilling ness to accept iran even hav ing the capac ity to produc e a nuke netanyahus record is even better but israel s polic y is approach ing a point of diminish ing return s by']\n",
      "Original summary:  aaron miller israeli pm netanyahu has scored some victories on iran nuclear program \n",
      "Predicted summary: benjamin netanyahu won irans nuclear program\n",
      "\n",
      "\n",
      "Review: ['oh bob dylan how can the life of such a man be in the palm of some advertis ers hand be sure to sing that first line to the tune of dylan s classic song hurrican e and youll get wh y it fit s the music al icon stir red a bit of a ruckus on social media sunday night after he appear ed in a super bowl commerci al for chrysler while anoth er for chobani yogurt featur ed his music the term of choic e sellout im sorr y young bob dylan would vomit in the mouth of old bob dylan for mak ing car commerci als especi ally jingoist ic one s said one twitter user the chrysler ad includ ed dylan ask ing is there anyth ing more american than america anoth er tweet ed that bob dylan']\n",
      "Original summary:  bob dylan narrated and appeared in a chrysler ad during the super bowl \n",
      "Predicted summary: bob dylan appeared  in a commercial chrysler\n",
      "\n",
      "\n",
      "Review: ['a spokeswoman for jame s clapper said the embattl ed director of nation al intellig ence stand s by remark s he made thursday about the current militar y situat ion in libya that prompt ed a lead ing republican senat or to call for his resign ation the obama administr ation also said clapper still has it s full faith and confid ence sen lindsey graham rsouth carolina a member of the senat e arm ed servic es committe e issu ed a statement critic izing clapper s testimon y made dur ing a committe e hear ing earlier in the day that moammar gadhafi s regim e would prevail over rebel s seek ing to oust the dictat or from power in libya his comment s will make the situat ion more difficult for those oppos ing gadhafi said graham ad ding they undercut us effort s and should not have been made in']\n",
      "Original summary:  new spokeswoman says clapper is standing by his comments on libya \n",
      "Predicted summary: clapper confirms his comments about libya\n",
      "\n",
      "\n",
      "Review: ['brandt snedek er step ped up his bid to win the fedex cup playoff s with a superb sixund er at east lake s saturday to share the third round lead with england s justin rose at the tour championship ryder cup wildcard pick snedek er was one of five player s stand ings leader ror y mcilroy tiger wood s phil mickelson and nick watney the other s who came to atlanta know ing that the million bonus payout was their s with victor y come sunday world mcilroy card ed a battl ing to share fourth place on fiveund er with halfway leader jim furyk and master s champion bubba watson the northern irishman made a crucial par sav ing putt on the to stay in touch with the leader s go ing into the last day i want ed to']\n",
      "Original summary:  brandt snedeker and justin rose share third round lead in atlanta \n",
      "Predicted summary: rory mcilroy wins second round of the world\n",
      "\n",
      "\n",
      "Review: ['cnnpasseng ers in an oregonbound flight got a creepycrawl y surpris e this weekend a scorpion the alaska airlin es flight head ed to portland return ed to los angel es on saturday after a woman report ed she was stung by the eightleg ged anim al medic al personnel respond ed and treat ed the woman who was stung on the arm said cole cosgrov e an airlin e spokesman she declin ed addit ional medic al attent ion no one seem ed frantic at all not even the woman who was stung the flight attend ants did a great job as did the captain said mike parker a sport s announc er for oregon state univers ity who was aboard the flight airlin e offici als said it s unclear how the scorpion made it s way on the flight which origin ated from los cabo s mexico']\n",
      "Original summary:  the alaska airlines flight was headed to portland oregon \n",
      "Predicted summary: the alaska airlies flight was returned to los angeles\n",
      "\n",
      "\n",
      "Review: ['real housew ives of new jersey star s teresa and joe giudic e face new bank fraud charg es the realit y tv coupl e could spend decad es in prison if convict ed on the count s alleg ed in an indict ment return ed by a feder al grand jur y in new jersey the giudic es alleg edly fake d document s and lie d on applic ations to get more than million in loan s over eight year s befor e they join ed the the real housew ives of new jersey cast in they both enter ed not guilt y plea s in august to the origin al count s includ ing conspirac y to commit mail and wire fraud bank fraud mak ing fals e statement s on loan applic ations and bankruptc y fraud the husband and wife are due in court in newark for the ad ded charg es on wednesday']\n",
      "Original summary:  teresa and joe giudice could spend decades in prison if convicted \n",
      "Predicted summary: new yorks attorney says teresa convicted\n",
      "\n",
      "\n",
      "Review: ['cnnyou know the phrase dodg ing a bullet forget about it probabl y not go ing to happen anymor e the us militar y said this week it has made great progress in it s effort to develop a selfsteer ing bullet in februar y the smart bullet s projectil es equip ped with optic al sensor s pass ed their most success ful round of livefir e test s to date accord ing to the defens e advanc ed research project s agenc y or darpa in the test s an experienc ed marksman repeat edly hit mov ing and evad ing target s a darpa statement said addit ionally the statement said a novic e shooter us ing the system for the first time hit a mov ing target in other word s now you dont even have to be a good shot to hit the mark the system has been']\n",
      "Original summary:  bullets equipped with optical sensors can follow moving targets \n",
      "Predicted summary: bullets\n",
      "\n",
      "\n",
      "Review: ['budgettravelcom when american s think of five star hotel s they conjur e up imag es of onsit e spas whiteglov ed servic e and pillow menus that s no surpris e given that the domin ant rat ing system s in the us are two of the most trustworth y on the planet forb es and aaa in order to snag forbess highest rat ings for exampl e a hotel s staff must meet criteria such as greet ing arriv ing guest s curbsid e within second s and offer ing tast ing sampl es to drinker s order ing wine by the glass in ital y on the other hand where the rat ing system is govern ment own ed and oper ated all it take s to score five star s is a recept ion desk receptionist s that speak three foreign languag es and doubl e room s start ing at squar e feet budget travel gorgeous']\n",
      "Original summary:  hotel scoring systems vary from country to country \n",
      "Predicted summary: hotels in usa have best scoring systems\n",
      "\n",
      "\n"
     ]
    }
   ],
   "source": [
    " \n",
    "for i in range(0,10):\n",
    "    print(\"Review:\",seq2text(x_val[i]))\n",
    "    print(\"Original summary:\",decode_stemmer(seq2summary(y_val[i])))\n",
    "    print(\"Predicted summary:\",decode_stemmer(decode_sequence(x_val[i].reshape(1,max_text_len))))\n",
    "    print(\"\\n\")    "
   ]
  },
  {
   "cell_type": "markdown",
   "metadata": {
    "id": "OTkaYNjHW4lC"
   },
   "source": [
    "### Preparation for using metric Rouge"
   ]
  },
  {
   "cell_type": "markdown",
   "metadata": {
    "id": "RtSKJy-Oe007"
   },
   "source": [
    "Make the dataframe with original and predicted summaries"
   ]
  },
  {
   "cell_type": "code",
   "execution_count": 89,
   "metadata": {
    "id": "3Flgdd75e007"
   },
   "outputs": [],
   "source": [
    "original_summary = []\n",
    "predicted_summary = []"
   ]
  },
  {
   "cell_type": "code",
   "execution_count": 90,
   "metadata": {
    "id": "hWpTL3sxwV3F"
   },
   "outputs": [],
   "source": [
    "for i in range(len(y_val)):\n",
    "    original_summary.append(decode_stemmer(seq2summary(y_val[i])))"
   ]
  },
  {
   "cell_type": "code",
   "execution_count": 91,
   "metadata": {
    "id": "DktyY93Ce00_"
   },
   "outputs": [],
   "source": [
    "for i in range(len(original_summary)):\n",
    "    original_summary[i] = re.sub('<s>','', original_summary[i])\n",
    "    original_summary[i] = re.sub('<s','', original_summary[i])\n",
    "    original_summary[i] = re.sub('xy','', original_summary[i])\n",
    "    original_summary[i] = re.sub('<','', original_summary[i])\n",
    "    original_summary[i] = original_summary[i].strip()"
   ]
  },
  {
   "cell_type": "code",
   "execution_count": 92,
   "metadata": {
    "colab": {
     "base_uri": "https://localhost:8080/"
    },
    "id": "1AIeHOoTe01A",
    "outputId": "d147bee3-6311-48cc-f1cd-8f1508b042f4"
   },
   "outputs": [
    {
     "data": {
      "text/plain": [
       "['so far victims have come forward to describe the abuse they suffered',\n",
       " 'laurent koscielny released by france to return to arsenal for treatment',\n",
       " 'the princess royal chatted to team members before kickoff',\n",
       " 'judy murray in talks to appear in the next series of strictly come dancing',\n",
       " 'the floating hotel concept has been developed by a finnish architects firm']"
      ]
     },
     "execution_count": 92,
     "metadata": {
      "tags": []
     },
     "output_type": "execute_result"
    }
   ],
   "source": [
    "original_summary[:5]"
   ]
  },
  {
   "cell_type": "code",
   "execution_count": 93,
   "metadata": {
    "id": "Gt6nCg9ie01B"
   },
   "outputs": [],
   "source": [
    "for i in range(len(y_val)):\n",
    "    predicted_summary.append(decode_stemmer(decode_sequence(x_val[i].reshape(1,max_text_len))))"
   ]
  },
  {
   "cell_type": "code",
   "execution_count": 94,
   "metadata": {
    "id": "yWoF2sMMe01D"
   },
   "outputs": [],
   "source": [
    "for i in range(len(predicted_summary)):\n",
    "    predicted_summary[i] = re.sub('<s>','', predicted_summary[i])\n",
    "    predicted_summary[i] = re.sub('<s','', predicted_summary[i])\n",
    "    predicted_summary[i] = re.sub('xy','', predicted_summary[i])\n",
    "    predicted_summary[i] = re.sub('<','', predicted_summary[i])\n",
    "    predicted_summary[i] = predicted_summary[i].strip()"
   ]
  },
  {
   "cell_type": "code",
   "execution_count": 95,
   "metadata": {
    "id": "DTDgAy51e01G"
   },
   "outputs": [],
   "source": [
    "dataframe = pd.DataFrame({'original_summary': original_summary, 'predicted_summary':predicted_summary})"
   ]
  },
  {
   "cell_type": "markdown",
   "metadata": {
    "id": "uK25N3KNe01I"
   },
   "source": [
    "Delete empty predictions"
   ]
  },
  {
   "cell_type": "code",
   "execution_count": 178,
   "metadata": {
    "colab": {
     "base_uri": "https://localhost:8080/"
    },
    "id": "_CBSaNqxe01I",
    "outputId": "324889fd-4cbe-4b3b-d3fa-1f14c0126f22"
   },
   "outputs": [
    {
     "data": {
      "text/plain": [
       "(array([], dtype=int64),)"
      ]
     },
     "execution_count": 178,
     "metadata": {
      "tags": []
     },
     "output_type": "execute_result"
    }
   ],
   "source": [
    "np.where(dataframe['predicted_summary']=='')"
   ]
  },
  {
   "cell_type": "code",
   "execution_count": 179,
   "metadata": {
    "colab": {
     "base_uri": "https://localhost:8080/"
    },
    "id": "dCKiT8-we01K",
    "outputId": "b634089a-702f-49b0-bac3-fc666f9e2b1f"
   },
   "outputs": [
    {
     "data": {
      "text/plain": [
       "(array([], dtype=int64),)"
      ]
     },
     "execution_count": 179,
     "metadata": {
      "tags": []
     },
     "output_type": "execute_result"
    }
   ],
   "source": [
    "np.where(dataframe['original_summary']=='')"
   ]
  },
  {
   "cell_type": "code",
   "execution_count": 180,
   "metadata": {
    "id": "ZEFUHoYye01L"
   },
   "outputs": [],
   "source": [
    "dataframe = dataframe.drop(np.where(dataframe['predicted_summary']=='')[0])"
   ]
  },
  {
   "cell_type": "code",
   "execution_count": 181,
   "metadata": {
    "id": "BltvIaZUe01N"
   },
   "outputs": [],
   "source": [
    "dataframe = dataframe.reset_index(drop=True)"
   ]
  },
  {
   "cell_type": "code",
   "execution_count": 96,
   "metadata": {
    "colab": {
     "base_uri": "https://localhost:8080/"
    },
    "id": "lh9Irgsse01O",
    "outputId": "59d0939b-6c9b-4d32-c87a-28752050a1ec"
   },
   "outputs": [
    {
     "data": {
      "text/plain": [
       "(30883, 2)"
      ]
     },
     "execution_count": 96,
     "metadata": {
      "tags": []
     },
     "output_type": "execute_result"
    }
   ],
   "source": [
    "dataframe.shape"
   ]
  },
  {
   "cell_type": "code",
   "execution_count": null,
   "metadata": {
    "id": "otq9AWxle01Q"
   },
   "outputs": [],
   "source": [
    "dataframe.to_csv('predictions_cnn_without_empty.csv')"
   ]
  },
  {
   "cell_type": "markdown",
   "metadata": {
    "id": "XZre-y0Ve01S"
   },
   "source": [
    "Create two folders with txt original and predicted summaries"
   ]
  },
  {
   "cell_type": "code",
   "execution_count": null,
   "metadata": {
    "id": "PrG8k0tIe01S"
   },
   "outputs": [],
   "source": [
    "for i in range(len(dataframe)):\n",
    "    \n",
    "    f = open('original_cnn/original_summary' + str(i) + '.txt', 'w', encoding=\"utf-8\")\n",
    "    f.write(dataframe['original_summary'][i])"
   ]
  },
  {
   "cell_type": "code",
   "execution_count": null,
   "metadata": {
    "id": "Yg4C2Htme01V"
   },
   "outputs": [],
   "source": [
    "for i in range(len(dataframe)):\n",
    "    \n",
    "    f = open('predicted_cnn/predicted_summary' + str(i) + '.txt', 'w', encoding=\"utf-8\")\n",
    "    f.write(dataframe['predicted_summary'][i])"
   ]
  },
  {
   "cell_type": "markdown",
   "metadata": {
    "id": "DCdj5NwDe01W"
   },
   "source": [
    "Import pyrouge"
   ]
  },
  {
   "cell_type": "code",
   "execution_count": 2,
   "metadata": {
    "id": "cJxFUskUe01W"
   },
   "outputs": [],
   "source": [
    "from pyrouge import Rouge155"
   ]
  },
  {
   "cell_type": "code",
   "execution_count": 3,
   "metadata": {
    "id": "BXZrG3jXe01X",
    "outputId": "256136d1-c12c-49f9-cb07-4aa9848bcbf0"
   },
   "outputs": [
    {
     "name": "stderr",
     "output_type": "stream",
     "text": [
      "2020-10-31 16:34:29,089 [MainThread  ] [INFO ]  Set ROUGE home directory to C:/Users/Margarita/pyrouge/rouge/tools/ROUGE-1.5.5.\n"
     ]
    }
   ],
   "source": [
    "r = Rouge155('C:/Users/Margarita/pyrouge/rouge/tools/ROUGE-1.5.5')"
   ]
  },
  {
   "cell_type": "code",
   "execution_count": 4,
   "metadata": {
    "id": "-Mk2vOQ9e01Y"
   },
   "outputs": [],
   "source": [
    "r.system_dir = 'C:/Users/Margarita/Documents/bpe_dropout/How-to-build-own-text-summarizer-using-deep-learning-master/original_3110_2' # Summaries to score against.\n",
    "r.model_dir = 'C:/Users/Margarita/Documents/bpe_dropout/How-to-build-own-text-summarizer-using-deep-learning-master/predicted_3110_2'  # Summaries generated by the model\n"
   ]
  },
  {
   "cell_type": "code",
   "execution_count": 5,
   "metadata": {
    "id": "6NeibBnCe01Z"
   },
   "outputs": [],
   "source": [
    "r.system_filename_pattern = 'original_summary(\\d+).txt'\n",
    "r.model_filename_pattern = 'predicted_summary#ID#.txt'"
   ]
  },
  {
   "cell_type": "code",
   "execution_count": 8,
   "metadata": {
    "id": "6JZm_sSOe01a"
   },
   "outputs": [],
   "source": [
    "#output = r.convert_and_evaluate()"
   ]
  },
  {
   "cell_type": "code",
   "execution_count": 7,
   "metadata": {
    "id": "uR5o7LiJlldV"
   },
   "outputs": [
    {
     "name": "stdout",
     "output_type": "stream",
     "text": [
      "---------------------------------------------\r\n",
      "1 ROUGE-1 Average_R: 0.27801 (95%-conf.int. 0.27076 - 0.28503)\r\n",
      "1 ROUGE-1 Average_P: 0.23275 (95%-conf.int. 0.22597 - 0.23948)\r\n",
      "1 ROUGE-1 Average_F: 0.24182 (95%-conf.int. 0.23527 - 0.24822)\r\n",
      "---------------------------------------------\r\n",
      "1 ROUGE-2 Average_R: 0.10877 (95%-conf.int. 0.10291 - 0.11471)\r\n",
      "1 ROUGE-2 Average_P: 0.09778 (95%-conf.int. 0.09249 - 0.10347)\r\n",
      "1 ROUGE-2 Average_F: 0.09986 (95%-conf.int. 0.09435 - 0.10548)\r\n",
      "---------------------------------------------\r\n",
      "1 ROUGE-3 Average_R: 0.05012 (95%-conf.int. 0.04570 - 0.05454)\r\n",
      "1 ROUGE-3 Average_P: 0.04866 (95%-conf.int. 0.04434 - 0.05292)\r\n",
      "1 ROUGE-3 Average_F: 0.04901 (95%-conf.int. 0.04468 - 0.05322)\r\n",
      "---------------------------------------------\r\n",
      "1 ROUGE-4 Average_R: 0.04105 (95%-conf.int. 0.03712 - 0.04513)\r\n",
      "1 ROUGE-4 Average_P: 0.04089 (95%-conf.int. 0.03699 - 0.04500)\r\n",
      "1 ROUGE-4 Average_F: 0.04092 (95%-conf.int. 0.03705 - 0.04501)\r\n",
      "---------------------------------------------\r\n",
      "1 ROUGE-L Average_R: 0.27665 (95%-conf.int. 0.26948 - 0.28364)\r\n",
      "1 ROUGE-L Average_P: 0.23187 (95%-conf.int. 0.22522 - 0.23852)\r\n",
      "1 ROUGE-L Average_F: 0.24078 (95%-conf.int. 0.23425 - 0.24712)\r\n",
      "---------------------------------------------\r\n",
      "1 ROUGE-W-1.2 Average_R: 0.23611 (95%-conf.int. 0.22978 - 0.24221)\r\n",
      "1 ROUGE-W-1.2 Average_P: 0.23131 (95%-conf.int. 0.22474 - 0.23795)\r\n",
      "1 ROUGE-W-1.2 Average_F: 0.21961 (95%-conf.int. 0.21361 - 0.22527)\r\n",
      "---------------------------------------------\r\n",
      "1 ROUGE-S* Average_R: 0.11587 (95%-conf.int. 0.11013 - 0.12201)\r\n",
      "1 ROUGE-S* Average_P: 0.09706 (95%-conf.int. 0.09177 - 0.10261)\r\n",
      "1 ROUGE-S* Average_F: 0.09815 (95%-conf.int. 0.09270 - 0.10362)\r\n",
      "---------------------------------------------\r\n",
      "1 ROUGE-SU* Average_R: 0.15426 (95%-conf.int. 0.14805 - 0.16034)\r\n",
      "1 ROUGE-SU* Average_P: 0.12658 (95%-conf.int. 0.12108 - 0.13215)\r\n",
      "1 ROUGE-SU* Average_F: 0.12831 (95%-conf.int. 0.12295 - 0.13378)\r\n",
      "\n"
     ]
    }
   ],
   "source": [
    "print(output)"
   ]
  }
 ],
 "metadata": {
  "accelerator": "GPU",
  "colab": {
   "collapsed_sections": [],
   "machine_shape": "hm",
   "name": "3010_hope.ipynb",
   "provenance": [],
   "toc_visible": true
  },
  "kernelspec": {
   "display_name": "Python 3",
   "language": "python",
   "name": "python3"
  },
  "language_info": {
   "codemirror_mode": {
    "name": "ipython",
    "version": 3
   },
   "file_extension": ".py",
   "mimetype": "text/x-python",
   "name": "python",
   "nbconvert_exporter": "python",
   "pygments_lexer": "ipython3",
   "version": "3.7.7"
  }
 },
 "nbformat": 4,
 "nbformat_minor": 1
}
